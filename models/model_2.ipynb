{
 "metadata": {
  "kernelspec": {
   "display_name": "Python 3",
   "language": "python",
   "name": "python3"
  },
  "language_info": {
   "name": "python",
   "version": "3.10.13",
   "mimetype": "text/x-python",
   "codemirror_mode": {
    "name": "ipython",
    "version": 3
   },
   "pygments_lexer": "ipython3",
   "nbconvert_exporter": "python",
   "file_extension": ".py"
  },
  "kaggle": {
   "accelerator": "nvidiaTeslaT4",
   "dataSources": [
    {
     "sourceId": 8110777,
     "sourceType": "datasetVersion",
     "datasetId": 4791184
    },
    {
     "sourceId": 8110782,
     "sourceType": "datasetVersion",
     "datasetId": 4791188
    },
    {
     "sourceId": 8110785,
     "sourceType": "datasetVersion",
     "datasetId": 4791191
    }
   ],
   "dockerImageVersionId": 30683,
   "isInternetEnabled": true,
   "language": "python",
   "sourceType": "notebook",
   "isGpuEnabled": true
  }
 },
 "nbformat_minor": 5,
 "nbformat": 4,
 "cells": [
  {
   "cell_type": "code",
   "source": [
    "import pandas as pd\n",
    "import numpy as np\n",
    "from sklearn.preprocessing import LabelEncoder\n",
    "from keras.models import Sequential\n",
    "from keras.layers import LSTM, Dense, Dropout\n",
    "from keras.optimizers import Adam\n",
    "\n",
    "from keras.callbacks import EarlyStopping\n"
   ],
   "metadata": {
    "ExecuteTime": {
     "end_time": "2024-04-13T18:17:55.781743Z",
     "start_time": "2024-04-13T18:17:55.774973Z"
    },
    "execution": {
     "iopub.status.busy": "2024-04-13T18:35:25.906629Z",
     "iopub.execute_input": "2024-04-13T18:35:25.907264Z",
     "iopub.status.idle": "2024-04-13T18:35:25.914850Z",
     "shell.execute_reply.started": "2024-04-13T18:35:25.907214Z",
     "shell.execute_reply": "2024-04-13T18:35:25.913567Z"
    },
    "trusted": true
   },
   "execution_count": 21,
   "outputs": [],
   "id": "1b002cdcd1292d48"
  },
  {
   "cell_type": "code",
   "source": [
    "X_train_all = []\n",
    "y_train_all = []\n",
    "\n",
    "train_files = ['/kaggle/input/test-anomaly/0.csv',\n",
    "               '/kaggle/input/test-anomaly//2.csv',\n",
    "               '/kaggle/input/test-anomaly/3.csv',\n",
    "               '/kaggle/input/test-anomaly/4.csv',\n",
    "               '/kaggle/input/test-anomaly/5.csv',\n",
    "               \n",
    "               '/kaggle/input/train-normal/0.csv',\n",
    "               '/kaggle/input/train-normal/1.csv',\n",
    "               '/kaggle/input/train-normal/2.csv',\n",
    "               '/kaggle/input/train-normal/3.csv',\n",
    "               '/kaggle/input/train-normal/4.csv',\n",
    "               '/kaggle/input/train-normal/5.csv',\n",
    "               '/kaggle/input/train-normal/6.csv',\n",
    "               '/kaggle/input/train-normal/7.csv',\n",
    "               '/kaggle/input/train-normal/8.csv']\n",
    "for file in train_files:\n",
    "    train_df = pd.read_csv(file)\n",
    "    label_encoder = LabelEncoder()\n",
    "    train_df['type_encoded'] = label_encoder.fit_transform(train_df['type'])\n",
    "    X_train_all.append(train_df[['time_pos', 'type_encoded', 'byte_pos', 'size']].values)\n",
    "    y_train_all.append(train_df[['is_normal', 'has_move', 'has_blur', 'has_block', 'has_overexposure']].values)\n",
    "\n",
    "X_train = np.concatenate(X_train_all)\n",
    "y_train = np.concatenate(y_train_all)\n"
   ],
   "metadata": {
    "collapsed": false,
    "ExecuteTime": {
     "end_time": "2024-04-13T18:17:56.090885Z",
     "start_time": "2024-04-13T18:17:55.973931Z"
    },
    "execution": {
     "iopub.status.busy": "2024-04-13T18:36:57.153942Z",
     "iopub.execute_input": "2024-04-13T18:36:57.154779Z",
     "iopub.status.idle": "2024-04-13T18:36:57.406547Z",
     "shell.execute_reply.started": "2024-04-13T18:36:57.154747Z",
     "shell.execute_reply": "2024-04-13T18:36:57.405794Z"
    },
    "trusted": true
   },
   "execution_count": 26,
   "outputs": [],
   "id": "615c0c4f30ac03fe"
  },
  {
   "cell_type": "code",
   "source": [
    "model = Sequential()\n",
    "model.add(LSTM(64, input_shape=(X_train.shape[1], 1)))\n",
    "model.add(Dropout(0.2))\n",
    "model.add(Dense(5, activation='softmax')) "
   ],
   "metadata": {
    "collapsed": false,
    "ExecuteTime": {
     "end_time": "2024-04-13T18:18:00.384201Z",
     "start_time": "2024-04-13T18:18:00.347502Z"
    },
    "execution": {
     "iopub.status.busy": "2024-04-13T18:36:58.143496Z",
     "iopub.execute_input": "2024-04-13T18:36:58.143831Z",
     "iopub.status.idle": "2024-04-13T18:36:58.186940Z",
     "shell.execute_reply.started": "2024-04-13T18:36:58.143806Z",
     "shell.execute_reply": "2024-04-13T18:36:58.186101Z"
    },
    "trusted": true
   },
   "execution_count": 27,
   "outputs": [
    {
     "name": "stderr",
     "text": "/opt/conda/lib/python3.10/site-packages/keras/src/layers/rnn/rnn.py:204: UserWarning: Do not pass an `input_shape`/`input_dim` argument to a layer. When using Sequential models, prefer using an `Input(shape)` object as the first layer in the model instead.\n  super().__init__(**kwargs)\n",
     "output_type": "stream"
    }
   ],
   "id": "115ab04854136855"
  },
  {
   "cell_type": "code",
   "source": [
    "optimizer = Adam(learning_rate=0.001)\n",
    "model.compile(loss='categorical_crossentropy', optimizer=optimizer, metrics=['accuracy'])\n",
    "early_stopping = EarlyStopping(monitor='val_loss', patience=3, restore_best_weights=True)"
   ],
   "metadata": {
    "collapsed": false,
    "ExecuteTime": {
     "end_time": "2024-04-13T18:18:01.705339Z",
     "start_time": "2024-04-13T18:18:01.699843Z"
    },
    "execution": {
     "iopub.status.busy": "2024-04-13T18:36:59.373192Z",
     "iopub.execute_input": "2024-04-13T18:36:59.373705Z",
     "iopub.status.idle": "2024-04-13T18:36:59.385254Z",
     "shell.execute_reply.started": "2024-04-13T18:36:59.373663Z",
     "shell.execute_reply": "2024-04-13T18:36:59.384103Z"
    },
    "trusted": true
   },
   "execution_count": 28,
   "outputs": [],
   "id": "b22c8e3fb07f430f"
  },
  {
   "cell_type": "code",
   "source": [
    "test_files = ['/kaggle/input/meta-test/1.mp4.csv',\n",
    "              '/kaggle/input/meta-test/2.mp4.csv',\n",
    "              '/kaggle/input/meta-test/3.mp4.csv',\n",
    "              '/kaggle/input/meta-test/4.mp4.csv',\n",
    "              '/kaggle/input/meta-test/5.mp4.csv'] \n",
    "for file in test_files:\n",
    "    test_df = pd.read_csv(file)\n",
    "    test_df['type_encoded'] = label_encoder.transform(test_df['type'])\n",
    "    X_test = test_df[['time_pos', 'type_encoded', 'byte_pos', 'size']].values\n",
    "    y_test = test_df[['is_normal', 'has_move', 'has_blur', 'has_block', 'has_overexposure']].values\n",
    "    \n",
    "    X_train_reshaped = X_train.reshape((X_train.shape[0], X_train.shape[1], 1))\n",
    "    X_test_reshaped = X_test.reshape((X_test.shape[0], X_test.shape[1], 1))\n",
    "\n",
    "    history = model.fit(X_train, y_train, epochs=30, batch_size=32, validation_data=(X_test, y_test), verbose=1, callbacks=[early_stopping])\n",
    "\n",
    "loss, accuracy = model.evaluate(X_test_reshaped, y_test)\n",
    "print(\"Test Accuracy:\", accuracy)"
   ],
   "metadata": {
    "collapsed": false,
    "is_executing": true,
    "ExecuteTime": {
     "start_time": "2024-04-13T18:18:19.054700Z"
    },
    "execution": {
     "iopub.status.busy": "2024-04-13T18:37:00.277051Z",
     "iopub.execute_input": "2024-04-13T18:37:00.277878Z",
     "iopub.status.idle": "2024-04-13T18:43:51.517598Z",
     "shell.execute_reply.started": "2024-04-13T18:37:00.277838Z",
     "shell.execute_reply": "2024-04-13T18:43:51.516449Z"
    },
    "trusted": true
   },
   "execution_count": 29,
   "outputs": [
    {
     "name": "stdout",
     "text": "Epoch 1/30\n\u001B[1m4936/4936\u001B[0m \u001B[32m━━━━━━━━━━━━━━━━━━━━\u001B[0m\u001B[37m\u001B[0m \u001B[1m19s\u001B[0m 4ms/step - accuracy: 0.8693 - loss: 0.5352 - val_accuracy: 0.5838 - val_loss: 1.4135\nEpoch 2/30\n\u001B[1m4936/4936\u001B[0m \u001B[32m━━━━━━━━━━━━━━━━━━━━\u001B[0m\u001B[37m\u001B[0m \u001B[1m18s\u001B[0m 4ms/step - accuracy: 0.8776 - loss: 0.4993 - val_accuracy: 0.5838 - val_loss: 1.5041\nEpoch 3/30\n\u001B[1m4936/4936\u001B[0m \u001B[32m━━━━━━━━━━━━━━━━━━━━\u001B[0m\u001B[37m\u001B[0m \u001B[1m18s\u001B[0m 4ms/step - accuracy: 0.8789 - loss: 0.5014 - val_accuracy: 0.5838 - val_loss: 1.4873\nEpoch 4/30\n\u001B[1m4936/4936\u001B[0m \u001B[32m━━━━━━━━━━━━━━━━━━━━\u001B[0m\u001B[37m\u001B[0m \u001B[1m18s\u001B[0m 4ms/step - accuracy: 0.8775 - loss: 0.5028 - val_accuracy: 0.5838 - val_loss: 1.4161\nEpoch 1/30\n\u001B[1m4936/4936\u001B[0m \u001B[32m━━━━━━━━━━━━━━━━━━━━\u001B[0m\u001B[37m\u001B[0m \u001B[1m18s\u001B[0m 4ms/step - accuracy: 0.8780 - loss: 0.5035 - val_accuracy: 0.8667 - val_loss: 1.2256\nEpoch 2/30\n\u001B[1m4936/4936\u001B[0m \u001B[32m━━━━━━━━━━━━━━━━━━━━\u001B[0m\u001B[37m\u001B[0m \u001B[1m18s\u001B[0m 4ms/step - accuracy: 0.8789 - loss: 0.4880 - val_accuracy: 0.8667 - val_loss: 1.2667\nEpoch 3/30\n\u001B[1m4936/4936\u001B[0m \u001B[32m━━━━━━━━━━━━━━━━━━━━\u001B[0m\u001B[37m\u001B[0m \u001B[1m18s\u001B[0m 4ms/step - accuracy: 0.8784 - loss: 0.4996 - val_accuracy: 0.8667 - val_loss: 1.2670\nEpoch 4/30\n\u001B[1m4936/4936\u001B[0m \u001B[32m━━━━━━━━━━━━━━━━━━━━\u001B[0m\u001B[37m\u001B[0m \u001B[1m17s\u001B[0m 4ms/step - accuracy: 0.8783 - loss: 0.4979 - val_accuracy: 0.8667 - val_loss: 1.2560\nEpoch 1/30\n\u001B[1m4936/4936\u001B[0m \u001B[32m━━━━━━━━━━━━━━━━━━━━\u001B[0m\u001B[37m\u001B[0m \u001B[1m18s\u001B[0m 4ms/step - accuracy: 0.8792 - loss: 0.4971 - val_accuracy: 0.8862 - val_loss: 0.8717\nEpoch 2/30\n\u001B[1m4936/4936\u001B[0m \u001B[32m━━━━━━━━━━━━━━━━━━━━\u001B[0m\u001B[37m\u001B[0m \u001B[1m18s\u001B[0m 4ms/step - accuracy: 0.8823 - loss: 0.4589 - val_accuracy: 0.8862 - val_loss: 0.8343\nEpoch 3/30\n\u001B[1m4936/4936\u001B[0m \u001B[32m━━━━━━━━━━━━━━━━━━━━\u001B[0m\u001B[37m\u001B[0m \u001B[1m18s\u001B[0m 4ms/step - accuracy: 0.8827 - loss: 0.4592 - val_accuracy: 0.8862 - val_loss: 0.7325\nEpoch 4/30\n\u001B[1m4936/4936\u001B[0m \u001B[32m━━━━━━━━━━━━━━━━━━━━\u001B[0m\u001B[37m\u001B[0m \u001B[1m17s\u001B[0m 4ms/step - accuracy: 0.8834 - loss: 0.4557 - val_accuracy: 0.8861 - val_loss: 0.7995\nEpoch 5/30\n\u001B[1m4936/4936\u001B[0m \u001B[32m━━━━━━━━━━━━━━━━━━━━\u001B[0m\u001B[37m\u001B[0m \u001B[1m18s\u001B[0m 4ms/step - accuracy: 0.8836 - loss: 0.4540 - val_accuracy: 0.8861 - val_loss: 0.8354\nEpoch 6/30\n\u001B[1m4936/4936\u001B[0m \u001B[32m━━━━━━━━━━━━━━━━━━━━\u001B[0m\u001B[37m\u001B[0m \u001B[1m18s\u001B[0m 4ms/step - accuracy: 0.8841 - loss: 0.4528 - val_accuracy: 0.8861 - val_loss: 0.9228\nEpoch 1/30\n\u001B[1m4936/4936\u001B[0m \u001B[32m━━━━━━━━━━━━━━━━━━━━\u001B[0m\u001B[37m\u001B[0m \u001B[1m18s\u001B[0m 4ms/step - accuracy: 0.8845 - loss: 0.4529 - val_accuracy: 0.9057 - val_loss: 0.7599\nEpoch 2/30\n\u001B[1m4936/4936\u001B[0m \u001B[32m━━━━━━━━━━━━━━━━━━━━\u001B[0m\u001B[37m\u001B[0m \u001B[1m18s\u001B[0m 4ms/step - accuracy: 0.8849 - loss: 0.4530 - val_accuracy: 0.9057 - val_loss: 0.7275\nEpoch 3/30\n\u001B[1m4936/4936\u001B[0m \u001B[32m━━━━━━━━━━━━━━━━━━━━\u001B[0m\u001B[37m\u001B[0m \u001B[1m17s\u001B[0m 4ms/step - accuracy: 0.8838 - loss: 0.4537 - val_accuracy: 0.9057 - val_loss: 0.6490\nEpoch 4/30\n\u001B[1m4936/4936\u001B[0m \u001B[32m━━━━━━━━━━━━━━━━━━━━\u001B[0m\u001B[37m\u001B[0m \u001B[1m18s\u001B[0m 4ms/step - accuracy: 0.8866 - loss: 0.4469 - val_accuracy: 0.9057 - val_loss: 0.8796\nEpoch 5/30\n\u001B[1m4936/4936\u001B[0m \u001B[32m━━━━━━━━━━━━━━━━━━━━\u001B[0m\u001B[37m\u001B[0m \u001B[1m18s\u001B[0m 4ms/step - accuracy: 0.8847 - loss: 0.4530 - val_accuracy: 0.9057 - val_loss: 0.7256\nEpoch 6/30\n\u001B[1m4936/4936\u001B[0m \u001B[32m━━━━━━━━━━━━━━━━━━━━\u001B[0m\u001B[37m\u001B[0m \u001B[1m18s\u001B[0m 4ms/step - accuracy: 0.8836 - loss: 0.4582 - val_accuracy: 0.9057 - val_loss: 0.7826\nEpoch 1/30\n\u001B[1m4936/4936\u001B[0m \u001B[32m━━━━━━━━━━━━━━━━━━━━\u001B[0m\u001B[37m\u001B[0m \u001B[1m18s\u001B[0m 4ms/step - accuracy: 0.8850 - loss: 0.4485 - val_accuracy: 0.8323 - val_loss: 2.2810\nEpoch 2/30\n\u001B[1m4936/4936\u001B[0m \u001B[32m━━━━━━━━━━━━━━━━━━━━\u001B[0m\u001B[37m\u001B[0m \u001B[1m17s\u001B[0m 4ms/step - accuracy: 0.8856 - loss: 0.4487 - val_accuracy: 0.8323 - val_loss: 1.9332\nEpoch 3/30\n\u001B[1m4936/4936\u001B[0m \u001B[32m━━━━━━━━━━━━━━━━━━━━\u001B[0m\u001B[37m\u001B[0m \u001B[1m18s\u001B[0m 4ms/step - accuracy: 0.8858 - loss: 0.4512 - val_accuracy: 0.8323 - val_loss: 2.3048\n",
     "output_type": "stream"
    },
    {
     "traceback": [
      "\u001B[0;31m---------------------------------------------------------------------------\u001B[0m",
      "\u001B[0;31mValueError\u001B[0m                                Traceback (most recent call last)",
      "Cell \u001B[0;32mIn[29], line 19\u001B[0m\n\u001B[1;32m     16\u001B[0m     history \u001B[38;5;241m=\u001B[39m model\u001B[38;5;241m.\u001B[39mfit(X_train, y_train, epochs\u001B[38;5;241m=\u001B[39m\u001B[38;5;241m30\u001B[39m, batch_size\u001B[38;5;241m=\u001B[39m\u001B[38;5;241m32\u001B[39m, validation_data\u001B[38;5;241m=\u001B[39m(X_test, y_test), verbose\u001B[38;5;241m=\u001B[39m\u001B[38;5;241m1\u001B[39m, callbacks\u001B[38;5;241m=\u001B[39m[early_stopping])\n\u001B[1;32m     17\u001B[0m \u001B[38;5;66;03m# Step 5: Model Evaluation\u001B[39;00m\n\u001B[1;32m     18\u001B[0m \u001B[38;5;66;03m# Evaluate the model on the last test dataset\u001B[39;00m\n\u001B[0;32m---> 19\u001B[0m loss, accuracy \u001B[38;5;241m=\u001B[39m \u001B[43mmodel\u001B[49m\u001B[38;5;241;43m.\u001B[39;49m\u001B[43mevaluate\u001B[49m\u001B[43m(\u001B[49m\u001B[43mX_test_reshaped\u001B[49m\u001B[43m,\u001B[49m\u001B[43m \u001B[49m\u001B[43my_test\u001B[49m\u001B[43m)\u001B[49m\n\u001B[1;32m     20\u001B[0m \u001B[38;5;28mprint\u001B[39m(\u001B[38;5;124m\"\u001B[39m\u001B[38;5;124mTest Accuracy:\u001B[39m\u001B[38;5;124m\"\u001B[39m, accuracy)\n",
      "File \u001B[0;32m/opt/conda/lib/python3.10/site-packages/keras/src/utils/traceback_utils.py:122\u001B[0m, in \u001B[0;36mfilter_traceback.<locals>.error_handler\u001B[0;34m(*args, **kwargs)\u001B[0m\n\u001B[1;32m    119\u001B[0m     filtered_tb \u001B[38;5;241m=\u001B[39m _process_traceback_frames(e\u001B[38;5;241m.\u001B[39m__traceback__)\n\u001B[1;32m    120\u001B[0m     \u001B[38;5;66;03m# To get the full stack trace, call:\u001B[39;00m\n\u001B[1;32m    121\u001B[0m     \u001B[38;5;66;03m# `keras.config.disable_traceback_filtering()`\u001B[39;00m\n\u001B[0;32m--> 122\u001B[0m     \u001B[38;5;28;01mraise\u001B[39;00m e\u001B[38;5;241m.\u001B[39mwith_traceback(filtered_tb) \u001B[38;5;28;01mfrom\u001B[39;00m \u001B[38;5;28;01mNone\u001B[39;00m\n\u001B[1;32m    123\u001B[0m \u001B[38;5;28;01mfinally\u001B[39;00m:\n\u001B[1;32m    124\u001B[0m     \u001B[38;5;28;01mdel\u001B[39;00m filtered_tb\n",
      "File \u001B[0;32m/opt/conda/lib/python3.10/site-packages/keras/src/utils/traceback_utils.py:122\u001B[0m, in \u001B[0;36mfilter_traceback.<locals>.error_handler\u001B[0;34m(*args, **kwargs)\u001B[0m\n\u001B[1;32m    119\u001B[0m     filtered_tb \u001B[38;5;241m=\u001B[39m _process_traceback_frames(e\u001B[38;5;241m.\u001B[39m__traceback__)\n\u001B[1;32m    120\u001B[0m     \u001B[38;5;66;03m# To get the full stack trace, call:\u001B[39;00m\n\u001B[1;32m    121\u001B[0m     \u001B[38;5;66;03m# `keras.config.disable_traceback_filtering()`\u001B[39;00m\n\u001B[0;32m--> 122\u001B[0m     \u001B[38;5;28;01mraise\u001B[39;00m e\u001B[38;5;241m.\u001B[39mwith_traceback(filtered_tb) \u001B[38;5;28;01mfrom\u001B[39;00m \u001B[38;5;28;01mNone\u001B[39;00m\n\u001B[1;32m    123\u001B[0m \u001B[38;5;28;01mfinally\u001B[39;00m:\n\u001B[1;32m    124\u001B[0m     \u001B[38;5;28;01mdel\u001B[39;00m filtered_tb\n",
      "\u001B[0;31mValueError\u001B[0m: Exception encountered when calling Sequential.call().\n\n\u001B[1mCannot take the length of shape with unknown rank.\u001B[0m\n\nArguments received by Sequential.call():\n  • inputs=tf.Tensor(shape=<unknown>, dtype=float32)\n  • training=False\n  • mask=None"
     ],
     "ename": "ValueError",
     "evalue": "Exception encountered when calling Sequential.call().\n\n\u001B[1mCannot take the length of shape with unknown rank.\u001B[0m\n\nArguments received by Sequential.call():\n  • inputs=tf.Tensor(shape=<unknown>, dtype=float32)\n  • training=False\n  • mask=None",
     "output_type": "error"
    }
   ],
   "id": "b83e8bfe9bf382b0"
  }
 ]
}
