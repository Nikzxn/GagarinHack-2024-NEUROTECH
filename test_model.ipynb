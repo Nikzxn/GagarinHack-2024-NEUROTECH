{
 "cells": [
  {
   "cell_type": "code",
   "execution_count": 1,
   "id": "946ea3ee-c1d7-4a01-9a84-1f3ff75b290d",
   "metadata": {},
   "outputs": [
    {
     "data": {
      "text/plain": [
       "(['meta_csv/train/anomaly\\\\0.csv',\n",
       "  'meta_csv/train/anomaly\\\\2.csv',\n",
       "  'meta_csv/train/anomaly\\\\3.csv',\n",
       "  'meta_csv/train/anomaly\\\\4.csv',\n",
       "  'meta_csv/train/anomaly\\\\5.csv'],\n",
       " ['./meta_csv/test\\\\1.mp4.csv',\n",
       "  './meta_csv/test\\\\2.mp4.csv',\n",
       "  './meta_csv/test\\\\3.mp4.csv',\n",
       "  './meta_csv/test\\\\4.mp4.csv',\n",
       "  './meta_csv/test\\\\5.mp4.csv',\n",
       "  './meta_csv/test\\\\6.mp4.csv'])"
      ]
     },
     "execution_count": 1,
     "metadata": {},
     "output_type": "execute_result"
    }
   ],
   "source": [
    "import glob\n",
    "train_files=glob.glob(\"meta_csv/train/anomaly/*\")\n",
    "test_files=glob.glob(\"./meta_csv/test/*.csv\")\n",
    "train_files,test_files"
   ]
  },
  {
   "cell_type": "code",
   "execution_count": 2,
   "id": "03707b9b-ec0d-43cc-abd6-e478a5859f47",
   "metadata": {},
   "outputs": [],
   "source": [
    "import pandas as pd\n",
    "import numpy as np\n",
    "df_train=pd.concat([pd.read_csv(pth) for pth in train_files])\n",
    "df_test=pd.concat([pd.read_csv(pth) for pth in test_files])"
   ]
  },
  {
   "cell_type": "code",
   "execution_count": null,
   "id": "24fbd133-7638-4c53-8c55-a50ff8db3071",
   "metadata": {},
   "outputs": [],
   "source": []
  },
  {
   "cell_type": "code",
   "execution_count": 3,
   "id": "e5d91238-8344-4f08-99bf-21d1620f7c02",
   "metadata": {},
   "outputs": [
    {
     "data": {
      "text/html": [
       "<div>\n",
       "<style scoped>\n",
       "    .dataframe tbody tr th:only-of-type {\n",
       "        vertical-align: middle;\n",
       "    }\n",
       "\n",
       "    .dataframe tbody tr th {\n",
       "        vertical-align: top;\n",
       "    }\n",
       "\n",
       "    .dataframe thead th {\n",
       "        text-align: right;\n",
       "    }\n",
       "</style>\n",
       "<table border=\"1\" class=\"dataframe\">\n",
       "  <thead>\n",
       "    <tr style=\"text-align: right;\">\n",
       "      <th></th>\n",
       "      <th>time_pos</th>\n",
       "      <th>byte_pos</th>\n",
       "      <th>size</th>\n",
       "      <th>type</th>\n",
       "      <th>is_normal</th>\n",
       "      <th>has_blur</th>\n",
       "      <th>has_move</th>\n",
       "      <th>has_overexposure</th>\n",
       "      <th>has_block</th>\n",
       "    </tr>\n",
       "  </thead>\n",
       "  <tbody>\n",
       "    <tr>\n",
       "      <th>0</th>\n",
       "      <td>0.00</td>\n",
       "      <td>0.0</td>\n",
       "      <td>0.437067</td>\n",
       "      <td>I</td>\n",
       "      <td>1</td>\n",
       "      <td>0</td>\n",
       "      <td>0</td>\n",
       "      <td>0</td>\n",
       "      <td>0</td>\n",
       "    </tr>\n",
       "    <tr>\n",
       "      <th>1</th>\n",
       "      <td>0.04</td>\n",
       "      <td>113467.0</td>\n",
       "      <td>0.011355</td>\n",
       "      <td>P</td>\n",
       "      <td>1</td>\n",
       "      <td>0</td>\n",
       "      <td>0</td>\n",
       "      <td>0</td>\n",
       "      <td>0</td>\n",
       "    </tr>\n",
       "    <tr>\n",
       "      <th>2</th>\n",
       "      <td>0.08</td>\n",
       "      <td>116415.0</td>\n",
       "      <td>0.013570</td>\n",
       "      <td>P</td>\n",
       "      <td>1</td>\n",
       "      <td>0</td>\n",
       "      <td>0</td>\n",
       "      <td>0</td>\n",
       "      <td>0</td>\n",
       "    </tr>\n",
       "    <tr>\n",
       "      <th>3</th>\n",
       "      <td>0.12</td>\n",
       "      <td>119938.0</td>\n",
       "      <td>0.008848</td>\n",
       "      <td>P</td>\n",
       "      <td>1</td>\n",
       "      <td>0</td>\n",
       "      <td>0</td>\n",
       "      <td>0</td>\n",
       "      <td>0</td>\n",
       "    </tr>\n",
       "    <tr>\n",
       "      <th>4</th>\n",
       "      <td>0.16</td>\n",
       "      <td>122235.0</td>\n",
       "      <td>0.007916</td>\n",
       "      <td>P</td>\n",
       "      <td>1</td>\n",
       "      <td>0</td>\n",
       "      <td>0</td>\n",
       "      <td>0</td>\n",
       "      <td>0</td>\n",
       "    </tr>\n",
       "    <tr>\n",
       "      <th>...</th>\n",
       "      <td>...</td>\n",
       "      <td>...</td>\n",
       "      <td>...</td>\n",
       "      <td>...</td>\n",
       "      <td>...</td>\n",
       "      <td>...</td>\n",
       "      <td>...</td>\n",
       "      <td>...</td>\n",
       "      <td>...</td>\n",
       "    </tr>\n",
       "    <tr>\n",
       "      <th>7110</th>\n",
       "      <td>284.40</td>\n",
       "      <td>121137847.0</td>\n",
       "      <td>0.008536</td>\n",
       "      <td>B</td>\n",
       "      <td>1</td>\n",
       "      <td>0</td>\n",
       "      <td>0</td>\n",
       "      <td>0</td>\n",
       "      <td>0</td>\n",
       "    </tr>\n",
       "    <tr>\n",
       "      <th>7111</th>\n",
       "      <td>284.44</td>\n",
       "      <td>121116811.0</td>\n",
       "      <td>0.025591</td>\n",
       "      <td>P</td>\n",
       "      <td>1</td>\n",
       "      <td>0</td>\n",
       "      <td>0</td>\n",
       "      <td>0</td>\n",
       "      <td>0</td>\n",
       "    </tr>\n",
       "    <tr>\n",
       "      <th>7112</th>\n",
       "      <td>284.48</td>\n",
       "      <td>121152903.0</td>\n",
       "      <td>0.010604</td>\n",
       "      <td>B</td>\n",
       "      <td>1</td>\n",
       "      <td>0</td>\n",
       "      <td>0</td>\n",
       "      <td>0</td>\n",
       "      <td>0</td>\n",
       "    </tr>\n",
       "    <tr>\n",
       "      <th>7113</th>\n",
       "      <td>284.52</td>\n",
       "      <td>121158995.0</td>\n",
       "      <td>0.008489</td>\n",
       "      <td>B</td>\n",
       "      <td>1</td>\n",
       "      <td>0</td>\n",
       "      <td>0</td>\n",
       "      <td>0</td>\n",
       "      <td>0</td>\n",
       "    </tr>\n",
       "    <tr>\n",
       "      <th>7114</th>\n",
       "      <td>284.56</td>\n",
       "      <td>121142751.0</td>\n",
       "      <td>0.017671</td>\n",
       "      <td>P</td>\n",
       "      <td>1</td>\n",
       "      <td>0</td>\n",
       "      <td>0</td>\n",
       "      <td>0</td>\n",
       "      <td>0</td>\n",
       "    </tr>\n",
       "  </tbody>\n",
       "</table>\n",
       "<p>131555 rows × 9 columns</p>\n",
       "</div>"
      ],
      "text/plain": [
       "      time_pos     byte_pos      size type  is_normal  has_blur  has_move  \\\n",
       "0         0.00          0.0  0.437067    I          1         0         0   \n",
       "1         0.04     113467.0  0.011355    P          1         0         0   \n",
       "2         0.08     116415.0  0.013570    P          1         0         0   \n",
       "3         0.12     119938.0  0.008848    P          1         0         0   \n",
       "4         0.16     122235.0  0.007916    P          1         0         0   \n",
       "...        ...          ...       ...  ...        ...       ...       ...   \n",
       "7110    284.40  121137847.0  0.008536    B          1         0         0   \n",
       "7111    284.44  121116811.0  0.025591    P          1         0         0   \n",
       "7112    284.48  121152903.0  0.010604    B          1         0         0   \n",
       "7113    284.52  121158995.0  0.008489    B          1         0         0   \n",
       "7114    284.56  121142751.0  0.017671    P          1         0         0   \n",
       "\n",
       "      has_overexposure  has_block  \n",
       "0                    0          0  \n",
       "1                    0          0  \n",
       "2                    0          0  \n",
       "3                    0          0  \n",
       "4                    0          0  \n",
       "...                ...        ...  \n",
       "7110                 0          0  \n",
       "7111                 0          0  \n",
       "7112                 0          0  \n",
       "7113                 0          0  \n",
       "7114                 0          0  \n",
       "\n",
       "[131555 rows x 9 columns]"
      ]
     },
     "execution_count": 3,
     "metadata": {},
     "output_type": "execute_result"
    }
   ],
   "source": [
    "df_train"
   ]
  },
  {
   "cell_type": "code",
   "execution_count": 4,
   "id": "af16ec32-a0ee-4b67-8fd6-3a3af3491585",
   "metadata": {},
   "outputs": [],
   "source": [
    "df_test[\"is_anomaly\"]=1-df_test[\"is_normal\"]\n",
    "df_train[\"is_anomaly\"]=1-df_train[\"is_normal\"]"
   ]
  },
  {
   "cell_type": "code",
   "execution_count": 5,
   "id": "906eb32e-5870-42ac-9985-892d3dabeb63",
   "metadata": {},
   "outputs": [
    {
     "data": {
      "text/plain": [
       "0.24417924062179316"
      ]
     },
     "execution_count": 5,
     "metadata": {},
     "output_type": "execute_result"
    }
   ],
   "source": [
    "df_train[\"is_anomaly\"].mean()"
   ]
  },
  {
   "cell_type": "code",
   "execution_count": 6,
   "id": "ca32ff24-cc74-4093-bf81-0ab1ce29cbbf",
   "metadata": {},
   "outputs": [
    {
     "data": {
      "text/plain": [
       "0.7558207593782068"
      ]
     },
     "execution_count": 6,
     "metadata": {},
     "output_type": "execute_result"
    }
   ],
   "source": [
    "df_train[\"is_normal\"].mean()"
   ]
  },
  {
   "cell_type": "code",
   "execution_count": 7,
   "id": "bde1d652-2294-44bd-8d6a-5ae09b5b43f2",
   "metadata": {},
   "outputs": [
    {
     "data": {
      "text/plain": [
       "0"
      ]
     },
     "execution_count": 7,
     "metadata": {},
     "output_type": "execute_result"
    }
   ],
   "source": [
    "df_train[\"is_anomaly\"].isna().sum()"
   ]
  },
  {
   "cell_type": "code",
   "execution_count": 8,
   "id": "c2524bc1-701b-44de-9d58-650a5ca8d1ea",
   "metadata": {
    "scrolled": true
   },
   "outputs": [],
   "source": [
    "Xs_train,ys_train=[],[]\n",
    "X_val,y_val=None,None\n",
    "labels=[\"is_normal\"]\n",
    "features=[\"size\",\"type\"]\n",
    "X_train,y_train=df_train[features],df_train[labels]\n",
    "X_val,y_val=df_test[features],df_test[labels]\n"
   ]
  },
  {
   "cell_type": "code",
   "execution_count": 9,
   "id": "0e682cba-2a47-4d1e-8355-26ecba73e596",
   "metadata": {},
   "outputs": [
    {
     "name": "stderr",
     "output_type": "stream",
     "text": [
      "C:\\ml\\my_env\\Lib\\site-packages\\joblib\\externals\\loky\\backend\\context.py:136: UserWarning: Could not find the number of physical cores for the following reason:\n",
      "found 0 physical cores < 1\n",
      "Returning the number of logical cores instead. You can silence this warning by setting LOKY_MAX_CPU_COUNT to the number of cores you want to use.\n",
      "  warnings.warn(\n",
      "  File \"C:\\ml\\my_env\\Lib\\site-packages\\joblib\\externals\\loky\\backend\\context.py\", line 282, in _count_physical_cores\n",
      "    raise ValueError(f\"found {cpu_count_physical} physical cores < 1\")\n"
     ]
    }
   ],
   "source": [
    "from imblearn.over_sampling import SMOTENC\n",
    "\n",
    "step=25*60\n",
    "Xs=[]\n",
    "ys=[]\n",
    "for i in range(0,X_train.shape[0]-step,step):\n",
    "    smote=SMOTENC(categorical_features=[1])\n",
    "    if(len(np.unique(y_train[i:i+step].values))==1):\n",
    "        continue\n",
    "    X_take,y_take=smote.fit_resample(X_train[i:i+step],y_train[i:i+step])\n",
    "    Xs.append(X_take)\n",
    "    ys.append(y_take)\n",
    "    "
   ]
  },
  {
   "cell_type": "code",
   "execution_count": 10,
   "id": "919b46f9-44cf-4a26-89db-1862ac2b46d8",
   "metadata": {},
   "outputs": [
    {
     "data": {
      "text/plain": [
       "70"
      ]
     },
     "execution_count": 10,
     "metadata": {},
     "output_type": "execute_result"
    }
   ],
   "source": [
    "len(Xs)"
   ]
  },
  {
   "cell_type": "code",
   "execution_count": 11,
   "id": "60483ce2-b2ae-48ec-b60d-d13af9a4b17b",
   "metadata": {},
   "outputs": [
    {
     "data": {
      "text/html": [
       "<div>\n",
       "<style scoped>\n",
       "    .dataframe tbody tr th:only-of-type {\n",
       "        vertical-align: middle;\n",
       "    }\n",
       "\n",
       "    .dataframe tbody tr th {\n",
       "        vertical-align: top;\n",
       "    }\n",
       "\n",
       "    .dataframe thead th {\n",
       "        text-align: right;\n",
       "    }\n",
       "</style>\n",
       "<table border=\"1\" class=\"dataframe\">\n",
       "  <thead>\n",
       "    <tr style=\"text-align: right;\">\n",
       "      <th></th>\n",
       "      <th>size</th>\n",
       "      <th>type</th>\n",
       "    </tr>\n",
       "  </thead>\n",
       "  <tbody>\n",
       "    <tr>\n",
       "      <th>0</th>\n",
       "      <td>0.437067</td>\n",
       "      <td>I</td>\n",
       "    </tr>\n",
       "    <tr>\n",
       "      <th>1</th>\n",
       "      <td>0.011355</td>\n",
       "      <td>P</td>\n",
       "    </tr>\n",
       "    <tr>\n",
       "      <th>2</th>\n",
       "      <td>0.013570</td>\n",
       "      <td>P</td>\n",
       "    </tr>\n",
       "    <tr>\n",
       "      <th>3</th>\n",
       "      <td>0.008848</td>\n",
       "      <td>P</td>\n",
       "    </tr>\n",
       "    <tr>\n",
       "      <th>4</th>\n",
       "      <td>0.007916</td>\n",
       "      <td>P</td>\n",
       "    </tr>\n",
       "    <tr>\n",
       "      <th>...</th>\n",
       "      <td>...</td>\n",
       "      <td>...</td>\n",
       "    </tr>\n",
       "    <tr>\n",
       "      <th>2443</th>\n",
       "      <td>0.003953</td>\n",
       "      <td>B</td>\n",
       "    </tr>\n",
       "    <tr>\n",
       "      <th>2444</th>\n",
       "      <td>0.037687</td>\n",
       "      <td>P</td>\n",
       "    </tr>\n",
       "    <tr>\n",
       "      <th>2445</th>\n",
       "      <td>0.025045</td>\n",
       "      <td>B</td>\n",
       "    </tr>\n",
       "    <tr>\n",
       "      <th>2446</th>\n",
       "      <td>0.034610</td>\n",
       "      <td>P</td>\n",
       "    </tr>\n",
       "    <tr>\n",
       "      <th>2447</th>\n",
       "      <td>0.002870</td>\n",
       "      <td>B</td>\n",
       "    </tr>\n",
       "  </tbody>\n",
       "</table>\n",
       "<p>168488 rows × 2 columns</p>\n",
       "</div>"
      ],
      "text/plain": [
       "          size type\n",
       "0     0.437067    I\n",
       "1     0.011355    P\n",
       "2     0.013570    P\n",
       "3     0.008848    P\n",
       "4     0.007916    P\n",
       "...        ...  ...\n",
       "2443  0.003953    B\n",
       "2444  0.037687    P\n",
       "2445  0.025045    B\n",
       "2446  0.034610    P\n",
       "2447  0.002870    B\n",
       "\n",
       "[168488 rows x 2 columns]"
      ]
     },
     "execution_count": 11,
     "metadata": {},
     "output_type": "execute_result"
    }
   ],
   "source": [
    "X_train,y_train=pd.concat(Xs,axis=0),pd.concat(ys,axis=0)\n",
    "X_train"
   ]
  },
  {
   "cell_type": "code",
   "execution_count": 12,
   "id": "4b58a521-9eb0-4792-8bd7-99a74eff0fb3",
   "metadata": {},
   "outputs": [],
   "source": [
    "from sklearn.preprocessing import StandardScaler\n",
    "from sklearn.preprocessing import OneHotEncoder\n",
    "from sklearn.compose import ColumnTransformer\n",
    "from sklearn.preprocessing import FunctionTransformer\n",
    "from sklearn.pipeline import make_pipeline"
   ]
  },
  {
   "cell_type": "code",
   "execution_count": 13,
   "id": "be6014b8-a5fa-4b8f-ba2c-236f115df9e6",
   "metadata": {},
   "outputs": [],
   "source": [
    "pipeline=ColumnTransformer([\n",
    "    (\"num\",StandardScaler(),[\"size\"]),\n",
    "    (\"cat\",OneHotEncoder(),[\"type\"])])"
   ]
  },
  {
   "cell_type": "code",
   "execution_count": 38,
   "id": "19604d24-66fb-45a4-9525-62ee563fedcb",
   "metadata": {
    "scrolled": true
   },
   "outputs": [],
   "source": [
    "#pipeline\n",
    "timesteps=25*60\n",
    "X_train_rdy=pipeline.fit_transform(X_train)\n",
    "X_val_rdy=pipeline.transform(X_val)\n",
    "def reshape_for_timsteps(data,timesteps):\n",
    "    data_take=data[:data.shape[0]//timesteps*timesteps]\n",
    "    return data_take.reshape(-1,timesteps,data_take.shape[1])"
   ]
  },
  {
   "cell_type": "code",
   "execution_count": 39,
   "id": "db3f02d6-dbc0-4738-8aac-e09b70a675f8",
   "metadata": {},
   "outputs": [],
   "source": [
    "#reshaping\n",
    "X_train_reshape=reshape_for_timsteps(X_train_rdy,timesteps)\n",
    "y_train_reshape=reshape_for_timsteps(y_train.values,timesteps)\n",
    "X_val_reshape=reshape_for_timsteps(X_val_rdy,timesteps)\n",
    "y_val_reshape=reshape_for_timsteps(y_val.values,timesteps)\n"
   ]
  },
  {
   "cell_type": "code",
   "execution_count": 40,
   "id": "5ce5a20b-dfb5-47e9-ba87-f8d1dbe4a975",
   "metadata": {},
   "outputs": [
    {
     "data": {
      "text/plain": [
       "type\n",
       "P    95989\n",
       "B    71668\n",
       "I      831\n",
       "Name: count, dtype: int64"
      ]
     },
     "execution_count": 40,
     "metadata": {},
     "output_type": "execute_result"
    }
   ],
   "source": [
    "X_train.type.value_counts()"
   ]
  },
  {
   "cell_type": "code",
   "execution_count": 41,
   "id": "519d7efe-5427-462e-8ec8-eaed88bfd0e2",
   "metadata": {},
   "outputs": [
    {
     "data": {
      "text/plain": [
       "(168488, 4)"
      ]
     },
     "execution_count": 41,
     "metadata": {},
     "output_type": "execute_result"
    }
   ],
   "source": [
    "X_train_rdy.shape"
   ]
  },
  {
   "cell_type": "code",
   "execution_count": 42,
   "id": "2b0ca89e-c601-42bd-a77d-4e8db7ae29b3",
   "metadata": {},
   "outputs": [
    {
     "data": {
      "text/plain": [
       "((112, 1500, 4), (112, 1500, 1))"
      ]
     },
     "execution_count": 42,
     "metadata": {},
     "output_type": "execute_result"
    }
   ],
   "source": [
    "X_train_reshape.shape,y_train_reshape.shape"
   ]
  },
  {
   "cell_type": "code",
   "execution_count": 43,
   "id": "ec848b1f-835c-4cbc-8457-060e31e8b5b9",
   "metadata": {},
   "outputs": [
    {
     "data": {
      "text/plain": [
       "((37, 1500, 4), (37, 1500, 1))"
      ]
     },
     "execution_count": 43,
     "metadata": {},
     "output_type": "execute_result"
    }
   ],
   "source": [
    "X_val_reshape.shape,y_val_reshape.shape"
   ]
  },
  {
   "cell_type": "code",
   "execution_count": 44,
   "id": "c0239c04-6d2e-4d48-9ff6-6a16f84e97bc",
   "metadata": {},
   "outputs": [
    {
     "data": {
      "text/plain": [
       "(112, 1500, 4)"
      ]
     },
     "execution_count": 44,
     "metadata": {},
     "output_type": "execute_result"
    }
   ],
   "source": [
    "X_train_reshape.shape"
   ]
  },
  {
   "cell_type": "code",
   "execution_count": 114,
   "id": "4518dfd2-c0be-4845-8b39-95dacf17ba6a",
   "metadata": {},
   "outputs": [
    {
     "name": "stdout",
     "output_type": "stream",
     "text": [
      "Model: \"sequential_6\"\n",
      "_________________________________________________________________\n",
      " Layer (type)                Output Shape              Param #   \n",
      "=================================================================\n",
      " bidirectional_24 (Bidirect  (None, None, 64)          9472      \n",
      " ional)                                                          \n",
      "                                                                 \n",
      " bidirectional_25 (Bidirect  (None, None, 128)         66048     \n",
      " ional)                                                          \n",
      "                                                                 \n",
      " bidirectional_26 (Bidirect  (None, None, 256)         263168    \n",
      " ional)                                                          \n",
      "                                                                 \n",
      " bidirectional_27 (Bidirect  (None, None, 128)         164352    \n",
      " ional)                                                          \n",
      "                                                                 \n",
      " bidirectional_28 (Bidirect  (None, None, 64)          41216     \n",
      " ional)                                                          \n",
      "                                                                 \n",
      " dense_18 (Dense)            (None, None, 1)           65        \n",
      "                                                                 \n",
      "=================================================================\n",
      "Total params: 544321 (2.08 MB)\n",
      "Trainable params: 544321 (2.08 MB)\n",
      "Non-trainable params: 0 (0.00 Byte)\n",
      "_________________________________________________________________\n"
     ]
    }
   ],
   "source": [
    "from tensorflow import keras\n",
    "from keras.optimizers import Adam\n",
    "from keras.models import Sequential\n",
    "from keras.layers import Dense,Dropout,SimpleRNN,GRU, Bidirectional,LSTM\n",
    "model = keras.models.Sequential()\n",
    "model.add(Bidirectional(LSTM(32,activation=\"tanh\",return_sequences=True),input_shape=(None, X_train_reshape.shape[2])))\n",
    "model.add(Bidirectional(LSTM(64,activation=\"tanh\",return_sequences=True),input_shape=(None, X_train_reshape.shape[2])))\n",
    "model.add(Bidirectional(LSTM(128,activation=\"tanh\",return_sequences=True),input_shape=(None, X_train_reshape.shape[2])))\n",
    "model.add(Bidirectional(LSTM(64,activation=\"tanh\",return_sequences=True),input_shape=(None, X_train_reshape.shape[2])))\n",
    "model.add(Bidirectional(LSTM(32,activation=\"tanh\",return_sequences=True),input_shape=(None, X_train_reshape.shape[2])))\n",
    "model.add(Dense(1, activation='sigmoid'))\n",
    "optimizer = Adam(learning_rate=0.001)\n",
    "model.compile(loss=\"binary_crossentropy\",optimizer=optimizer,metrics=[\"accuracy\",keras.metrics.AUC()])\n",
    "model.summary()"
   ]
  },
  {
   "cell_type": "code",
   "execution_count": 115,
   "id": "6e042586-cbf3-45dc-a5c6-8ac491883a1f",
   "metadata": {},
   "outputs": [],
   "source": [
    "from keras.callbacks import LearningRateScheduler\n",
    "\n",
    "# This is a sample of a scheduler I used in the past\n",
    "def lr_scheduler(epoch, lr):\n",
    "    decay_rate = 0.85\n",
    "    decay_step = 1\n",
    "    if epoch % decay_step == 0 and epoch:\n",
    "        return lr * pow(decay_rate, np.floor(epoch / decay_step))\n",
    "    return lr"
   ]
  },
  {
   "cell_type": "code",
   "execution_count": 116,
   "id": "8b9566c7-7575-4960-9a27-3d0f8f079a48",
   "metadata": {},
   "outputs": [],
   "source": [
    "from sklearn.utils import class_weight\n",
    "class_weight = {}\n",
    "for i in range(1):\n",
    "    class_weight[i]=[(1-y_train.iloc[:,i].mean())*100,y_train.iloc[:,i].mean()*100]\n",
    "class_weight={0:60,1:40}"
   ]
  },
  {
   "cell_type": "code",
   "execution_count": 117,
   "id": "eaf6d0d5-7f41-416e-b830-636a31d912c3",
   "metadata": {},
   "outputs": [
    {
     "data": {
      "text/plain": [
       "(112, 1500, 4)"
      ]
     },
     "execution_count": 117,
     "metadata": {},
     "output_type": "execute_result"
    }
   ],
   "source": [
    "X_train_reshape.shape"
   ]
  },
  {
   "cell_type": "code",
   "execution_count": 118,
   "id": "97fe8214-134d-4522-b4d9-e80d96c84f6a",
   "metadata": {
    "scrolled": true
   },
   "outputs": [
    {
     "name": "stdout",
     "output_type": "stream",
     "text": [
      "Epoch 1/30\n",
      "4/4 [==============================] - 26s 5s/step - loss: 33.5365 - accuracy: 0.5060 - auc_13: 0.5544 - val_loss: 0.7424 - val_accuracy: 0.2290 - val_auc_13: 0.6155 - lr: 0.0010\n",
      "Epoch 2/30\n",
      "4/4 [==============================] - 16s 4s/step - loss: 31.2057 - accuracy: 0.5712 - auc_13: 0.6805 - val_loss: 0.6389 - val_accuracy: 0.7270 - val_auc_13: 0.6562 - lr: 8.5000e-04\n",
      "Epoch 3/30\n",
      "4/4 [==============================] - 16s 4s/step - loss: 31.0080 - accuracy: 0.5923 - auc_13: 0.6676 - val_loss: 0.6277 - val_accuracy: 0.7368 - val_auc_13: 0.6839 - lr: 6.1413e-04\n",
      "Epoch 4/30\n",
      "4/4 [==============================] - 16s 4s/step - loss: 30.6005 - accuracy: 0.6319 - auc_13: 0.6782 - val_loss: 0.6332 - val_accuracy: 0.7336 - val_auc_13: 0.6969 - lr: 3.7715e-04\n",
      "Epoch 5/30\n",
      "4/4 [==============================] - 18s 4s/step - loss: 30.4259 - accuracy: 0.6340 - auc_13: 0.6839 - val_loss: 0.6462 - val_accuracy: 0.7191 - val_auc_13: 0.7031 - lr: 1.9687e-04\n",
      "Epoch 6/30\n",
      "4/4 [==============================] - 18s 4s/step - loss: 30.2918 - accuracy: 0.6277 - auc_13: 0.6876 - val_loss: 0.6511 - val_accuracy: 0.7118 - val_auc_13: 0.7061 - lr: 8.7354e-05\n",
      "Epoch 7/30\n",
      "4/4 [==============================] - 18s 5s/step - loss: 30.2314 - accuracy: 0.6253 - auc_13: 0.6895 - val_loss: 0.6521 - val_accuracy: 0.7104 - val_auc_13: 0.7073 - lr: 3.2946e-05\n",
      "Epoch 8/30\n",
      "4/4 [==============================] - 18s 4s/step - loss: 30.2083 - accuracy: 0.6250 - auc_13: 0.6902 - val_loss: 0.6522 - val_accuracy: 0.7103 - val_auc_13: 0.7076 - lr: 1.0562e-05\n"
     ]
    },
    {
     "data": {
      "text/plain": [
       "<keras.src.callbacks.History at 0x21758af20d0>"
      ]
     },
     "execution_count": 118,
     "metadata": {},
     "output_type": "execute_result"
    }
   ],
   "source": [
    "from keras.callbacks import EarlyStopping\n",
    "early_stopping = EarlyStopping(monitor='val_loss', patience=5, restore_best_weights=True)\n",
    "model.fit(X_train_reshape,y_train_reshape,\n",
    "              validation_data=(X_val_reshape,y_val_reshape),class_weight=class_weight,shuffle=False,batch_size=32,epochs=30,callbacks=[early_stopping,LearningRateScheduler(lr_scheduler)])"
   ]
  },
  {
   "cell_type": "code",
   "execution_count": 106,
   "id": "3938d84a-0257-4cae-8df0-43105438e847",
   "metadata": {},
   "outputs": [
    {
     "name": "stdout",
     "output_type": "stream",
     "text": [
      "2/2 [==============================] - 1s 170ms/step - loss: 0.6307 - accuracy: 0.7231 - auc_12: 0.6847\n"
     ]
    }
   ],
   "source": [
    "model.set_weights(early_stopping.best_weights)\n",
    "loss,accuracy,auc=model.evaluate(X_val_reshape,y_val_reshape)"
   ]
  },
  {
   "cell_type": "code",
   "execution_count": 107,
   "id": "925a8e6a-87c6-4fab-8009-3ac50e94114c",
   "metadata": {},
   "outputs": [
    {
     "data": {
      "text/plain": [
       "(0.6306972503662109, 0.7230991125106812)"
      ]
     },
     "execution_count": 107,
     "metadata": {},
     "output_type": "execute_result"
    }
   ],
   "source": [
    "loss,accuracy"
   ]
  },
  {
   "cell_type": "code",
   "execution_count": 108,
   "id": "65d9f08d-1771-4676-9e63-b1263add077c",
   "metadata": {},
   "outputs": [
    {
     "name": "stdout",
     "output_type": "stream",
     "text": [
      "2/2 [==============================] - 2s 163ms/step\n"
     ]
    }
   ],
   "source": [
    "preds=model.predict(X_val_reshape)"
   ]
  },
  {
   "cell_type": "code",
   "execution_count": 109,
   "id": "f0716fac-4d62-412e-8515-c5d5c27c0150",
   "metadata": {},
   "outputs": [],
   "source": [
    "import matplotlib.pyplot as plt"
   ]
  },
  {
   "cell_type": "code",
   "execution_count": 110,
   "id": "db60a9cb-5acf-4cca-972d-10bec9e4d0f9",
   "metadata": {},
   "outputs": [],
   "source": [
    "from sklearn.metrics import confusion_matrix"
   ]
  },
  {
   "cell_type": "code",
   "execution_count": 111,
   "id": "07c5840c-60e7-4cae-ab8b-6844c151e56b",
   "metadata": {},
   "outputs": [
    {
     "data": {
      "text/plain": [
       "(array([[0],\n",
       "        [0],\n",
       "        [0],\n",
       "        ...,\n",
       "        [0],\n",
       "        [0],\n",
       "        [0]]),\n",
       " array([[1],\n",
       "        [1],\n",
       "        [1],\n",
       "        ...,\n",
       "        [0],\n",
       "        [0],\n",
       "        [0]], dtype=int64))"
      ]
     },
     "execution_count": 111,
     "metadata": {},
     "output_type": "execute_result"
    }
   ],
   "source": [
    "import seaborn as sns\n",
    "preds_choice=(preds.reshape(-1,1)>0.5).astype(int)\n",
    "y_choice=y_val_reshape.reshape(-1,1)\n",
    "preds_choice,y_choice"
   ]
  },
  {
   "cell_type": "code",
   "execution_count": 112,
   "id": "d887d11d-9a27-41c6-ae80-40328ec1e662",
   "metadata": {},
   "outputs": [],
   "source": [
    "mx=confusion_matrix(y_choice,preds_choice)\n"
   ]
  },
  {
   "cell_type": "code",
   "execution_count": 35,
   "id": "0a21f0e6-004f-4c2f-a032-b627f5f75cd8",
   "metadata": {},
   "outputs": [
    {
     "data": {
      "text/plain": [
       "0.7558207593782068"
      ]
     },
     "execution_count": 35,
     "metadata": {},
     "output_type": "execute_result"
    }
   ],
   "source": [
    "df_train[\"is_normal\"].mean()"
   ]
  },
  {
   "cell_type": "code",
   "execution_count": 36,
   "id": "841042ee-b5de-44f7-9ab1-1a16156ae0d7",
   "metadata": {
    "scrolled": true
   },
   "outputs": [
    {
     "data": {
      "text/plain": [
       "<Axes: xlabel='time_pos', ylabel='size'>"
      ]
     },
     "execution_count": 36,
     "metadata": {},
     "output_type": "execute_result"
    },
    {
     "data": {
      "image/png": "[encoded data removed]",
      "text/plain": [
       "<Figure size 640x480 with 1 Axes>"
      ]
     },
     "metadata": {},
     "output_type": "display_data"
    }
   ],
   "source": [
    "sns.scatterplot(x=\"time_pos\",y=\"size\",data=df_train.iloc[:25*1200],hue=\"is_normal\")"
   ]
  },
  {
   "cell_type": "code",
   "execution_count": 37,
   "id": "a4174531-1d3c-488a-98a2-0002c2c76095",
   "metadata": {},
   "outputs": [
    {
     "ename": "SyntaxError",
     "evalue": "incomplete input (582913220.py, line 1)",
     "output_type": "error",
     "traceback": [
      "\u001b[1;36m  Cell \u001b[1;32mIn[37], line 1\u001b[1;36m\u001b[0m\n\u001b[1;33m    plt.plot(\u001b[0m\n\u001b[1;37m             ^\u001b[0m\n\u001b[1;31mSyntaxError\u001b[0m\u001b[1;31m:\u001b[0m incomplete input\n"
     ]
    }
   ],
   "source": [
    "plt.plot("
   ]
  },
  {
   "cell_type": "code",
   "execution_count": null,
   "id": "20bfab9c-5582-496c-b4fe-bffe587ab669",
   "metadata": {},
   "outputs": [],
   "source": [
    "sns.scatterplot(x=\"size\",y=\"type\",data=df_train,hue=\"is_normal\")"
   ]
  },
  {
   "cell_type": "code",
   "execution_count": 119,
   "id": "5c13c963-e652-48b3-a853-ba91100ed88b",
   "metadata": {},
   "outputs": [
    {
     "name": "stderr",
     "output_type": "stream",
     "text": [
      "C:\\ml\\my_env\\Lib\\site-packages\\keras\\src\\engine\\training.py:3103: UserWarning: You are saving your model as an HDF5 file via `model.save()`. This file format is considered legacy. We recommend using instead the native Keras format, e.g. `model.save('my_model.keras')`.\n",
      "  saving_api.save_model(\n"
     ]
    }
   ],
   "source": [
    "model.save('fin_model.h5')"
   ]
  },
  {
   "cell_type": "code",
   "execution_count": null,
   "id": "8771bd23-766c-42cb-a9f8-3b34ea63229f",
   "metadata": {},
   "outputs": [],
   "source": []
  }
 ],
 "metadata": {
  "kernelspec": {
   "display_name": "Python 3 (ipykernel)",
   "language": "python",
   "name": "python3"
  },
  "language_info": {
   "codemirror_mode": {
    "name": "ipython",
    "version": 3
   },
   "file_extension": ".py",
   "mimetype": "text/x-python",
   "name": "python",
   "nbconvert_exporter": "python",
   "pygments_lexer": "ipython3",
   "version": "3.11.5"
  }
 },
 "nbformat": 4,
 "nbformat_minor": 5
}
