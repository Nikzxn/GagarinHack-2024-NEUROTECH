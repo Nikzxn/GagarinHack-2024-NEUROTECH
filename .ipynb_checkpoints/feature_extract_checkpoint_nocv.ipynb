{
 "cells": [
  {
   "cell_type": "code",
   "execution_count": 3,
   "id": "initial_id",
   "metadata": {
    "id": "initial_id",
    "ExecuteTime": {
     "end_time": "2024-04-12T16:52:25.831291Z",
     "start_time": "2024-04-12T16:52:25.747540Z"
    }
   },
   "outputs": [
    {
     "ename": "RuntimeError",
     "evalue": "No ffmpeg exe could be found. Install ffmpeg on your system, or set the IMAGEIO_FFMPEG_EXE environment variable.",
     "output_type": "error",
     "traceback": [
      "\u001B[0;31m---------------------------------------------------------------------------\u001B[0m",
      "\u001B[0;31mRuntimeError\u001B[0m                              Traceback (most recent call last)",
      "Cell \u001B[0;32mIn[3], line 4\u001B[0m\n\u001B[1;32m      2\u001B[0m \u001B[38;5;28;01mimport\u001B[39;00m \u001B[38;5;21;01msubprocess\u001B[39;00m\n\u001B[1;32m      3\u001B[0m \u001B[38;5;28;01mimport\u001B[39;00m \u001B[38;5;21;01mpandas\u001B[39;00m \u001B[38;5;28;01mas\u001B[39;00m \u001B[38;5;21;01mpd\u001B[39;00m\n\u001B[0;32m----> 4\u001B[0m \u001B[38;5;28;01mfrom\u001B[39;00m \u001B[38;5;21;01mmoviepy\u001B[39;00m\u001B[38;5;21;01m.\u001B[39;00m\u001B[38;5;21;01meditor\u001B[39;00m \u001B[38;5;28;01mimport\u001B[39;00m VideoFileClip\n\u001B[1;32m      5\u001B[0m \u001B[38;5;28;01mfrom\u001B[39;00m \u001B[38;5;21;01mscipy\u001B[39;00m\u001B[38;5;21;01m.\u001B[39;00m\u001B[38;5;21;01mndimage\u001B[39;00m \u001B[38;5;28;01mimport\u001B[39;00m gaussian_filter\n\u001B[1;32m      6\u001B[0m \u001B[38;5;28;01mimport\u001B[39;00m \u001B[38;5;21;01mos\u001B[39;00m\n",
      "File \u001B[0;32m~/Gagarin/venv/lib/python3.9/site-packages/moviepy/editor.py:36\u001B[0m\n\u001B[1;32m     33\u001B[0m os\u001B[38;5;241m.\u001B[39menviron[\u001B[38;5;124m'\u001B[39m\u001B[38;5;124mPYGAME_HIDE_SUPPORT_PROMPT\u001B[39m\u001B[38;5;124m'\u001B[39m] \u001B[38;5;241m=\u001B[39m \u001B[38;5;124m\"\u001B[39m\u001B[38;5;124m1\u001B[39m\u001B[38;5;124m\"\u001B[39m\n\u001B[1;32m     35\u001B[0m \u001B[38;5;66;03m# Clips\u001B[39;00m\n\u001B[0;32m---> 36\u001B[0m \u001B[38;5;28;01mfrom\u001B[39;00m \u001B[38;5;21;01m.\u001B[39;00m\u001B[38;5;21;01mvideo\u001B[39;00m\u001B[38;5;21;01m.\u001B[39;00m\u001B[38;5;21;01mio\u001B[39;00m\u001B[38;5;21;01m.\u001B[39;00m\u001B[38;5;21;01mVideoFileClip\u001B[39;00m \u001B[38;5;28;01mimport\u001B[39;00m VideoFileClip\n\u001B[1;32m     37\u001B[0m \u001B[38;5;28;01mfrom\u001B[39;00m \u001B[38;5;21;01m.\u001B[39;00m\u001B[38;5;21;01mvideo\u001B[39;00m\u001B[38;5;21;01m.\u001B[39;00m\u001B[38;5;21;01mio\u001B[39;00m\u001B[38;5;21;01m.\u001B[39;00m\u001B[38;5;21;01mImageSequenceClip\u001B[39;00m \u001B[38;5;28;01mimport\u001B[39;00m ImageSequenceClip\n\u001B[1;32m     38\u001B[0m \u001B[38;5;28;01mfrom\u001B[39;00m \u001B[38;5;21;01m.\u001B[39;00m\u001B[38;5;21;01mvideo\u001B[39;00m\u001B[38;5;21;01m.\u001B[39;00m\u001B[38;5;21;01mio\u001B[39;00m\u001B[38;5;21;01m.\u001B[39;00m\u001B[38;5;21;01mdownloader\u001B[39;00m \u001B[38;5;28;01mimport\u001B[39;00m download_webfile\n",
      "File \u001B[0;32m~/Gagarin/venv/lib/python3.9/site-packages/moviepy/video/io/VideoFileClip.py:3\u001B[0m\n\u001B[1;32m      1\u001B[0m \u001B[38;5;28;01mimport\u001B[39;00m \u001B[38;5;21;01mos\u001B[39;00m\n\u001B[0;32m----> 3\u001B[0m \u001B[38;5;28;01mfrom\u001B[39;00m \u001B[38;5;21;01mmoviepy\u001B[39;00m\u001B[38;5;21;01m.\u001B[39;00m\u001B[38;5;21;01maudio\u001B[39;00m\u001B[38;5;21;01m.\u001B[39;00m\u001B[38;5;21;01mio\u001B[39;00m\u001B[38;5;21;01m.\u001B[39;00m\u001B[38;5;21;01mAudioFileClip\u001B[39;00m \u001B[38;5;28;01mimport\u001B[39;00m AudioFileClip\n\u001B[1;32m      4\u001B[0m \u001B[38;5;28;01mfrom\u001B[39;00m \u001B[38;5;21;01mmoviepy\u001B[39;00m\u001B[38;5;21;01m.\u001B[39;00m\u001B[38;5;21;01mClip\u001B[39;00m \u001B[38;5;28;01mimport\u001B[39;00m Clip\n\u001B[1;32m      5\u001B[0m \u001B[38;5;28;01mfrom\u001B[39;00m \u001B[38;5;21;01mmoviepy\u001B[39;00m\u001B[38;5;21;01m.\u001B[39;00m\u001B[38;5;21;01mvideo\u001B[39;00m\u001B[38;5;21;01m.\u001B[39;00m\u001B[38;5;21;01mio\u001B[39;00m\u001B[38;5;21;01m.\u001B[39;00m\u001B[38;5;21;01mffmpeg_reader\u001B[39;00m \u001B[38;5;28;01mimport\u001B[39;00m FFMPEG_VideoReader\n",
      "File \u001B[0;32m~/Gagarin/venv/lib/python3.9/site-packages/moviepy/audio/io/AudioFileClip.py:3\u001B[0m\n\u001B[1;32m      1\u001B[0m \u001B[38;5;28;01mfrom\u001B[39;00m \u001B[38;5;21;01m__future__\u001B[39;00m \u001B[38;5;28;01mimport\u001B[39;00m division\n\u001B[0;32m----> 3\u001B[0m \u001B[38;5;28;01mfrom\u001B[39;00m \u001B[38;5;21;01mmoviepy\u001B[39;00m\u001B[38;5;21;01m.\u001B[39;00m\u001B[38;5;21;01maudio\u001B[39;00m\u001B[38;5;21;01m.\u001B[39;00m\u001B[38;5;21;01mAudioClip\u001B[39;00m \u001B[38;5;28;01mimport\u001B[39;00m AudioClip\n\u001B[1;32m      4\u001B[0m \u001B[38;5;28;01mfrom\u001B[39;00m \u001B[38;5;21;01mmoviepy\u001B[39;00m\u001B[38;5;21;01m.\u001B[39;00m\u001B[38;5;21;01maudio\u001B[39;00m\u001B[38;5;21;01m.\u001B[39;00m\u001B[38;5;21;01mio\u001B[39;00m\u001B[38;5;21;01m.\u001B[39;00m\u001B[38;5;21;01mreaders\u001B[39;00m \u001B[38;5;28;01mimport\u001B[39;00m FFMPEG_AudioReader\n\u001B[1;32m      7\u001B[0m \u001B[38;5;28;01mclass\u001B[39;00m \u001B[38;5;21;01mAudioFileClip\u001B[39;00m(AudioClip):\n",
      "File \u001B[0;32m~/Gagarin/venv/lib/python3.9/site-packages/moviepy/audio/AudioClip.py:7\u001B[0m\n\u001B[1;32m      4\u001B[0m \u001B[38;5;28;01mimport\u001B[39;00m \u001B[38;5;21;01mproglog\u001B[39;00m\n\u001B[1;32m      5\u001B[0m \u001B[38;5;28;01mfrom\u001B[39;00m \u001B[38;5;21;01mtqdm\u001B[39;00m \u001B[38;5;28;01mimport\u001B[39;00m tqdm\n\u001B[0;32m----> 7\u001B[0m \u001B[38;5;28;01mfrom\u001B[39;00m \u001B[38;5;21;01mmoviepy\u001B[39;00m\u001B[38;5;21;01m.\u001B[39;00m\u001B[38;5;21;01maudio\u001B[39;00m\u001B[38;5;21;01m.\u001B[39;00m\u001B[38;5;21;01mio\u001B[39;00m\u001B[38;5;21;01m.\u001B[39;00m\u001B[38;5;21;01mffmpeg_audiowriter\u001B[39;00m \u001B[38;5;28;01mimport\u001B[39;00m ffmpeg_audiowrite\n\u001B[1;32m      8\u001B[0m \u001B[38;5;28;01mfrom\u001B[39;00m \u001B[38;5;21;01mmoviepy\u001B[39;00m\u001B[38;5;21;01m.\u001B[39;00m\u001B[38;5;21;01mClip\u001B[39;00m \u001B[38;5;28;01mimport\u001B[39;00m Clip\n\u001B[1;32m      9\u001B[0m \u001B[38;5;28;01mfrom\u001B[39;00m \u001B[38;5;21;01mmoviepy\u001B[39;00m\u001B[38;5;21;01m.\u001B[39;00m\u001B[38;5;21;01mdecorators\u001B[39;00m \u001B[38;5;28;01mimport\u001B[39;00m requires_duration\n",
      "File \u001B[0;32m~/Gagarin/venv/lib/python3.9/site-packages/moviepy/audio/io/ffmpeg_audiowriter.py:7\u001B[0m\n\u001B[1;32m      4\u001B[0m \u001B[38;5;28;01mimport\u001B[39;00m \u001B[38;5;21;01mproglog\u001B[39;00m\n\u001B[1;32m      6\u001B[0m \u001B[38;5;28;01mfrom\u001B[39;00m \u001B[38;5;21;01mmoviepy\u001B[39;00m\u001B[38;5;21;01m.\u001B[39;00m\u001B[38;5;21;01mcompat\u001B[39;00m \u001B[38;5;28;01mimport\u001B[39;00m DEVNULL\n\u001B[0;32m----> 7\u001B[0m \u001B[38;5;28;01mfrom\u001B[39;00m \u001B[38;5;21;01mmoviepy\u001B[39;00m\u001B[38;5;21;01m.\u001B[39;00m\u001B[38;5;21;01mconfig\u001B[39;00m \u001B[38;5;28;01mimport\u001B[39;00m get_setting\n\u001B[1;32m      8\u001B[0m \u001B[38;5;28;01mfrom\u001B[39;00m \u001B[38;5;21;01mmoviepy\u001B[39;00m\u001B[38;5;21;01m.\u001B[39;00m\u001B[38;5;21;01mdecorators\u001B[39;00m \u001B[38;5;28;01mimport\u001B[39;00m requires_duration\n\u001B[1;32m     11\u001B[0m \u001B[38;5;28;01mclass\u001B[39;00m \u001B[38;5;21;01mFFMPEG_AudioWriter\u001B[39;00m:\n",
      "File \u001B[0;32m~/Gagarin/venv/lib/python3.9/site-packages/moviepy/config.py:36\u001B[0m\n\u001B[1;32m     34\u001B[0m \u001B[38;5;28;01mif\u001B[39;00m FFMPEG_BINARY\u001B[38;5;241m==\u001B[39m\u001B[38;5;124m'\u001B[39m\u001B[38;5;124mffmpeg-imageio\u001B[39m\u001B[38;5;124m'\u001B[39m:\n\u001B[1;32m     35\u001B[0m     \u001B[38;5;28;01mfrom\u001B[39;00m \u001B[38;5;21;01mimageio\u001B[39;00m\u001B[38;5;21;01m.\u001B[39;00m\u001B[38;5;21;01mplugins\u001B[39;00m\u001B[38;5;21;01m.\u001B[39;00m\u001B[38;5;21;01mffmpeg\u001B[39;00m \u001B[38;5;28;01mimport\u001B[39;00m get_exe\n\u001B[0;32m---> 36\u001B[0m     FFMPEG_BINARY \u001B[38;5;241m=\u001B[39m \u001B[43mget_exe\u001B[49m\u001B[43m(\u001B[49m\u001B[43m)\u001B[49m\n\u001B[1;32m     38\u001B[0m \u001B[38;5;28;01melif\u001B[39;00m FFMPEG_BINARY\u001B[38;5;241m==\u001B[39m\u001B[38;5;124m'\u001B[39m\u001B[38;5;124mauto-detect\u001B[39m\u001B[38;5;124m'\u001B[39m:\n\u001B[1;32m     40\u001B[0m     \u001B[38;5;28;01mif\u001B[39;00m try_cmd([\u001B[38;5;124m'\u001B[39m\u001B[38;5;124mffmpeg\u001B[39m\u001B[38;5;124m'\u001B[39m])[\u001B[38;5;241m0\u001B[39m]:\n",
      "File \u001B[0;32m~/Gagarin/venv/lib/python3.9/site-packages/imageio/plugins/ffmpeg.py:173\u001B[0m, in \u001B[0;36mget_exe\u001B[0;34m()\u001B[0m\n\u001B[1;32m    170\u001B[0m \u001B[38;5;28;01mdef\u001B[39;00m \u001B[38;5;21mget_exe\u001B[39m():  \u001B[38;5;66;03m# pragma: no cover\u001B[39;00m\n\u001B[1;32m    171\u001B[0m \u001B[38;5;250m    \u001B[39m\u001B[38;5;124;03m\"\"\"Wrapper for imageio_ffmpeg.get_ffmpeg_exe()\"\"\"\u001B[39;00m\n\u001B[0;32m--> 173\u001B[0m     \u001B[38;5;28;01mreturn\u001B[39;00m \u001B[43mimageio_ffmpeg\u001B[49m\u001B[38;5;241;43m.\u001B[39;49m\u001B[43mget_ffmpeg_exe\u001B[49m\u001B[43m(\u001B[49m\u001B[43m)\u001B[49m\n",
      "File \u001B[0;32m~/Gagarin/venv/lib/python3.9/site-packages/imageio_ffmpeg/_utils.py:34\u001B[0m, in \u001B[0;36mget_ffmpeg_exe\u001B[0;34m()\u001B[0m\n\u001B[1;32m     31\u001B[0m     \u001B[38;5;28;01mreturn\u001B[39;00m exe\n\u001B[1;32m     33\u001B[0m \u001B[38;5;66;03m# Nothing was found\u001B[39;00m\n\u001B[0;32m---> 34\u001B[0m \u001B[38;5;28;01mraise\u001B[39;00m \u001B[38;5;167;01mRuntimeError\u001B[39;00m(\n\u001B[1;32m     35\u001B[0m     \u001B[38;5;124m\"\u001B[39m\u001B[38;5;124mNo ffmpeg exe could be found. Install ffmpeg on your system, \u001B[39m\u001B[38;5;124m\"\u001B[39m\n\u001B[1;32m     36\u001B[0m     \u001B[38;5;124m\"\u001B[39m\u001B[38;5;124mor set the IMAGEIO_FFMPEG_EXE environment variable.\u001B[39m\u001B[38;5;124m\"\u001B[39m\n\u001B[1;32m     37\u001B[0m )\n",
      "\u001B[0;31mRuntimeError\u001B[0m: No ffmpeg exe could be found. Install ffmpeg on your system, or set the IMAGEIO_FFMPEG_EXE environment variable."
     ]
    }
   ],
   "source": [
    "import numpy as np\n",
    "import pandas as pd\n",
    "from moviepy.editor import VideoFileClip\n",
    "from scipy.ndimage import gaussian_filter\n",
    "import os"
   ]
  },
  {
   "cell_type": "code",
   "source": [
    "def lighting_change(frame):\n",
    "    gray_frame = frame.mean(axis=2)\n",
    "\n",
    "    variance = np.var(gray_frame)\n",
    "\n",
    "    return variance\n",
    "\n",
    "\n",
    "def blur_change(frame):\n",
    "    gray_frame = frame.mean(axis=2)\n",
    "\n",
    "    blurred_frame = gaussian_filter(gray_frame, sigma=1)\n",
    "\n",
    "    blur_change = np.mean(np.abs(gray_frame - blurred_frame))\n",
    "\n",
    "    return blur_change\n",
    "\n",
    "\n",
    "def blocking_change(frame):\n",
    "    gray_frame = frame.mean(axis=2)\n",
    "\n",
    "    block_size = 16\n",
    "\n",
    "    block_variances = []\n",
    "    for i in range(0, gray_frame.shape[0], block_size):\n",
    "        for j in range(0, gray_frame.shape[1], block_size):\n",
    "            block = gray_frame[i:i+block_size, j:j+block_size]\n",
    "            block_variances.append(np.var(block))\n",
    "\n",
    "    blocking_change = np.std(block_variances)\n",
    "\n",
    "    return blocking_change\n",
    "\n",
    "\n",
    "def camera_movement(frame):\n",
    "    gray_frame = frame.mean(axis=2)\n",
    "\n",
    "    if 'prev_frame' not in camera_movement.__dict__:\n",
    "        camera_movement.prev_frame = gray_frame\n",
    "        movement = 0\n",
    "    else:\n",
    "        movement = np.mean(np.abs(gray_frame - camera_movement.prev_frame))\n",
    "        camera_movement.prev_frame = gray_frame\n",
    "\n",
    "    return movement"
   ],
   "metadata": {
    "id": "3qjZhAWm1hst"
   },
   "id": "3qjZhAWm1hst",
   "execution_count": 81,
   "outputs": []
  },
  {
   "cell_type": "code",
   "execution_count": 82,
   "id": "ee37909e87129f74",
   "metadata": {
    "ExecuteTime": {
     "end_time": "2024-04-12T13:29:27.679907Z",
     "start_time": "2024-04-12T13:29:27.677348Z"
    },
    "id": "ee37909e87129f74"
   },
   "outputs": [],
   "source": [
    "def extract_features(video_path):\n",
    "    video = VideoFileClip(video_path)\n",
    "\n",
    "    duration = int(video.duration)\n",
    "\n",
    "    framerate = int(video.fps)\n",
    "\n",
    "    num_frames = duration * framerate\n",
    "    width, height = video.size\n",
    "\n",
    "    bitrates = []\n",
    "    lighting_changes = []\n",
    "    blur_changes = []\n",
    "    blocking_changes = []\n",
    "    camera_movements = []\n",
    "\n",
    "    for i in range(num_frames):\n",
    "        frame = video.get_frame(i / framerate)\n",
    "\n",
    "        bitrates.append(os.path.getsize(video_path) / duration) \n",
    "        lighting_changes.append(lighting_change(frame))\n",
    "        blur_changes.append(blur_change(frame))\n",
    "        blocking_changes.append(blocking_change(frame))\n",
    "        camera_movements.append(camera_movement(frame))\n",
    "\n",
    "    df = pd.DataFrame({\n",
    "        'Time': [i / framerate for i in range(num_frames)],\n",
    "        'Bitrate': bitrates,\n",
    "        'Lighting Change': lighting_changes,\n",
    "        'Blur Change': blur_changes,\n",
    "        'Blocking Change': blocking_changes,\n",
    "        'Camera Movement': camera_movements\n",
    "    })\n",
    "\n",
    "\n",
    "    return df\n",
    "\n"
   ]
  },
  {
   "cell_type": "code",
   "execution_count": 83,
   "id": "ae89ed5e-8f43-422b-9749-6fdecea698b1",
   "metadata": {
    "ExecuteTime": {
     "end_time": "2024-04-12T14:07:59.102900Z",
     "start_time": "2024-04-12T14:07:59.099139Z"
    },
    "colab": {
     "base_uri": "https://localhost:8080/"
    },
    "id": "ae89ed5e-8f43-422b-9749-6fdecea698b1",
    "outputId": "763f344e-2e55-47c9-f8c9-f3762ece94b5"
   },
   "outputs": [
    {
     "output_type": "execute_result",
     "data": {
      "text/plain": [
       "['/content/gdrive/MyDrive/Train/not_anomaly/0.mp4',\n",
       " '/content/gdrive/MyDrive/Train/not_anomaly/1.mp4',\n",
       " '/content/gdrive/MyDrive/Train/not_anomaly/2.mp4',\n",
       " '/content/gdrive/MyDrive/Train/not_anomaly/3.mp4',\n",
       " '/content/gdrive/MyDrive/Train/not_anomaly/4.mp4',\n",
       " '/content/gdrive/MyDrive/Train/not_anomaly/5.mp4',\n",
       " '/content/gdrive/MyDrive/Train/not_anomaly/6.mp4',\n",
       " '/content/gdrive/MyDrive/Train/not_anomaly/7.mp4',\n",
       " '/content/gdrive/MyDrive/Train/not_anomaly/8.mp4',\n",
       " '/content/gdrive/MyDrive/Train/anomaly/0.mp4',\n",
       " '/content/gdrive/MyDrive/Train/anomaly/2.mp4',\n",
       " '/content/gdrive/MyDrive/Train/anomaly/3.mp4',\n",
       " '/content/gdrive/MyDrive/Train/anomaly/4.mp4',\n",
       " '/content/gdrive/MyDrive/Train/anomaly/5.mp4']"
      ]
     },
     "metadata": {},
     "execution_count": 83
    }
   ],
   "source": [
    "import glob\n",
    "normal_path=\"./Train/not_anomaly/*.mp4\"\n",
    "anom_path=\",/Train/anomaly/*.mp4\"\n",
    "\n",
    "normal_files = glob.glob(normal_path)\n",
    "anom_files = glob.glob(anom_path)"
   ]
  },
  {
   "cell_type": "code",
   "execution_count": 84,
   "id": "b88caf0c-d84d-4d31-920d-c268e8fd6695",
   "metadata": {
    "ExecuteTime": {
     "end_time": "2024-04-12T14:31:07.707656Z",
     "start_time": "2024-04-12T14:20:15.121721Z"
    },
    "colab": {
     "base_uri": "https://localhost:8080/",
     "height": 418
    },
    "id": "b88caf0c-d84d-4d31-920d-c268e8fd6695",
    "outputId": "7311b795-9cb8-42e0-d7ec-d31319f3240b"
   },
   "outputs": [
    {
     "metadata": {
      "tags": null
     },
     "name": "stdout",
     "output_type": "stream",
     "text": [
      "/content/gdrive/MyDrive/Train/not_anomaly/0.mp4\n",
      "0.mp4 not_anomaly\n"
     ]
    },
    {
     "output_type": "error",
     "ename": "KeyboardInterrupt",
     "evalue": "",
     "traceback": [
      "\u001B[0;31m---------------------------------------------------------------------------\u001B[0m",
      "\u001B[0;31mKeyboardInterrupt\u001B[0m                         Traceback (most recent call last)",
      "\u001B[0;32m<ipython-input-84-1d16f02591c5>\u001B[0m in \u001B[0;36m<cell line: 1>\u001B[0;34m()\u001B[0m\n\u001B[1;32m      6\u001B[0m     \u001B[0mname\u001B[0m\u001B[0;34m=\u001B[0m\u001B[0mpth\u001B[0m\u001B[0;34m.\u001B[0m\u001B[0msplit\u001B[0m\u001B[0;34m(\u001B[0m\u001B[0;34m\"/\"\u001B[0m\u001B[0;34m)\u001B[0m\u001B[0;34m[\u001B[0m\u001B[0;34m-\u001B[0m\u001B[0;36m1\u001B[0m\u001B[0;34m]\u001B[0m\u001B[0;34m\u001B[0m\u001B[0;34m\u001B[0m\u001B[0m\n\u001B[1;32m      7\u001B[0m     \u001B[0mprint\u001B[0m\u001B[0;34m(\u001B[0m\u001B[0mname\u001B[0m\u001B[0;34m,\u001B[0m\u001B[0mtag\u001B[0m\u001B[0;34m)\u001B[0m\u001B[0;34m\u001B[0m\u001B[0;34m\u001B[0m\u001B[0m\n\u001B[0;32m----> 8\u001B[0;31m     \u001B[0mextract_features\u001B[0m\u001B[0;34m(\u001B[0m\u001B[0mpth\u001B[0m\u001B[0;34m)\u001B[0m\u001B[0;34m.\u001B[0m\u001B[0mto_csv\u001B[0m\u001B[0;34m(\u001B[0m\u001B[0;34mf\"./train_csv/{tag}/{name[0]}.csv\"\u001B[0m\u001B[0;34m)\u001B[0m\u001B[0;34m\u001B[0m\u001B[0;34m\u001B[0m\u001B[0m\n\u001B[0m",
      "\u001B[0;32m<ipython-input-82-43b084395d49>\u001B[0m in \u001B[0;36mextract_features\u001B[0;34m(video_path)\u001B[0m\n\u001B[1;32m     26\u001B[0m         \u001B[0mbitrates\u001B[0m\u001B[0;34m.\u001B[0m\u001B[0mappend\u001B[0m\u001B[0;34m(\u001B[0m\u001B[0mos\u001B[0m\u001B[0;34m.\u001B[0m\u001B[0mpath\u001B[0m\u001B[0;34m.\u001B[0m\u001B[0mgetsize\u001B[0m\u001B[0;34m(\u001B[0m\u001B[0mvideo_path\u001B[0m\u001B[0;34m)\u001B[0m \u001B[0;34m/\u001B[0m \u001B[0mduration\u001B[0m\u001B[0;34m)\u001B[0m  \u001B[0;31m# Calculate approximate bitrate\u001B[0m\u001B[0;34m\u001B[0m\u001B[0;34m\u001B[0m\u001B[0m\n\u001B[1;32m     27\u001B[0m         \u001B[0mlighting_changes\u001B[0m\u001B[0;34m.\u001B[0m\u001B[0mappend\u001B[0m\u001B[0;34m(\u001B[0m\u001B[0mlighting_change\u001B[0m\u001B[0;34m(\u001B[0m\u001B[0mframe\u001B[0m\u001B[0;34m)\u001B[0m\u001B[0;34m)\u001B[0m\u001B[0;34m\u001B[0m\u001B[0;34m\u001B[0m\u001B[0m\n\u001B[0;32m---> 28\u001B[0;31m         \u001B[0mblur_changes\u001B[0m\u001B[0;34m.\u001B[0m\u001B[0mappend\u001B[0m\u001B[0;34m(\u001B[0m\u001B[0mblur_change\u001B[0m\u001B[0;34m(\u001B[0m\u001B[0mframe\u001B[0m\u001B[0;34m)\u001B[0m\u001B[0;34m)\u001B[0m\u001B[0;34m\u001B[0m\u001B[0;34m\u001B[0m\u001B[0m\n\u001B[0m\u001B[1;32m     29\u001B[0m         \u001B[0mblocking_changes\u001B[0m\u001B[0;34m.\u001B[0m\u001B[0mappend\u001B[0m\u001B[0;34m(\u001B[0m\u001B[0mblocking_change\u001B[0m\u001B[0;34m(\u001B[0m\u001B[0mframe\u001B[0m\u001B[0;34m)\u001B[0m\u001B[0;34m)\u001B[0m\u001B[0;34m\u001B[0m\u001B[0;34m\u001B[0m\u001B[0m\n\u001B[1;32m     30\u001B[0m         \u001B[0mcamera_movements\u001B[0m\u001B[0;34m.\u001B[0m\u001B[0mappend\u001B[0m\u001B[0;34m(\u001B[0m\u001B[0mcamera_movement\u001B[0m\u001B[0;34m(\u001B[0m\u001B[0mframe\u001B[0m\u001B[0;34m)\u001B[0m\u001B[0;34m)\u001B[0m\u001B[0;34m\u001B[0m\u001B[0;34m\u001B[0m\u001B[0m\n",
      "\u001B[0;32m<ipython-input-81-ddcca35008f8>\u001B[0m in \u001B[0;36mblur_change\u001B[0;34m(frame)\u001B[0m\n\u001B[1;32m     11\u001B[0m \u001B[0;32mdef\u001B[0m \u001B[0mblur_change\u001B[0m\u001B[0;34m(\u001B[0m\u001B[0mframe\u001B[0m\u001B[0;34m)\u001B[0m\u001B[0;34m:\u001B[0m\u001B[0;34m\u001B[0m\u001B[0;34m\u001B[0m\u001B[0m\n\u001B[1;32m     12\u001B[0m     \u001B[0;31m# Convert the frame to grayscale\u001B[0m\u001B[0;34m\u001B[0m\u001B[0;34m\u001B[0m\u001B[0m\n\u001B[0;32m---> 13\u001B[0;31m     \u001B[0mgray_frame\u001B[0m \u001B[0;34m=\u001B[0m \u001B[0mframe\u001B[0m\u001B[0;34m.\u001B[0m\u001B[0mmean\u001B[0m\u001B[0;34m(\u001B[0m\u001B[0maxis\u001B[0m\u001B[0;34m=\u001B[0m\u001B[0;36m2\u001B[0m\u001B[0;34m)\u001B[0m\u001B[0;34m\u001B[0m\u001B[0;34m\u001B[0m\u001B[0m\n\u001B[0m\u001B[1;32m     14\u001B[0m \u001B[0;34m\u001B[0m\u001B[0m\n\u001B[1;32m     15\u001B[0m     \u001B[0;31m# Apply Gaussian blur to the frame\u001B[0m\u001B[0;34m\u001B[0m\u001B[0;34m\u001B[0m\u001B[0m\n",
      "\u001B[0;32m/usr/local/lib/python3.10/dist-packages/numpy/core/_methods.py\u001B[0m in \u001B[0;36m_mean\u001B[0;34m(a, axis, dtype, out, keepdims, where)\u001B[0m\n\u001B[1;32m    116\u001B[0m             \u001B[0mis_float16_result\u001B[0m \u001B[0;34m=\u001B[0m \u001B[0;32mTrue\u001B[0m\u001B[0;34m\u001B[0m\u001B[0;34m\u001B[0m\u001B[0m\n\u001B[1;32m    117\u001B[0m \u001B[0;34m\u001B[0m\u001B[0m\n\u001B[0;32m--> 118\u001B[0;31m     \u001B[0mret\u001B[0m \u001B[0;34m=\u001B[0m \u001B[0mumr_sum\u001B[0m\u001B[0;34m(\u001B[0m\u001B[0marr\u001B[0m\u001B[0;34m,\u001B[0m \u001B[0maxis\u001B[0m\u001B[0;34m,\u001B[0m \u001B[0mdtype\u001B[0m\u001B[0;34m,\u001B[0m \u001B[0mout\u001B[0m\u001B[0;34m,\u001B[0m \u001B[0mkeepdims\u001B[0m\u001B[0;34m,\u001B[0m \u001B[0mwhere\u001B[0m\u001B[0;34m=\u001B[0m\u001B[0mwhere\u001B[0m\u001B[0;34m)\u001B[0m\u001B[0;34m\u001B[0m\u001B[0;34m\u001B[0m\u001B[0m\n\u001B[0m\u001B[1;32m    119\u001B[0m     \u001B[0;32mif\u001B[0m \u001B[0misinstance\u001B[0m\u001B[0;34m(\u001B[0m\u001B[0mret\u001B[0m\u001B[0;34m,\u001B[0m \u001B[0mmu\u001B[0m\u001B[0;34m.\u001B[0m\u001B[0mndarray\u001B[0m\u001B[0;34m)\u001B[0m\u001B[0;34m:\u001B[0m\u001B[0;34m\u001B[0m\u001B[0;34m\u001B[0m\u001B[0m\n\u001B[1;32m    120\u001B[0m         \u001B[0;32mwith\u001B[0m \u001B[0m_no_nep50_warning\u001B[0m\u001B[0;34m(\u001B[0m\u001B[0;34m)\u001B[0m\u001B[0;34m:\u001B[0m\u001B[0;34m\u001B[0m\u001B[0;34m\u001B[0m\u001B[0m\n",
      "\u001B[0;31mKeyboardInterrupt\u001B[0m: "
     ]
    }
   ],
   "source": [
    "# for pth in files:\n",
    "#     print(pth)\n",
    "#     # tag=pth.split(\"\\\\\")[-2]\n",
    "#     # name=pth.split(\"\\\\\")[-1]\n",
    "#     tag=pth.split(\"/\")[-2]\n",
    "#     name=pth.split(\"/\")[-1]\n",
    "#     print(name,tag)\n",
    "#     extract_features(pth).to_csv(f\"./train_csv/{tag}/{name[0]}.csv\")"
   ]
  },
  {
   "cell_type": "code",
   "execution_count": null,
   "id": "389f7f3f-2e41-423a-8e82-f11ac919e0b2",
   "metadata": {
    "id": "389f7f3f-2e41-423a-8e82-f11ac919e0b2"
   },
   "outputs": [],
   "source": []
  }
 ],
 "metadata": {
  "kernelspec": {
   "name": "python3",
   "language": "python",
   "display_name": "Python 3 (ipykernel)"
  },
  "language_info": {
   "codemirror_mode": {
    "name": "ipython",
    "version": 3
   },
   "file_extension": ".py",
   "mimetype": "text/x-python",
   "name": "python",
   "nbconvert_exporter": "python",
   "pygments_lexer": "ipython3",
   "version": "3.11.5"
  },
  "colab": {
   "provenance": [],
   "gpuType": "T4"
  }
 },
 "nbformat": 4,
 "nbformat_minor": 5
}
