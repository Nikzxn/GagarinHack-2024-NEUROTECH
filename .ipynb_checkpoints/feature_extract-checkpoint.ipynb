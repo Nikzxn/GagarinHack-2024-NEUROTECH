{
 "cells": [
  {
   "cell_type": "code",
   "execution_count": 7,
   "id": "initial_id",
   "metadata": {
    "ExecuteTime": {
     "end_time": "2024-04-12T12:59:54.368306Z",
     "start_time": "2024-04-12T12:59:54.364546Z"
    }
   },
   "outputs": [],
   "source": [
    "import cv2 \n",
    "import numpy as np\n",
    "\n",
    "video_path = \"../Train/anomaly/3.mp4\""
   ]
  },
  {
   "cell_type": "code",
   "execution_count": 8,
   "id": "ee37909e87129f74",
   "metadata": {
    "collapsed": false,
    "ExecuteTime": {
     "end_time": "2024-04-12T12:59:57.241060Z",
     "start_time": "2024-04-12T12:59:57.235491Z"
    }
   },
   "outputs": [],
   "source": [
    "def extract_lighting_change(frame1, frame2):\n",
    "    gray1 = cv2.cvtColor(frame1, cv2.COLOR_BGR2GRAY)\n",
    "    gray2 = cv2.cvtColor(frame2, cv2.COLOR_BGR2GRAY)\n",
    "    diff = cv2.absdiff(gray1, gray2)\n",
    "    return np.mean(diff)\n",
    "\n",
    "def extract_blur(frame):\n",
    "    #фильтр обнаружения краев, если дисперсии мало - есть размытие\n",
    "    blur = cv2.Laplacian(frame, cv2.CV_64F).var()\n",
    "    return blur\n",
    "\n",
    "def extract_camera_angle_change(frame1, frame2):\n",
    "    sift = cv2.SIFT_create()\n",
    "    # SIFT определяет ключевые точки и их дескрипторы\n",
    "    kp1, des1 = sift.detectAndCompute(frame1, None)\n",
    "    kp2, des2 = sift.detectAndCompute(frame2, None)\n",
    "\n",
    "    # проходимся knn матчером по соответствующим точкам обоих кадров\n",
    "    # если \"хороших\" совпадений мало - камеру сдвинули\n",
    "    bf = cv2.BFMatcher()\n",
    "    matches = bf.knnMatch(des1, des2, k=2)\n",
    "    \n",
    "    good_matches = []\n",
    "    for m, n in matches:\n",
    "        if m.distance < 0.75 * n.distance:\n",
    "            good_matches.append(m)\n",
    "\n",
    "    return len(good_matches)\n",
    "\n",
    "def extract_bitrate(video_path):\n",
    "    cap = cv2.VideoCapture(video_path)\n",
    "    return cap.get(cv2.CAP_PROP_BITRATE)\n",
    "\n",
    "def detect_covered_camera(frame):\n",
    "    gray_frame = cv2.cvtColor(frame, cv2.COLOR_BGR2GRAY)\n",
    "    \n",
    "    _, binary_frame = cv2.threshold(gray_frame, 30, 255, cv2.THRESH_BINARY)\n",
    "    \n",
    "    white_pixel_count = cv2.countNonZero(binary_frame)\n",
    "    \n",
    "    if white_pixel_count > 0.9 * (frame.shape[0] * frame.shape[1]):\n",
    "        return True\n",
    "    else:\n",
    "        return False\n",
    "\n",
    "def extract_color_entropy(frame):\n",
    "    hist_b = cv2.calcHist([frame], [0], None, [256], [0, 256])\n",
    "    hist_g = cv2.calcHist([frame], [1], None, [256], [0, 256])\n",
    "    hist_r = cv2.calcHist([frame], [2], None, [256], [0, 256])\n",
    "    \n",
    "    entropy_b = -np.sum(np.nan_to_num(hist_b * np.log(hist_b)))\n",
    "    entropy_g = -np.sum(np.nan_to_num(hist_g * np.log(hist_g)))\n",
    "    entropy_r = -np.sum(np.nan_to_num(hist_r * np.log(hist_r)))\n",
    "    \n",
    "    total_entropy = entropy_b + entropy_g + entropy_r\n",
    "    \n",
    "    return total_entropy\n",
    "\n",
    "#unused\n",
    "def extract_features_from_video(video_path):\n",
    "    cap = cv2.VideoCapture(video_path)\n",
    "    \n",
    "    if not cap.isOpened():\n",
    "        print(\"Error opening video file\")\n",
    "        return\n",
    "    \n",
    "    prev_frame = None\n",
    "    while True:\n",
    "        ret, frame = cap.read()\n",
    "        \n",
    "        if not ret:\n",
    "            print(\"End of video\")\n",
    "            break\n",
    "        \n",
    "        if prev_frame is not None:\n",
    "            lighting_change = extract_lighting_change(prev_frame, frame)\n",
    "            blur = extract_blur(frame)\n",
    "            camera_angle_change = extract_camera_angle_change(prev_frame, frame)\n",
    "            \n",
    "            print(\"Lighting Change:\", lighting_change)\n",
    "            print(\"Blur:\", blur)\n",
    "            print(\"Camera Angle Change:\", camera_angle_change)\n",
    "        \n",
    "        prev_frame = frame\n",
    "        \n",
    "        cv2.imshow('frame', frame)\n",
    "        if cv2.waitKey(1) & 0xFF == ord('q'):\n",
    "            break\n",
    "            \n",
    "    cap.release()\n",
    "    cv2.destroyAllWindows()"
   ]
  },
  {
   "cell_type": "code",
   "execution_count": 9,
   "id": "3c9a87b2c28c55db",
   "metadata": {
    "collapsed": false,
    "scrolled": true,
    "ExecuteTime": {
     "end_time": "2024-04-12T12:59:57.831525Z",
     "start_time": "2024-04-12T12:59:57.827697Z"
    }
   },
   "outputs": [],
   "source": [
    "##extract_features_from_video(video_path)"
   ]
  },
  {
   "cell_type": "code",
   "execution_count": 11,
   "id": "47e7512dce10bf22",
   "metadata": {
    "collapsed": false,
    "ExecuteTime": {
     "end_time": "2024-04-12T13:00:08.746633Z",
     "start_time": "2024-04-12T13:00:08.741495Z"
    }
   },
   "outputs": [],
   "source": [
    "import pandas as pd\n",
    "def preprocess_video(video_path):\n",
    "    cap = cv2.VideoCapture(video_path)\n",
    "    \n",
    "    if not cap.isOpened():\n",
    "        print(\"Error opening video file\")\n",
    "        return\n",
    "    \n",
    "    fps = cap.get(cv2.CAP_PROP_FPS)\n",
    "    \n",
    "    data = []\n",
    "    prev_frame = None\n",
    "    frame_number = 0\n",
    "    while True:\n",
    "        ret, frame = cap.read()\n",
    "        \n",
    "        if not ret:\n",
    "            print(\"End of video\")\n",
    "            break\n",
    "        \n",
    "        if prev_frame is not None:\n",
    "            timecode = frame_number / fps\n",
    "            lighting_change = extract_lighting_change(prev_frame, frame)\n",
    "            blur = extract_blur(frame)\n",
    "            camera_angle_change = extract_camera_angle_change(prev_frame, frame)\n",
    "            bitrate = extract_bitrate(video_path)\n",
    "            camera_covered = detect_covered_camera(frame)\n",
    "            color_entropy = extract_color_entropy(frame)\n",
    "            \n",
    "            data.append({\n",
    "                'frame_number': frame_number,\n",
    "                'timecode': timecode,\n",
    "                'lighting_change': lighting_change,\n",
    "                'blur': blur,\n",
    "                'camera_angle_change': camera_angle_change,\n",
    "                'bitrate': bitrate,\n",
    "                'camera_covered': camera_covered,\n",
    "                'color_entropy': color_entropy\n",
    "            })\n",
    "            \n",
    "        prev_frame = frame\n",
    "        frame_number += 1\n",
    "        \n",
    "    cap.release()\n",
    "    \n",
    "    return pd.DataFrame(data)"
   ]
  },
  {
   "cell_type": "code",
   "execution_count": 12,
   "id": "efad3584-8bfc-4e88-8e39-c48f0c58321c",
   "metadata": {
    "ExecuteTime": {
     "end_time": "2024-04-12T13:00:11.682822Z",
     "start_time": "2024-04-12T13:00:11.667940Z"
    }
   },
   "outputs": [
    {
     "name": "stdout",
     "output_type": "stream",
     "text": [
      "Error opening video file\n"
     ]
    },
    {
     "name": "stderr",
     "output_type": "stream",
     "text": [
      "OpenCV: Couldn't read video stream from file \"../Train/anomaly/3.mp4\"\n"
     ]
    }
   ],
   "source": [
    "df=preprocess_video(video_path)"
   ]
  },
  {
   "cell_type": "code",
   "execution_count": 11,
   "id": "1ab9aa04-8f98-4bf7-b326-c11e170ac1d9",
   "metadata": {},
   "outputs": [
    {
     "data": {
      "text/html": [
       "<div>\n",
       "<style scoped>\n",
       "    .dataframe tbody tr th:only-of-type {\n",
       "        vertical-align: middle;\n",
       "    }\n",
       "\n",
       "    .dataframe tbody tr th {\n",
       "        vertical-align: top;\n",
       "    }\n",
       "\n",
       "    .dataframe thead th {\n",
       "        text-align: right;\n",
       "    }\n",
       "</style>\n",
       "<table border=\"1\" class=\"dataframe\">\n",
       "  <thead>\n",
       "    <tr style=\"text-align: right;\">\n",
       "      <th></th>\n",
       "      <th>Blur</th>\n",
       "      <th>Lighting Change</th>\n",
       "      <th>Camera Angle Change</th>\n",
       "    </tr>\n",
       "  </thead>\n",
       "  <tbody>\n",
       "    <tr>\n",
       "      <th>0</th>\n",
       "      <td>323.95767</td>\n",
       "      <td>0.221717</td>\n",
       "      <td>1900</td>\n",
       "    </tr>\n",
       "  </tbody>\n",
       "</table>\n",
       "</div>"
      ],
      "text/plain": [
       "        Blur  Lighting Change  Camera Angle Change\n",
       "0  323.95767         0.221717                 1900"
      ]
     },
     "execution_count": 11,
     "metadata": {},
     "output_type": "execute_result"
    }
   ],
   "source": [
    "df"
   ]
  },
  {
   "cell_type": "code",
   "execution_count": 14,
   "id": "ae89ed5e-8f43-422b-9749-6fdecea698b1",
   "metadata": {
    "ExecuteTime": {
     "end_time": "2024-04-12T13:01:02.443262Z",
     "start_time": "2024-04-12T13:01:02.438566Z"
    }
   },
   "outputs": [
    {
     "data": {
      "text/plain": "['/Users/elhidze/Downloads/Train/anomaly/4.mp4',\n '/Users/elhidze/Downloads/Train/anomaly/5.mp4',\n '/Users/elhidze/Downloads/Train/anomaly/0.mp4',\n '/Users/elhidze/Downloads/Train/anomaly/2.mp4',\n '/Users/elhidze/Downloads/Train/anomaly/3.mp4',\n '/Users/elhidze/Downloads/Train/not_anomaly/7.mp4',\n '/Users/elhidze/Downloads/Train/not_anomaly/6.mp4',\n '/Users/elhidze/Downloads/Train/not_anomaly/4.mp4',\n '/Users/elhidze/Downloads/Train/not_anomaly/5.mp4',\n '/Users/elhidze/Downloads/Train/not_anomaly/1.mp4',\n '/Users/elhidze/Downloads/Train/not_anomaly/0.mp4',\n '/Users/elhidze/Downloads/Train/not_anomaly/2.mp4',\n '/Users/elhidze/Downloads/Train/not_anomaly/3.mp4',\n '/Users/elhidze/Downloads/Train/not_anomaly/8.mp4']"
     },
     "execution_count": 14,
     "metadata": {},
     "output_type": "execute_result"
    }
   ],
   "source": [
    "import glob\n",
    "train_path=\"/Users/elhidze/Downloads/Train/*/*.mp4\"\n",
    "files=glob.glob(train_path)\n",
    "files"
   ]
  },
  {
   "cell_type": "code",
   "execution_count": null,
   "id": "b88caf0c-d84d-4d31-920d-c268e8fd6695",
   "metadata": {
    "is_executing": true,
    "ExecuteTime": {
     "start_time": "2024-04-12T13:01:06.395109Z"
    }
   },
   "outputs": [
    {
     "name": "stderr",
     "output_type": "stream",
     "text": [
      "/var/folders/fg/nlfm7ch555n40t16bqsrlt040000gn/T/ipykernel_38911/4102653402.py:51: RuntimeWarning: divide by zero encountered in log\n",
      "  entropy_b = -np.sum(np.nan_to_num(hist_b * np.log(hist_b)))\n",
      "/var/folders/fg/nlfm7ch555n40t16bqsrlt040000gn/T/ipykernel_38911/4102653402.py:51: RuntimeWarning: invalid value encountered in multiply\n",
      "  entropy_b = -np.sum(np.nan_to_num(hist_b * np.log(hist_b)))\n",
      "/var/folders/fg/nlfm7ch555n40t16bqsrlt040000gn/T/ipykernel_38911/4102653402.py:52: RuntimeWarning: divide by zero encountered in log\n",
      "  entropy_g = -np.sum(np.nan_to_num(hist_g * np.log(hist_g)))\n",
      "/var/folders/fg/nlfm7ch555n40t16bqsrlt040000gn/T/ipykernel_38911/4102653402.py:52: RuntimeWarning: invalid value encountered in multiply\n",
      "  entropy_g = -np.sum(np.nan_to_num(hist_g * np.log(hist_g)))\n",
      "/var/folders/fg/nlfm7ch555n40t16bqsrlt040000gn/T/ipykernel_38911/4102653402.py:53: RuntimeWarning: divide by zero encountered in log\n",
      "  entropy_r = -np.sum(np.nan_to_num(hist_r * np.log(hist_r)))\n",
      "/var/folders/fg/nlfm7ch555n40t16bqsrlt040000gn/T/ipykernel_38911/4102653402.py:53: RuntimeWarning: invalid value encountered in multiply\n",
      "  entropy_r = -np.sum(np.nan_to_num(hist_r * np.log(hist_r)))\n"
     ]
    }
   ],
   "source": [
    "for pth in files:\n",
    "    df=preprocess_video(pth)\n",
    "    tag=pth.split(\"\\\\\")[-2]\n",
    "    name=pth.split(\"\\\\\")[-1]\n",
    "    print(name,tag)\n",
    "    df.to_csv(f\"../csv/{tag}/{name[0]}.csv\")"
   ]
  },
  {
   "cell_type": "code",
   "execution_count": null,
   "id": "389f7f3f-2e41-423a-8e82-f11ac919e0b2",
   "metadata": {},
   "outputs": [],
   "source": []
  }
 ],
 "metadata": {
  "kernelspec": {
   "display_name": "Python 3 (ipykernel)",
   "language": "python",
   "name": "python3"
  },
  "language_info": {
   "codemirror_mode": {
    "name": "ipython",
    "version": 3
   },
   "file_extension": ".py",
   "mimetype": "text/x-python",
   "name": "python",
   "nbconvert_exporter": "python",
   "pygments_lexer": "ipython3",
   "version": "3.11.5"
  }
 },
 "nbformat": 4,
 "nbformat_minor": 5
}
