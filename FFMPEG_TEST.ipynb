{
 "cells": [
  {
   "cell_type": "code",
   "execution_count": null,
   "id": "421c8b44-39cc-4f55-bb2d-6a2e1f918132",
   "metadata": {},
   "outputs": [],
   "source": [
    "import subprocess\n",
    "video_pth=\"../Train/anomaly/2.mp4\"\n",
    "output_pth=\"../Train/anomaly/output2.h264\"\n",
    "res_pth=\"../Train/anomaly/res2.txt\"\n",
    "command = ['ffmpeg', '-i', video_pth, '-c:v', 'libx264', output_pth]\n",
    "\n",
    "try:\n",
    "    subprocess.run(command, stdout=subprocess.PIPE, stderr=subprocess.PIPE, check=True)\n",
    "except subprocess.CalledProcessError as e:\n",
    "    print(\"FFmpeg returned an error:\", e.stderr)"
   ]
  },
  {
   "cell_type": "code",
   "execution_count": 4,
   "id": "ba707dcd-ab4f-413b-bef4-b8c71bddafb9",
   "metadata": {},
   "outputs": [],
   "source": [
    "import subprocess\n",
    "\n",
    "command = [\"ffprobe\", \"-select_streams\", \"v:0\", \"-show_frames\", \"-print_format\", \"json\", output_pth]\n",
    "\n",
    "with open(res_pth, \"w\") as file:\n",
    "    subprocess.call(command, stdout=file)"
   ]
  },
  {
   "cell_type": "code",
   "execution_count": null,
   "id": "aee52e63-3da9-4e12-88fe-a05867e0dc69",
   "metadata": {},
   "outputs": [],
   "source": []
  }
 ],
 "metadata": {
  "kernelspec": {
   "display_name": "Python 3 (ipykernel)",
   "language": "python",
   "name": "python3"
  },
  "language_info": {
   "codemirror_mode": {
    "name": "ipython",
    "version": 3
   },
   "file_extension": ".py",
   "mimetype": "text/x-python",
   "name": "python",
   "nbconvert_exporter": "python",
   "pygments_lexer": "ipython3",
   "version": "3.11.5"
  }
 },
 "nbformat": 4,
 "nbformat_minor": 5
}
