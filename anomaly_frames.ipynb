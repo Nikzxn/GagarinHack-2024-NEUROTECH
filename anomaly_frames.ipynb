{
 "cells": [
  {
   "cell_type": "code",
   "execution_count": 2,
   "id": "2dfacf15-006f-4c16-a1f7-3e163347330d",
   "metadata": {},
   "outputs": [
    {
     "data": {
      "text/plain": [
       "['../Train\\\\anomaly\\\\0.mp4',\n",
       " '../Train\\\\anomaly\\\\2.mp4',\n",
       " '../Train\\\\anomaly\\\\3.mp4',\n",
       " '../Train\\\\anomaly\\\\4.mp4',\n",
       " '../Train\\\\anomaly\\\\5.mp4',\n",
       " '../Train\\\\not_anomaly\\\\0.mp4',\n",
       " '../Train\\\\not_anomaly\\\\1.mp4',\n",
       " '../Train\\\\not_anomaly\\\\2.mp4',\n",
       " '../Train\\\\not_anomaly\\\\3.mp4',\n",
       " '../Train\\\\not_anomaly\\\\4.mp4',\n",
       " '../Train\\\\not_anomaly\\\\5.mp4',\n",
       " '../Train\\\\not_anomaly\\\\6.mp4',\n",
       " '../Train\\\\not_anomaly\\\\7.mp4',\n",
       " '../Train\\\\not_anomaly\\\\8.mp4']"
      ]
     },
     "execution_count": 2,
     "metadata": {},
     "output_type": "execute_result"
    }
   ],
   "source": [
    "import glob\n",
    "train_path=\"../Train/*/*.mp4\"\n",
    "files=glob.glob(train_path)\n",
    "files"
   ]
  },
  {
   "cell_type": "code",
   "execution_count": null,
   "id": "80e0d2f8-b105-4ff4-9ba0-19f8670e6afb",
   "metadata": {},
   "outputs": [],
   "source": [
    "import "
   ]
  }
 ],
 "metadata": {
  "kernelspec": {
   "display_name": "Python 3 (ipykernel)",
   "language": "python",
   "name": "python3"
  },
  "language_info": {
   "codemirror_mode": {
    "name": "ipython",
    "version": 3
   },
   "file_extension": ".py",
   "mimetype": "text/x-python",
   "name": "python",
   "nbconvert_exporter": "python",
   "pygments_lexer": "ipython3",
   "version": "3.11.5"
  }
 },
 "nbformat": 4,
 "nbformat_minor": 5
}
