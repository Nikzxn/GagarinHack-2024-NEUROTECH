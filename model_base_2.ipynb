{
 "cells": [
  {
   "cell_type": "code",
   "execution_count": 77,
   "id": "initial_id",
   "metadata": {
    "collapsed": true,
    "ExecuteTime": {
     "end_time": "2024-04-13T18:17:55.781743Z",
     "start_time": "2024-04-13T18:17:55.774973Z"
    }
   },
   "outputs": [],
   "source": [
    "import pandas as pd\n",
    "import numpy as np\n",
    "from sklearn.preprocessing import LabelEncoder\n",
    "from sklearn.model_selection import train_test_split\n",
    "from keras.models import Sequential\n",
    "from keras.layers import LSTM, Dense, Dropout\n",
    "from keras.utils import to_categorical"
   ]
  },
  {
   "cell_type": "code",
   "execution_count": 78,
   "outputs": [],
   "source": [
    "X_train_all = []\n",
    "y_train_all = []\n",
    "\n",
    "train_files = ['/Users/elhidze/Gagarin/meta_csv/train/anomaly/0.csv',\n",
    "               '/Users/elhidze/Gagarin/meta_csv/train/anomaly/2.csv',\n",
    "               '/Users/elhidze/Gagarin/meta_csv/train/anomaly/3.csv',\n",
    "               '/Users/elhidze/Gagarin/meta_csv/train/anomaly/4.csv',\n",
    "               '/Users/elhidze/Gagarin/meta_csv/train/anomaly/5.csv',\n",
    "               \n",
    "               '/Users/elhidze/Gagarin/meta_csv/train/normal/0.csv',\n",
    "               '/Users/elhidze/Gagarin/meta_csv/train/normal/1.csv',\n",
    "               '/Users/elhidze/Gagarin/meta_csv/train/normal/2.csv',\n",
    "               '/Users/elhidze/Gagarin/meta_csv/train/normal/3.csv',\n",
    "               '/Users/elhidze/Gagarin/meta_csv/train/normal/4.csv',\n",
    "               '/Users/elhidze/Gagarin/meta_csv/train/normal/5.csv',\n",
    "               '/Users/elhidze/Gagarin/meta_csv/train/normal/6.csv',\n",
    "               '/Users/elhidze/Gagarin/meta_csv/train/normal/7.csv',\n",
    "               '/Users/elhidze/Gagarin/meta_csv/train/normal/8.csv']\n",
    "for file in train_files:\n",
    "    train_df = pd.read_csv(file)\n",
    "    label_encoder = LabelEncoder()\n",
    "    train_df['type_encoded'] = label_encoder.fit_transform(train_df['type'])\n",
    "    X_train_all.append(train_df[['time_pos', 'type_encoded', 'byte_pos', 'size']].values)\n",
    "    y_train_all.append(train_df[['is_normal', 'has_move', 'has_blur', 'has_block', 'has_overexposure']].values)\n",
    "\n",
    "X_train = np.concatenate(X_train_all)\n",
    "y_train = np.concatenate(y_train_all)\n"
   ],
   "metadata": {
    "collapsed": false,
    "ExecuteTime": {
     "end_time": "2024-04-13T18:17:56.090885Z",
     "start_time": "2024-04-13T18:17:55.973931Z"
    }
   },
   "id": "7e9197ecbe275fb0"
  },
  {
   "cell_type": "code",
   "execution_count": 79,
   "outputs": [
    {
     "name": "stderr",
     "output_type": "stream",
     "text": [
      "/Users/elhidze/Gagarin/venv/lib/python3.9/site-packages/keras/src/layers/rnn/rnn.py:204: UserWarning: Do not pass an `input_shape`/`input_dim` argument to a layer. When using Sequential models, prefer using an `Input(shape)` object as the first layer in the model instead.\n",
      "  super().__init__(**kwargs)\n"
     ]
    }
   ],
   "source": [
    "model = Sequential()\n",
    "model.add(LSTM(64, input_shape=(X_train.shape[1], 1)))\n",
    "model.add(Dropout(0.2))\n",
    "model.add(Dense(5, activation='softmax')) "
   ],
   "metadata": {
    "collapsed": false,
    "ExecuteTime": {
     "end_time": "2024-04-13T18:18:00.384201Z",
     "start_time": "2024-04-13T18:18:00.347502Z"
    }
   },
   "id": "5817dcbf4ff1c717"
  },
  {
   "cell_type": "code",
   "execution_count": 80,
   "outputs": [],
   "source": [
    "model.compile(loss='categorical_crossentropy', optimizer='adam', metrics=['accuracy'])"
   ],
   "metadata": {
    "collapsed": false,
    "ExecuteTime": {
     "end_time": "2024-04-13T18:18:01.705339Z",
     "start_time": "2024-04-13T18:18:01.699843Z"
    }
   },
   "id": "7b791e04b53acad0"
  },
  {
   "cell_type": "code",
   "execution_count": 81,
   "outputs": [
    {
     "name": "stdout",
     "output_type": "stream",
     "text": [
      "\u001B[1m230/230\u001B[0m \u001B[32m━━━━━━━━━━━━━━━━━━━━\u001B[0m\u001B[37m\u001B[0m \u001B[1m0s\u001B[0m 1ms/step - accuracy: 0.8811 - loss: 1.5230\n",
      "Test Accuracy: 0.8323336839675903\n"
     ]
    }
   ],
   "source": [
    "test_files = ['/Users/elhidze/Gagarin/meta_csv/test/1.mp4.csv',\n",
    "              '/Users/elhidze/Gagarin/meta_csv/test/2.mp4.csv',\n",
    "              '/Users/elhidze/Gagarin/meta_csv/test/3.mp4.csv',\n",
    "              '/Users/elhidze/Gagarin/meta_csv/test/4.mp4.csv',\n",
    "              '/Users/elhidze/Gagarin/meta_csv/test/5.mp4.csv'] \n",
    "for file in test_files:\n",
    "    test_df = pd.read_csv(file)\n",
    "    test_df['type_encoded'] = label_encoder.transform(test_df['type'])\n",
    "    X_test = test_df[['time_pos', 'type_encoded', 'byte_pos', 'size']].values\n",
    "    y_test = test_df[['is_normal', 'has_move', 'has_blur', 'has_block', 'has_overexposure']].values\n",
    "    \n",
    "    X_train_reshaped = X_train.reshape((X_train.shape[0], X_train.shape[1], 1))\n",
    "    X_test_reshaped = X_test.reshape((X_test.shape[0], X_test.shape[1], 1))\n",
    "\n",
    "    model.fit(X_train_reshaped, y_train, epochs=10, batch_size=32, validation_data=(X_test_reshaped, y_test), verbose=0)\n",
    "\n",
    "loss, accuracy = model.evaluate(X_test_reshaped, y_test)\n",
    "print(\"Test Accuracy:\", accuracy)"
   ],
   "metadata": {
    "collapsed": false,
    "ExecuteTime": {
     "end_time": "2024-04-13T18:24:47.986953Z",
     "start_time": "2024-04-13T18:18:19.054700Z"
    }
   },
   "id": "785f78d3c93481cc"
  },
  {
   "cell_type": "code",
   "execution_count": 38,
   "outputs": [],
   "source": [],
   "metadata": {
    "collapsed": false,
    "ExecuteTime": {
     "end_time": "2024-04-13T18:01:42.150502Z",
     "start_time": "2024-04-13T18:01:41.338370Z"
    }
   },
   "id": "c64134de69c8dc89"
  },
  {
   "cell_type": "code",
   "execution_count": null,
   "outputs": [],
   "source": [],
   "metadata": {
    "collapsed": false
   },
   "id": "a36a3489b02c403f"
  }
 ],
 "metadata": {
  "kernelspec": {
   "display_name": "Python 3",
   "language": "python",
   "name": "python3"
  },
  "language_info": {
   "codemirror_mode": {
    "name": "ipython",
    "version": 2
   },
   "file_extension": ".py",
   "mimetype": "text/x-python",
   "name": "python",
   "nbconvert_exporter": "python",
   "pygments_lexer": "ipython2",
   "version": "2.7.6"
  }
 },
 "nbformat": 4,
 "nbformat_minor": 5
}
