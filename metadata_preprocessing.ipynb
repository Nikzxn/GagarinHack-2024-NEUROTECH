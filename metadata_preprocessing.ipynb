{
 "cells": [
  {
   "cell_type": "code",
   "execution_count": 5,
   "id": "initial_id",
   "metadata": {
    "collapsed": true,
    "ExecuteTime": {
     "end_time": "2024-04-13T16:09:07.015207Z",
     "start_time": "2024-04-13T16:09:07.011702Z"
    }
   },
   "outputs": [],
   "source": [
    "import json\n",
    "import pandas as pd"
   ]
  },
  {
   "cell_type": "code",
   "execution_count": 6,
   "outputs": [],
   "source": [
    "files = ['/Users/elhidze/Gagarin/metadata/train/0.json',\n",
    "         '/Users/elhidze/Gagarin/metadata/train/2.json',\n",
    "         '/Users/elhidze/Gagarin/metadata/train/3.json',\n",
    "         '/Users/elhidze/Gagarin/metadata/train/4.json',\n",
    "         '/Users/elhidze/Gagarin/metadata/train/5.json']\n",
    "outs = ['/Users/elhidze/Gagarin/meta_csv/train/0.csv',\n",
    "        '/Users/elhidze/Gagarin/meta_csv/train/2.csv',\n",
    "        '/Users/elhidze/Gagarin/meta_csv/train/3.csv',\n",
    "        '/Users/elhidze/Gagarin/meta_csv/train/4.csv',\n",
    "        '/Users/elhidze/Gagarin/meta_csv/train/5.csv']"
   ],
   "metadata": {
    "collapsed": false,
    "ExecuteTime": {
     "end_time": "2024-04-13T16:09:07.209374Z",
     "start_time": "2024-04-13T16:09:07.203473Z"
    }
   },
   "id": "e6050882d953c4b6"
  },
  {
   "cell_type": "code",
   "execution_count": 8,
   "outputs": [],
   "source": [
    "for i in range(len(files)):\n",
    "    with open(files[i]) as f:\n",
    "        frames = json.load(f)\n",
    "    \n",
    "    frames_json = json.dumps(frames)\n",
    "    frames = json.loads(frames_json)\n",
    "    \n",
    "    pkt_pos = [int(frame['pkt_pos']) for frame in frames]\n",
    "    byte_pos = pkt_pos\n",
    "    time_pos = [i / 25 for i in range(len(pkt_pos))]\n",
    "    pkt_sizes = [int(frame['pkt_size']) for frame in frames]\n",
    "    m = max(pkt_sizes)\n",
    "    pkt_sizes = [size / m for size in pkt_sizes]\n",
    "    pic_types = [frame['pict_type'] for frame in frames]\n",
    "    \n",
    "    df = pd.DataFrame({'time_pos': time_pos, 'byte_pos': byte_pos, 'size': pkt_sizes, 'type': pic_types}).sort_values(by='time_pos')\n",
    "    df.to_csv(outs[i], index=False)"
   ],
   "metadata": {
    "collapsed": false,
    "ExecuteTime": {
     "end_time": "2024-04-13T16:09:33.517492Z",
     "start_time": "2024-04-13T16:09:32.194932Z"
    }
   },
   "id": "36e1cb3e7befbcee"
  },
  {
   "cell_type": "code",
   "execution_count": null,
   "outputs": [],
   "source": [],
   "metadata": {
    "collapsed": false
   },
   "id": "11c0586ffb58b8ae"
  }
 ],
 "metadata": {
  "kernelspec": {
   "display_name": "Python 3",
   "language": "python",
   "name": "python3"
  },
  "language_info": {
   "codemirror_mode": {
    "name": "ipython",
    "version": 2
   },
   "file_extension": ".py",
   "mimetype": "text/x-python",
   "name": "python",
   "nbconvert_exporter": "python",
   "pygments_lexer": "ipython2",
   "version": "2.7.6"
  }
 },
 "nbformat": 4,
 "nbformat_minor": 5
}
