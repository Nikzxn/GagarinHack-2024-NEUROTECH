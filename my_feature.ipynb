{
 "cells": [
  {
   "cell_type": "code",
   "execution_count": 4,
   "id": "initial_id",
   "metadata": {
    "collapsed": true,
    "ExecuteTime": {
     "end_time": "2024-04-13T08:51:26.958214Z",
     "start_time": "2024-04-13T08:51:26.955039Z"
    }
   },
   "outputs": [],
   "source": [
    "import cv2\n",
    "import numpy as np\n",
    "import csv\n",
    "import pandas as pd"
   ]
  },
  {
   "cell_type": "code",
   "execution_count": 5,
   "outputs": [],
   "source": [
    "def calculate_bluriness(frame):\n",
    "    gray = cv2.cvtColor(frame, cv2.COLOR_BGR2GRAY)\n",
    "    lap = cv2.Laplacian(gray, cv2.CV_64F)\n",
    "    return np.var(lap)\n",
    "\n",
    "def detect_lighting_change(prev_frame, curr_frame):\n",
    "    prev_gray = cv2.cvtColor(prev_frame, cv2.COLOR_BGR2GRAY)\n",
    "    curr_gray = cv2.cvtColor(curr_frame, cv2.COLOR_BGR2GRAY)\n",
    "    \n",
    "    diff = cv2.absdiff(prev_gray, curr_gray)\n",
    "    _, threshold = cv2.threshold(diff, 30, 255, cv2.THRESH_BINARY)\n",
    "    return cv2.countNonZero(threshold)\n",
    "\n",
    "def detect_block(frame):\n",
    "    gray = cv2.cvtColor(frame, cv2.COLOR_BGR2GRAY)\n",
    "    _, threshold = cv2.threshold(gray, 10, 255, cv2.THRESH_BINARY)\n",
    "    black_ratio = cv2.countNonZero(threshold) / (frame.shape[0] * frame.shape[1])\n",
    "    return black_ratio \n",
    "\n",
    "def calculate_movement(prev_frame, curr_frame):\n",
    "    abs_diff = cv2.absdiff(prev_frame, curr_frame)\n",
    "    movement_score = np.sum(abs_diff) / (curr_frame.shape[0] * curr_frame.shape[1] * 255)\n",
    "    return movement_score "
   ],
   "metadata": {
    "collapsed": false,
    "ExecuteTime": {
     "end_time": "2024-04-13T08:51:27.193883Z",
     "start_time": "2024-04-13T08:51:27.159209Z"
    }
   },
   "id": "31a1c541ceb6c5b"
  },
  {
   "cell_type": "code",
   "execution_count": 6,
   "outputs": [],
   "source": [
    "videos = ['/Users/elhidze/Downloads/Test/anomaly/1.mp4',\n",
    "          '/Users/elhidze/Downloads/Test/anomaly/2.mp4',\n",
    "          '/Users/elhidze/Downloads/Test/anomaly/3.mp4',\n",
    "          '/Users/elhidze/Downloads/Test/anomaly/4.mp4',\n",
    "          '/Users/elhidze/Downloads/Test/anomaly/5.mp4',\n",
    "          '/Users/elhidze/Downloads/Test/anomaly/6.mp4']\n",
    "csvs = ['/Users/elhidze/Gagarin/csv/test/anomaly/1.csv',\n",
    "        '/Users/elhidze/Gagarin/csv/test/anomaly/2.csv',\n",
    "        '/Users/elhidze/Gagarin/csv/test/anomaly/3.csv',\n",
    "        '/Users/elhidze/Gagarin/csv/test/anomaly/4.csv',\n",
    "        '/Users/elhidze/Gagarin/csv/test/anomaly/5.csv',\n",
    "        '/Users/elhidze/Gagarin/csv/test/anomaly/6.csv']"
   ],
   "metadata": {
    "collapsed": false,
    "ExecuteTime": {
     "end_time": "2024-04-13T08:51:30.756112Z",
     "start_time": "2024-04-13T08:51:30.740038Z"
    }
   },
   "id": "e9d89ea1ebb32839"
  },
  {
   "cell_type": "code",
   "execution_count": 7,
   "outputs": [
    {
     "name": "stdout",
     "output_type": "stream",
     "text": [
      "0\n",
      "1\n"
     ]
    },
    {
     "name": "stderr",
     "output_type": "stream",
     "text": [
      "[h264 @ 0x1263b1370] error while decoding MB 101 51, bytestream -5\n",
      "[h264 @ 0x1263b1370] left block unavailable for requested intra mode\n",
      "[h264 @ 0x1263b1370] error while decoding MB 0 11, bytestream 26701\n",
      "[h264 @ 0x1263c3b90] left block unavailable for requested intra mode\n",
      "[h264 @ 0x1263c3b90] error while decoding MB 0 5, bytestream 22587\n",
      "[h264 @ 0x1263a8f00] left block unavailable for requested intra mode\n",
      "[h264 @ 0x1263a8f00] error while decoding MB 0 15, bytestream 190171\n",
      "[h264 @ 0x1263a8f00] left block unavailable for requested intra mode\n",
      "[h264 @ 0x1263a8f00] error while decoding MB 0 54, bytestream 19632\n",
      "[h264 @ 0x1263e8bd0] left block unavailable for requested intra mode\n",
      "[h264 @ 0x1263e8bd0] error while decoding MB 0 33, bytestream 114094\n"
     ]
    },
    {
     "name": "stdout",
     "output_type": "stream",
     "text": [
      "2\n"
     ]
    },
    {
     "name": "stderr",
     "output_type": "stream",
     "text": [
      "[h264 @ 0x1029a1bf0] error while decoding MB 117 25, bytestream -5\n",
      "[h264 @ 0x1029987e0] error while decoding MB 65 33, bytestream -9\n",
      "[h264 @ 0x10297cbb0] left block unavailable for requested intra mode\n",
      "[h264 @ 0x10297cbb0] error while decoding MB 0 25, bytestream 99428\n",
      "[h264 @ 0x1029a1bf0] error while decoding MB 93 30, bytestream -7\n",
      "[h264 @ 0x10297cbb0] left block unavailable for requested intra mode\n",
      "[h264 @ 0x10297cbb0] error while decoding MB 0 27, bytestream 122458\n"
     ]
    },
    {
     "name": "stdout",
     "output_type": "stream",
     "text": [
      "3\n"
     ]
    },
    {
     "name": "stderr",
     "output_type": "stream",
     "text": [
      "[h264 @ 0x1257db2b0] left block unavailable for requested intra4x4 mode -1\n",
      "[h264 @ 0x1257db2b0] error while decoding MB 0 26, bytestream 117019\n"
     ]
    },
    {
     "name": "stdout",
     "output_type": "stream",
     "text": [
      "4\n"
     ]
    },
    {
     "name": "stderr",
     "output_type": "stream",
     "text": [
      "[h264 @ 0x1257ee060] error while decoding MB 34 60, bytestream -5\n"
     ]
    },
    {
     "name": "stdout",
     "output_type": "stream",
     "text": [
      "5\n"
     ]
    }
   ],
   "source": [
    "count = 0\n",
    "for pth in videos:\n",
    "    print(count)\n",
    "    cs = csvs[count]\n",
    "    cap = cv2.VideoCapture(pth)\n",
    "    \n",
    "    frame_count = int(cap.get(cv2.CAP_PROP_FRAME_COUNT))\n",
    "    fps = cap.get(cv2.CAP_PROP_FPS)\n",
    "    \n",
    "    csv_file = open(cs, 'w')\n",
    "    csv_writer = csv.writer(csv_file)\n",
    "    csv_writer.writerow(['frame', 'time', 'blurriness', 'lighting_change', 'block', 'movement'])\n",
    "    \n",
    "    ret, prev_frame = cap.read()\n",
    "    \n",
    "    for frame_number in range(1, frame_count):\n",
    "        #cap.set(cv2.CAP_PROP_POS_FRAMES, frame_number)\n",
    "        \n",
    "        ret, frame = cap.read()\n",
    "        if not ret:\n",
    "            break\n",
    "        \n",
    "        time = frame_number / fps\n",
    "        \n",
    "        blurriness = calculate_bluriness(frame)\n",
    "        lighting_change = detect_lighting_change(prev_frame, frame)\n",
    "        block = detect_block(frame)\n",
    "        movement = calculate_movement(prev_frame, frame)\n",
    "        \n",
    "        csv_writer.writerow([frame_number, time, blurriness, lighting_change, block, movement])\n",
    "        \n",
    "        prev_frame = frame\n",
    "    \n",
    "    count += 1\n",
    "    \n",
    "    csv_file.close()\n",
    "    cap.release()"
   ],
   "metadata": {
    "collapsed": false,
    "ExecuteTime": {
     "end_time": "2024-04-13T09:01:31.279872Z",
     "start_time": "2024-04-13T08:51:31.710727Z"
    }
   },
   "id": "4e36d4dee3ee524"
  },
  {
   "cell_type": "code",
   "execution_count": 8,
   "outputs": [],
   "source": [
    "anomaly_data = {\n",
    "    '0': {\n",
    "        'move': [(48, 52), (93, 98), (140, 142), (180, 185), (248, 249), (313, 315), (413, 414), (471, 474), (521, 522), (615, 619), (670, 674)]\n",
    "    },\n",
    "    '2': {\n",
    "        'blur': [(19, 42), (81, 97), (100, 127), (186, 216), (301, 303), (372, 409), (525, 556), (828, 878), (983, 985), (1014, 1017), (1085, 1087), (1153, 1166)],\n",
    "        'move': [(141, 142), (240, 247), (751, 756), (758, 762), (919, 924), (983, 985), (1014, 1017), (1085, 1087), (1141, 1142)]\n",
    "    },\n",
    "    '3': {\n",
    "        'blur': [(19, 59), (79, 138)],\n",
    "        'move': [(0, 19), (40, 60), (80, 106), (121, 141)]\n",
    "    },\n",
    "    '4': {\n",
    "        'block': [(17, 28), (55, 64), (174, 185)],\n",
    "        'overexposure': [(28, 30), (64, 70)],\n",
    "        'blur': [(83, 153)]\n",
    "    },\n",
    "    '5': {\n",
    "        'block': [(662, 675), (679, 690)],\n",
    "        'move': [(3, 4), (324, 325), (454, 455), (507, 508), (508, 560), (547, 662), (714, 718)],\n",
    "        'blur': [(161, 221)]\n",
    "    }\n",
    "  }\n",
    "\n",
    "anomaly_data_test = {\n",
    "    '1': {\n",
    "        'move': [(98, 103), (273, 276), (521, 523), (551, 553)],\n",
    "        'blur': [(14, 32), (136, 224), (438, 453), (479, 503), (640, 718)],\n",
    "        'block': [(60, 69), (81, 86), (225, 230), (248, 252), (307, 318), (582, 594), (621, 630), (740, 751)],\n",
    "        'overexposure': [(69, 71), (230, 233), (252, 255), (594, 598), (630, 634), (751, 754)]\n",
    "    },\n",
    "    '2': {\n",
    "        'block': [(42, 53), (135, 146), (202, 213), (255, 262)],\n",
    "        'overexposure': [(42, 53), (202, 213)]\n",
    "    },\n",
    "    '3': {\n",
    "        'block': [(125, 131), (249, 258)],\n",
    "        'overexposure': [(63, 71), (185, 196)]\n",
    "    },\n",
    "    '4': {\n",
    "        'block': [(69, 76), (207, 213)],\n",
    "        'overexposure': [(133, 140), (257, 265)]\n",
    "    },\n",
    "    '5': {\n",
    "        'block': [(71, 79), (121, 134), (143, 150), (184, 190), (245, 255)],\n",
    "        'overexposure': [(79, 81), (121, 134), (143, 150), (190, 192), (245, 256)]\n",
    "    },\n",
    "    '6': {\n",
    "        'block': [(63, 69), (182, 192), (241, 260)],\n",
    "        'overexposure': [(121, 129), (241, 260)]\n",
    "    }\n",
    "}\n",
    "\n",
    "count = 1\n",
    "for file in csvs:\n",
    "    df = pd.read_csv(file)\n",
    "    \n",
    "    df['normal'] = 1\n",
    "    df['has_blur'] = 0\n",
    "    df['has_move'] = 0\n",
    "    df['has_overexposure'] = 0\n",
    "    df['has_block'] = 0\n",
    "    \n",
    "    for anomaly_type, time_ranges in anomaly_data_test[str(count)].items():\n",
    "        for start, end in time_ranges:\n",
    "            df.loc[(df['time'] >= start) & (df['time'] <= end), f'has_{anomaly_type}'] = 1\n",
    "    \n",
    "    df.loc[(df['has_blur'] == 0) & (df['has_move'] == 0) & (df['has_overexposure'] == 0) & (df['has_block'] == 0), 'normal'] = 1\n",
    "    df.loc[(df['has_blur'] == 1) | (df['has_move'] == 1) | (df['has_overexposure'] == 1) | (df['has_block'] == 1), 'normal'] = 0\n",
    "    \n",
    "    df.to_csv(file, index=False)\n",
    "    \n",
    "    count += 1\n",
    "    "
   ],
   "metadata": {
    "collapsed": false,
    "ExecuteTime": {
     "end_time": "2024-04-13T09:03:12.175377Z",
     "start_time": "2024-04-13T09:03:11.859693Z"
    }
   },
   "id": "c09872788943e741"
  },
  {
   "cell_type": "code",
   "execution_count": null,
   "outputs": [],
   "source": [],
   "metadata": {
    "collapsed": false
   },
   "id": "45a36684e4b87602"
  }
 ],
 "metadata": {
  "kernelspec": {
   "display_name": "Python 3",
   "language": "python",
   "name": "python3"
  },
  "language_info": {
   "codemirror_mode": {
    "name": "ipython",
    "version": 2
   },
   "file_extension": ".py",
   "mimetype": "text/x-python",
   "name": "python",
   "nbconvert_exporter": "python",
   "pygments_lexer": "ipython2",
   "version": "2.7.6"
  }
 },
 "nbformat": 4,
 "nbformat_minor": 5
}
