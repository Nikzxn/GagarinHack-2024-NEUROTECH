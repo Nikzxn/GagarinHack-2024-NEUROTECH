{
 "cells": [
  {
   "cell_type": "code",
   "execution_count": 4,
   "id": "initial_id",
   "metadata": {
    "ExecuteTime": {
     "end_time": "2024-04-12T11:13:35.854410Z",
     "start_time": "2024-04-12T11:13:35.846981Z"
    }
   },
   "outputs": [],
   "source": [
    "import cv2 \n",
    "import numpy as np\n",
    "\n",
    "rtsp_url = \"../Train/anomaly/0.mp4\""
   ]
  },
  {
   "cell_type": "code",
   "execution_count": 5,
   "id": "ee37909e87129f74",
   "metadata": {
    "ExecuteTime": {
     "end_time": "2024-04-12T11:16:04.548865Z",
     "start_time": "2024-04-12T11:16:04.541103Z"
    },
    "collapsed": false,
    "jupyter": {
     "outputs_hidden": false
    }
   },
   "outputs": [],
   "source": [
    "def extract_lighting_change(frame1, frame2):\n",
    "    gray1 = cv2.cvtColor(frame1, cv2.COLOR_BGR2GRAY)\n",
    "    gray2 = cv2.cvtColor(frame2, cv2.COLOR_BGR2GRAY)\n",
    "    diff = cv2.absdiff(gray1, gray2)\n",
    "    return np.mean(diff)\n",
    "\n",
    "\n",
    "def extract_blur(frame):\n",
    "    #фильтр обнаружения краев, если дисперсии мало - есть размытие\n",
    "    blur = cv2.Laplacian(frame, cv2.CV_64F).var()\n",
    "    return blur\n",
    "\n",
    "\n",
    "def extract_camera_angle_change(frame1, frame2):\n",
    "    sift = cv2.SIFT_create()\n",
    "    # SIFT определяет ключевые точки и их дескрипторы\n",
    "    kp1, des1 = sift.detectAndCompute(frame1, None)\n",
    "    kp2, des2 = sift.detectAndCompute(frame2, None)\n",
    "\n",
    "    # проходимся knn матчером по соответствующим точкам обоих кадров\n",
    "    # если \"хороших\" совпадений мало - камеру сдвинули\n",
    "    bf = cv2.BFMatcher()\n",
    "    matches = bf.knnMatch(des1, des2, k=2)\n",
    "    \n",
    "    good_matches = []\n",
    "    for m, n in matches:\n",
    "        if m.distance < 0.75 * n.distance:\n",
    "            good_matches.append(m)\n",
    "\n",
    "    return len(good_matches)\n",
    "\n",
    "def extract_features(rtsp_url):\n",
    "    cap = cv2.VideoCapture(rtsp_url)\n",
    "    \n",
    "    if not cap.isOpened():\n",
    "        print(\"Ошибка открытия потока\")\n",
    "        return\n",
    "    \n",
    "    while True:\n",
    "        ret, frame = cap.read()\n",
    "        \n",
    "        if not ret:\n",
    "            print(\"Ошибка чтения кадра\")\n",
    "            break\n",
    "        \n",
    "        cv2.imshow('frame', frame)\n",
    "        if cv2.waitKey(1) & 0xFF == ord('q'):\n",
    "            break\n",
    "            \n",
    "    cap.release()\n",
    "    cv2.destroyAllWindows()"
   ]
  },
  {
   "cell_type": "code",
   "execution_count": 6,
   "id": "3c9a87b2c28c55db",
   "metadata": {
    "ExecuteTime": {
     "end_time": "2024-04-12T11:16:05.658372Z",
     "start_time": "2024-04-12T11:16:04.823220Z"
    },
    "collapsed": false,
    "jupyter": {
     "outputs_hidden": false
    }
   },
   "outputs": [
    {
     "name": "stdout",
     "output_type": "stream",
     "text": [
      "Ошибка чтения кадра\n"
     ]
    }
   ],
   "source": [
    "extract_features(rtsp_url)\n"
   ]
  },
  {
   "cell_type": "code",
   "execution_count": null,
   "id": "47e7512dce10bf22",
   "metadata": {
    "collapsed": false,
    "jupyter": {
     "outputs_hidden": false
    }
   },
   "outputs": [],
   "source": []
  }
 ],
 "metadata": {
  "kernelspec": {
   "display_name": "Python 3 (ipykernel)",
   "language": "python",
   "name": "python3"
  },
  "language_info": {
   "codemirror_mode": {
    "name": "ipython",
    "version": 3
   },
   "file_extension": ".py",
   "mimetype": "text/x-python",
   "name": "python",
   "nbconvert_exporter": "python",
   "pygments_lexer": "ipython3",
   "version": "3.11.5"
  }
 },
 "nbformat": 4,
 "nbformat_minor": 5
}
