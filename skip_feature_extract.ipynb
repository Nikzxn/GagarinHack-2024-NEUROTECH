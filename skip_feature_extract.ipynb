{
 "cells": [
  {
   "cell_type": "code",
   "execution_count": 142,
   "id": "initial_id",
   "metadata": {
    "ExecuteTime": {
     "end_time": "2024-04-12T13:29:27.483156Z",
     "start_time": "2024-04-12T13:29:27.481256Z"
    },
    "colab": {
     "base_uri": "https://localhost:8080/"
    },
    "id": "initial_id",
    "outputId": "4251c004-4df3-4e52-b038-f76368c77495"
   },
   "outputs": [
    {
     "output_type": "stream",
     "name": "stdout",
     "text": [
      "Requirement already satisfied: pillow in /usr/local/lib/python3.10/dist-packages (9.4.0)\n"
     ]
    }
   ],
   "source": [
    "import numpy as np\n",
    "from moviepy.editor import VideoFileClip"
   ]
  },
  {
   "cell_type": "code",
   "source": [
    "from google.colab import drive\n",
    "drive.mount('/content/gdrive/')"
   ],
   "metadata": {
    "colab": {
     "base_uri": "https://localhost:8080/"
    },
    "id": "rK9rT1BI1K0b",
    "outputId": "4f12ae2b-7a7a-40b4-b551-bf514a067fb2"
   },
   "id": "rK9rT1BI1K0b",
   "execution_count": 143,
   "outputs": [
    {
     "output_type": "stream",
     "name": "stdout",
     "text": [
      "Drive already mounted at /content/gdrive/; to attempt to forcibly remount, call drive.mount(\"/content/gdrive/\", force_remount=True).\n"
     ]
    }
   ]
  },
  {
   "cell_type": "code",
   "source": [
    "def lighting_change(frame1, frame2):\n",
    "    if len(frame1.shape) == 3:\n",
    "        frame1 = np.dot(frame1[..., :3], [0.2989, 0.5870, 0.1140])\n",
    "    if len(frame2.shape) == 3:\n",
    "        frame2 = np.dot(frame2[..., :3], [0.2989, 0.5870, 0.1140])\n",
    "    hist1, _ = np.histogram(frame1, bins=256, range=(0, 256))\n",
    "    hist2, _ = np.histogram(frame2, bins=256, range=(0, 256))\n",
    "\n",
    "    hist_diff = np.sum(np.abs(hist1 - hist2))\n",
    "    \n",
    "    return hist_diff\n",
    "\n",
    "\n",
    "def blur(frame):\n",
    "    grayscale_frame = np.dot(frame[..., :3], [0.2989, 0.5870, 0.1140])\n",
    "\n",
    "    gradient = np.gradient(grayscale_frame)\n",
    "\n",
    "    gradient_variance = np.var(gradient)\n",
    "\n",
    "    return gradient_variance\n",
    "\n",
    "\n",
    "def blocking_change(frame1, frame2):\n",
    "    grayscale_frame1 = np.dot(frame1[..., :3], [0.2989, 0.5870, 0.1140])\n",
    "    grayscale_frame2 = np.dot(frame2[..., :3], [0.2989, 0.5870, 0.1140])\n",
    "\n",
    "    diff = np.abs(grayscale_frame1 - grayscale_frame2)\n",
    "\n",
    "    threshold = 50\n",
    "    return np.sum(diff > threshold)\n",
    "\n",
    "\n",
    "def camera_movement(frame1, frame2):\n",
    "    grayscale_frame1 = np.dot(frame1[..., :3], [0.2989, 0.5870, 0.1140])\n",
    "    grayscale_frame2 = np.dot(frame2[..., :3], [0.2989, 0.5870, 0.1140])\n",
    "\n",
    "    diff = np.abs(grayscale_frame1 - grayscale_frame2)\n",
    "\n",
    "    threshold = 50\n",
    "\n",
    "    num_changed_pixels = np.sum(diff > threshold)\n",
    "    total_pixels = np.prod(frame1.shape[:-1])\n",
    "    percent_changed = (num_changed_pixels / total_pixels) * 100\n",
    "\n",
    "    return percent_changed\n",
    "\n",
    "\n",
    "def calculate_bitrate(file_size, duration):\n",
    "    return file_size / duration\n",
    "\n",
    "\n",
    "def extract_features(frame1, frame2, file_size, duration):\n",
    "    return {\n",
    "        'bitrate': calculate_bitrate(file_size, duration),\n",
    "        'lighting_change': lighting_change(frame1, frame2),\n",
    "        'blur': blur(frame2),\n",
    "        'blocking_change': blocking_change(frame1, frame2),\n",
    "        'camera_movement': camera_movement(frame1, frame2)\n",
    "    }\n",
    "\n",
    "def calculate_file_info(video_files):\n",
    "    file_info = {}\n",
    "    for file in video_files:\n",
    "        clip = VideoFileClip(file)\n",
    "        file_size = clip.reader.size\n",
    "        duration = clip.duration\n",
    "        file_info[file] = {'file_size': file_size, 'duration': duration}\n",
    "    return file_info"
   ],
   "metadata": {
    "id": "3qjZhAWm1hst"
   },
   "id": "3qjZhAWm1hst",
   "execution_count": 178,
   "outputs": []
  },
  {
   "cell_type": "code",
   "execution_count": 207,
   "id": "ee37909e87129f74",
   "metadata": {
    "ExecuteTime": {
     "end_time": "2024-04-12T13:29:27.679907Z",
     "start_time": "2024-04-12T13:29:27.677348Z"
    },
    "id": "ee37909e87129f74"
   },
   "outputs": [],
   "source": [
    "def process_frames_with_anomaly(frames, anomaly_timecodes, file_size, duration):\n",
    "    features = []\n",
    "    prev_frame = None\n",
    "    prev_features = None\n",
    "\n",
    "    current_anomaly = None\n",
    "    next_anomaly_time = None\n",
    "\n",
    "    for frame_num, frame in enumerate(frames):\n",
    "        # проверка, если фрейм в аномалии\n",
    "        anomaly_period = False\n",
    "        for timecode, periods in anomaly_timecodes.items():\n",
    "            for anomaly_type, anomaly_periods in periods.items():\n",
    "                for period in anomaly_periods:\n",
    "                    start_time, end_time = period  # вытаскиваем начало и конец аномального периода\n",
    "                    if frame_num >= start_time and frame_num <= end_time:\n",
    "                        anomaly_period = True\n",
    "                        current_anomaly = timecode\n",
    "                        next_anomaly_time = end_time\n",
    "\n",
    "        if not anomaly_period:\n",
    "            # если не в аномалии, то первый раз все считаем\n",
    "            if prev_features is None:\n",
    "                prev_features = {\n",
    "                    'Lighting_Changes': lighting_change(prev_frame, frame),\n",
    "                    'Blurriness': blur(frame),\n",
    "                    'Blocking_Camera': blocking_change(prev_frame, frame),\n",
    "                    'Camera_Movement': camera_movement(prev_frame, frame),\n",
    "                    'File_Size': file_size,\n",
    "                    'Duration': duration\n",
    "                }\n",
    "            # дополняем до след периода\n",
    "            while frame_num < next_anomaly_time:\n",
    "                features.append({\n",
    "                    'Time': current_anomaly,\n",
    "                    'Frame': frame_num,\n",
    "                    **prev_features\n",
    "                })\n",
    "                frame_num += 1\n",
    "\n",
    "        else:\n",
    "            # если в аномалии то просто все считаем\n",
    "            if prev_frame is not None:\n",
    "                lighting_changes_am = lighting_change(prev_frame, frame)\n",
    "                blurriness = blur(frame)\n",
    "                blocking_camera = blocking_change(prev_frame, frame)\n",
    "                camera_move = camera_movement(prev_frame, frame)\n",
    "\n",
    "                features.append({\n",
    "                    'Time': current_anomaly,\n",
    "                    'Frame': frame_num,\n",
    "                    'Lighting_Changes': lighting_changes_am,\n",
    "                    'Blurriness': blurriness,\n",
    "                    'Blocking_Camera': blocking_camera,\n",
    "                    'Camera_Movement': camera_move,\n",
    "                    'File_Size': file_size,\n",
    "                    'Duration': duration\n",
    "                })\n",
    "        prev_frame = frame\n",
    "\n",
    "    return features\n"
   ]
  },
  {
   "cell_type": "code",
   "execution_count": 208,
   "id": "ae89ed5e-8f43-422b-9749-6fdecea698b1",
   "metadata": {
    "ExecuteTime": {
     "end_time": "2024-04-12T14:07:59.102900Z",
     "start_time": "2024-04-12T14:07:59.099139Z"
    },
    "colab": {
     "base_uri": "https://localhost:8080/"
    },
    "id": "ae89ed5e-8f43-422b-9749-6fdecea698b1",
    "outputId": "d81755f5-31e8-4cbd-fd96-72987f6bc75d"
   },
   "outputs": [
    {
     "output_type": "execute_result",
     "data": {
      "text/plain": [
       "['/content/gdrive/MyDrive/Train/anomaly/0.mp4',\n",
       " '/content/gdrive/MyDrive/Train/anomaly/2.mp4',\n",
       " '/content/gdrive/MyDrive/Train/anomaly/3.mp4',\n",
       " '/content/gdrive/MyDrive/Train/anomaly/4.mp4',\n",
       " '/content/gdrive/MyDrive/Train/anomaly/5.mp4']"
      ]
     },
     "metadata": {},
     "execution_count": 208
    }
   ],
   "source": [
    "import glob\n",
    "train_path=\"/content/gdrive/MyDrive/Train/anomaly/*.mp4\"\n",
    "files=glob.glob(train_path)\n",
    "files"
   ]
  },
  {
   "cell_type": "code",
   "execution_count": 209,
   "id": "b88caf0c-d84d-4d31-920d-c268e8fd6695",
   "metadata": {
    "ExecuteTime": {
     "end_time": "2024-04-12T14:31:07.707656Z",
     "start_time": "2024-04-12T14:20:15.121721Z"
    },
    "colab": {
     "base_uri": "https://localhost:8080/",
     "height": 438
    },
    "id": "b88caf0c-d84d-4d31-920d-c268e8fd6695",
    "outputId": "37a348c1-cc4d-4859-8d24-f07e0a3e9476"
   },
   "outputs": [
    {
     "output_type": "stream",
     "name": "stdout",
     "text": [
      "{'/content/gdrive/MyDrive/Train/anomaly/0.mp4': {'file_size': [960, 540], 'duration': 752.96}, '/content/gdrive/MyDrive/Train/anomaly/2.mp4': {'file_size': [800, 450], 'duration': 1193.56}, '/content/gdrive/MyDrive/Train/anomaly/3.mp4': {'file_size': [800, 450], 'duration': 140.76}, '/content/gdrive/MyDrive/Train/anomaly/4.mp4': {'file_size': [800, 600], 'duration': 202.52}, '/content/gdrive/MyDrive/Train/anomaly/5.mp4': {'file_size': [720, 576], 'duration': 723.56}}\n"
     ]
    },
    {
     "output_type": "error",
     "ename": "KeyboardInterrupt",
     "evalue": "",
     "traceback": [
      "\u001B[0;31m---------------------------------------------------------------------------\u001B[0m",
      "\u001B[0;31mKeyboardInterrupt\u001B[0m                         Traceback (most recent call last)",
      "\u001B[0;32m<ipython-input-209-801718cf0ed6>\u001B[0m in \u001B[0;36m<cell line: 23>\u001B[0;34m()\u001B[0m\n\u001B[1;32m     24\u001B[0m     \u001B[0mclip\u001B[0m \u001B[0;34m=\u001B[0m \u001B[0mVideoFileClip\u001B[0m\u001B[0;34m(\u001B[0m\u001B[0mvideo_file\u001B[0m\u001B[0;34m)\u001B[0m\u001B[0;34m\u001B[0m\u001B[0;34m\u001B[0m\u001B[0m\n\u001B[1;32m     25\u001B[0m     \u001B[0mframes\u001B[0m \u001B[0;34m=\u001B[0m \u001B[0mclip\u001B[0m\u001B[0;34m.\u001B[0m\u001B[0miter_frames\u001B[0m\u001B[0;34m(\u001B[0m\u001B[0;34m)\u001B[0m\u001B[0;34m\u001B[0m\u001B[0;34m\u001B[0m\u001B[0m\n\u001B[0;32m---> 26\u001B[0;31m     \u001B[0mfeatures\u001B[0m \u001B[0;34m=\u001B[0m \u001B[0mprocess_frames_with_anomaly\u001B[0m\u001B[0;34m(\u001B[0m\u001B[0mframes\u001B[0m\u001B[0;34m,\u001B[0m \u001B[0manomaly_data\u001B[0m\u001B[0;34m,\u001B[0m \u001B[0mfile_info\u001B[0m\u001B[0;34m[\u001B[0m\u001B[0mvideo_file\u001B[0m\u001B[0;34m]\u001B[0m\u001B[0;34m[\u001B[0m\u001B[0;34m'file_size'\u001B[0m\u001B[0;34m]\u001B[0m\u001B[0;34m,\u001B[0m \u001B[0mfile_info\u001B[0m\u001B[0;34m[\u001B[0m\u001B[0mvideo_file\u001B[0m\u001B[0;34m]\u001B[0m\u001B[0;34m[\u001B[0m\u001B[0;34m'duration'\u001B[0m\u001B[0;34m]\u001B[0m\u001B[0;34m)\u001B[0m\u001B[0;34m\u001B[0m\u001B[0;34m\u001B[0m\u001B[0m\n\u001B[0m\u001B[1;32m     27\u001B[0m     \u001B[0mextracted_features\u001B[0m\u001B[0;34m.\u001B[0m\u001B[0mextend\u001B[0m\u001B[0;34m(\u001B[0m\u001B[0mfeatures\u001B[0m\u001B[0;34m)\u001B[0m\u001B[0;34m\u001B[0m\u001B[0;34m\u001B[0m\u001B[0m\n\u001B[1;32m     28\u001B[0m \u001B[0;34m\u001B[0m\u001B[0m\n",
      "\u001B[0;32m<ipython-input-207-89c8ef537826>\u001B[0m in \u001B[0;36mprocess_frames_with_anomaly\u001B[0;34m(frames, anomaly_timecodes, file_size, duration)\u001B[0m\n\u001B[1;32m      8\u001B[0m     \u001B[0mnext_anomaly_time\u001B[0m \u001B[0;34m=\u001B[0m \u001B[0;32mNone\u001B[0m\u001B[0;34m\u001B[0m\u001B[0;34m\u001B[0m\u001B[0m\n\u001B[1;32m      9\u001B[0m \u001B[0;34m\u001B[0m\u001B[0m\n\u001B[0;32m---> 10\u001B[0;31m     \u001B[0;32mfor\u001B[0m \u001B[0mframe_num\u001B[0m\u001B[0;34m,\u001B[0m \u001B[0mframe\u001B[0m \u001B[0;32min\u001B[0m \u001B[0menumerate\u001B[0m\u001B[0;34m(\u001B[0m\u001B[0mframes\u001B[0m\u001B[0;34m)\u001B[0m\u001B[0;34m:\u001B[0m\u001B[0;34m\u001B[0m\u001B[0;34m\u001B[0m\u001B[0m\n\u001B[0m\u001B[1;32m     11\u001B[0m         \u001B[0;31m# Check if the current frame is within an anomaly period\u001B[0m\u001B[0;34m\u001B[0m\u001B[0;34m\u001B[0m\u001B[0m\n\u001B[1;32m     12\u001B[0m         \u001B[0manomaly_period\u001B[0m \u001B[0;34m=\u001B[0m \u001B[0;32mFalse\u001B[0m\u001B[0;34m\u001B[0m\u001B[0;34m\u001B[0m\u001B[0m\n",
      "\u001B[0;32m/usr/local/lib/python3.10/dist-packages/moviepy/Clip.py\u001B[0m in \u001B[0;36miter_frames\u001B[0;34m(self, fps, with_times, logger, dtype)\u001B[0m\n\u001B[1;32m    470\u001B[0m         \u001B[0mlogger\u001B[0m \u001B[0;34m=\u001B[0m \u001B[0mproglog\u001B[0m\u001B[0;34m.\u001B[0m\u001B[0mdefault_bar_logger\u001B[0m\u001B[0;34m(\u001B[0m\u001B[0mlogger\u001B[0m\u001B[0;34m)\u001B[0m\u001B[0;34m\u001B[0m\u001B[0;34m\u001B[0m\u001B[0m\n\u001B[1;32m    471\u001B[0m         \u001B[0;32mfor\u001B[0m \u001B[0mt\u001B[0m \u001B[0;32min\u001B[0m \u001B[0mlogger\u001B[0m\u001B[0;34m.\u001B[0m\u001B[0miter_bar\u001B[0m\u001B[0;34m(\u001B[0m\u001B[0mt\u001B[0m\u001B[0;34m=\u001B[0m\u001B[0mnp\u001B[0m\u001B[0;34m.\u001B[0m\u001B[0marange\u001B[0m\u001B[0;34m(\u001B[0m\u001B[0;36m0\u001B[0m\u001B[0;34m,\u001B[0m \u001B[0mself\u001B[0m\u001B[0;34m.\u001B[0m\u001B[0mduration\u001B[0m\u001B[0;34m,\u001B[0m \u001B[0;36m1.0\u001B[0m\u001B[0;34m/\u001B[0m\u001B[0mfps\u001B[0m\u001B[0;34m)\u001B[0m\u001B[0;34m)\u001B[0m\u001B[0;34m:\u001B[0m\u001B[0;34m\u001B[0m\u001B[0;34m\u001B[0m\u001B[0m\n\u001B[0;32m--> 472\u001B[0;31m             \u001B[0mframe\u001B[0m \u001B[0;34m=\u001B[0m \u001B[0mself\u001B[0m\u001B[0;34m.\u001B[0m\u001B[0mget_frame\u001B[0m\u001B[0;34m(\u001B[0m\u001B[0mt\u001B[0m\u001B[0;34m)\u001B[0m\u001B[0;34m\u001B[0m\u001B[0;34m\u001B[0m\u001B[0m\n\u001B[0m\u001B[1;32m    473\u001B[0m             \u001B[0;32mif\u001B[0m \u001B[0;34m(\u001B[0m\u001B[0mdtype\u001B[0m \u001B[0;32mis\u001B[0m \u001B[0;32mnot\u001B[0m \u001B[0;32mNone\u001B[0m\u001B[0;34m)\u001B[0m \u001B[0;32mand\u001B[0m \u001B[0;34m(\u001B[0m\u001B[0mframe\u001B[0m\u001B[0;34m.\u001B[0m\u001B[0mdtype\u001B[0m \u001B[0;34m!=\u001B[0m \u001B[0mdtype\u001B[0m\u001B[0;34m)\u001B[0m\u001B[0;34m:\u001B[0m\u001B[0;34m\u001B[0m\u001B[0;34m\u001B[0m\u001B[0m\n\u001B[1;32m    474\u001B[0m                 \u001B[0mframe\u001B[0m \u001B[0;34m=\u001B[0m \u001B[0mframe\u001B[0m\u001B[0;34m.\u001B[0m\u001B[0mastype\u001B[0m\u001B[0;34m(\u001B[0m\u001B[0mdtype\u001B[0m\u001B[0;34m)\u001B[0m\u001B[0;34m\u001B[0m\u001B[0;34m\u001B[0m\u001B[0m\n",
      "\u001B[0;32m<decorator-gen-128>\u001B[0m in \u001B[0;36mget_frame\u001B[0;34m(self, t)\u001B[0m\n",
      "\u001B[0;32m/usr/local/lib/python3.10/dist-packages/moviepy/decorators.py\u001B[0m in \u001B[0;36mwrapper\u001B[0;34m(f, *a, **kw)\u001B[0m\n\u001B[1;32m     87\u001B[0m         new_kw = {k: fun(v) if k in varnames else v\n\u001B[1;32m     88\u001B[0m                  for (k,v) in kw.items()}\n\u001B[0;32m---> 89\u001B[0;31m         \u001B[0;32mreturn\u001B[0m \u001B[0mf\u001B[0m\u001B[0;34m(\u001B[0m\u001B[0;34m*\u001B[0m\u001B[0mnew_a\u001B[0m\u001B[0;34m,\u001B[0m \u001B[0;34m**\u001B[0m\u001B[0mnew_kw\u001B[0m\u001B[0;34m)\u001B[0m\u001B[0;34m\u001B[0m\u001B[0;34m\u001B[0m\u001B[0m\n\u001B[0m\u001B[1;32m     90\u001B[0m     \u001B[0;32mreturn\u001B[0m \u001B[0mdecorator\u001B[0m\u001B[0;34m.\u001B[0m\u001B[0mdecorator\u001B[0m\u001B[0;34m(\u001B[0m\u001B[0mwrapper\u001B[0m\u001B[0;34m)\u001B[0m\u001B[0;34m\u001B[0m\u001B[0;34m\u001B[0m\u001B[0m\n\u001B[1;32m     91\u001B[0m \u001B[0;34m\u001B[0m\u001B[0m\n",
      "\u001B[0;32m/usr/local/lib/python3.10/dist-packages/moviepy/Clip.py\u001B[0m in \u001B[0;36mget_frame\u001B[0;34m(self, t)\u001B[0m\n\u001B[1;32m     91\u001B[0m                 \u001B[0;32mreturn\u001B[0m \u001B[0mframe\u001B[0m\u001B[0;34m\u001B[0m\u001B[0;34m\u001B[0m\u001B[0m\n\u001B[1;32m     92\u001B[0m         \u001B[0;32melse\u001B[0m\u001B[0;34m:\u001B[0m\u001B[0;34m\u001B[0m\u001B[0;34m\u001B[0m\u001B[0m\n\u001B[0;32m---> 93\u001B[0;31m             \u001B[0;32mreturn\u001B[0m \u001B[0mself\u001B[0m\u001B[0;34m.\u001B[0m\u001B[0mmake_frame\u001B[0m\u001B[0;34m(\u001B[0m\u001B[0mt\u001B[0m\u001B[0;34m)\u001B[0m\u001B[0;34m\u001B[0m\u001B[0;34m\u001B[0m\u001B[0m\n\u001B[0m\u001B[1;32m     94\u001B[0m \u001B[0;34m\u001B[0m\u001B[0m\n\u001B[1;32m     95\u001B[0m     \u001B[0;32mdef\u001B[0m \u001B[0mfl\u001B[0m\u001B[0;34m(\u001B[0m\u001B[0mself\u001B[0m\u001B[0;34m,\u001B[0m \u001B[0mfun\u001B[0m\u001B[0;34m,\u001B[0m \u001B[0mapply_to\u001B[0m\u001B[0;34m=\u001B[0m\u001B[0;32mNone\u001B[0m\u001B[0;34m,\u001B[0m \u001B[0mkeep_duration\u001B[0m\u001B[0;34m=\u001B[0m\u001B[0;32mTrue\u001B[0m\u001B[0;34m)\u001B[0m\u001B[0;34m:\u001B[0m\u001B[0;34m\u001B[0m\u001B[0;34m\u001B[0m\u001B[0m\n",
      "\u001B[0;32m/usr/local/lib/python3.10/dist-packages/moviepy/video/io/VideoFileClip.py\u001B[0m in \u001B[0;36m<lambda>\u001B[0;34m(t)\u001B[0m\n\u001B[1;32m    111\u001B[0m         \u001B[0;32melse\u001B[0m\u001B[0;34m:\u001B[0m\u001B[0;34m\u001B[0m\u001B[0;34m\u001B[0m\u001B[0m\n\u001B[1;32m    112\u001B[0m \u001B[0;34m\u001B[0m\u001B[0m\n\u001B[0;32m--> 113\u001B[0;31m             \u001B[0mself\u001B[0m\u001B[0;34m.\u001B[0m\u001B[0mmake_frame\u001B[0m \u001B[0;34m=\u001B[0m \u001B[0;32mlambda\u001B[0m \u001B[0mt\u001B[0m\u001B[0;34m:\u001B[0m \u001B[0mself\u001B[0m\u001B[0;34m.\u001B[0m\u001B[0mreader\u001B[0m\u001B[0;34m.\u001B[0m\u001B[0mget_frame\u001B[0m\u001B[0;34m(\u001B[0m\u001B[0mt\u001B[0m\u001B[0;34m)\u001B[0m\u001B[0;34m\u001B[0m\u001B[0;34m\u001B[0m\u001B[0m\n\u001B[0m\u001B[1;32m    114\u001B[0m \u001B[0;34m\u001B[0m\u001B[0m\n\u001B[1;32m    115\u001B[0m         \u001B[0;31m# Make a reader for the audio, if any.\u001B[0m\u001B[0;34m\u001B[0m\u001B[0;34m\u001B[0m\u001B[0m\n",
      "\u001B[0;32m/usr/local/lib/python3.10/dist-packages/moviepy/video/io/ffmpeg_reader.py\u001B[0m in \u001B[0;36mget_frame\u001B[0;34m(self, t)\u001B[0m\n\u001B[1;32m    182\u001B[0m         \u001B[0;32melse\u001B[0m\u001B[0;34m:\u001B[0m\u001B[0;34m\u001B[0m\u001B[0;34m\u001B[0m\u001B[0m\n\u001B[1;32m    183\u001B[0m             \u001B[0mself\u001B[0m\u001B[0;34m.\u001B[0m\u001B[0mskip_frames\u001B[0m\u001B[0;34m(\u001B[0m\u001B[0mpos\u001B[0m\u001B[0;34m-\u001B[0m\u001B[0mself\u001B[0m\u001B[0;34m.\u001B[0m\u001B[0mpos\u001B[0m\u001B[0;34m-\u001B[0m\u001B[0;36m1\u001B[0m\u001B[0;34m)\u001B[0m\u001B[0;34m\u001B[0m\u001B[0;34m\u001B[0m\u001B[0m\n\u001B[0;32m--> 184\u001B[0;31m         \u001B[0mresult\u001B[0m \u001B[0;34m=\u001B[0m \u001B[0mself\u001B[0m\u001B[0;34m.\u001B[0m\u001B[0mread_frame\u001B[0m\u001B[0;34m(\u001B[0m\u001B[0;34m)\u001B[0m\u001B[0;34m\u001B[0m\u001B[0;34m\u001B[0m\u001B[0m\n\u001B[0m\u001B[1;32m    185\u001B[0m         \u001B[0mself\u001B[0m\u001B[0;34m.\u001B[0m\u001B[0mpos\u001B[0m \u001B[0;34m=\u001B[0m \u001B[0mpos\u001B[0m\u001B[0;34m\u001B[0m\u001B[0;34m\u001B[0m\u001B[0m\n\u001B[1;32m    186\u001B[0m         \u001B[0;32mreturn\u001B[0m \u001B[0mresult\u001B[0m\u001B[0;34m\u001B[0m\u001B[0;34m\u001B[0m\u001B[0m\n",
      "\u001B[0;32m/usr/local/lib/python3.10/dist-packages/moviepy/video/io/ffmpeg_reader.py\u001B[0m in \u001B[0;36mread_frame\u001B[0;34m(self)\u001B[0m\n\u001B[1;32m    118\u001B[0m         \u001B[0mnbytes\u001B[0m\u001B[0;34m=\u001B[0m \u001B[0mself\u001B[0m\u001B[0;34m.\u001B[0m\u001B[0mdepth\u001B[0m\u001B[0;34m*\u001B[0m\u001B[0mw\u001B[0m\u001B[0;34m*\u001B[0m\u001B[0mh\u001B[0m\u001B[0;34m\u001B[0m\u001B[0;34m\u001B[0m\u001B[0m\n\u001B[1;32m    119\u001B[0m \u001B[0;34m\u001B[0m\u001B[0m\n\u001B[0;32m--> 120\u001B[0;31m         \u001B[0ms\u001B[0m \u001B[0;34m=\u001B[0m \u001B[0mself\u001B[0m\u001B[0;34m.\u001B[0m\u001B[0mproc\u001B[0m\u001B[0;34m.\u001B[0m\u001B[0mstdout\u001B[0m\u001B[0;34m.\u001B[0m\u001B[0mread\u001B[0m\u001B[0;34m(\u001B[0m\u001B[0mnbytes\u001B[0m\u001B[0;34m)\u001B[0m\u001B[0;34m\u001B[0m\u001B[0;34m\u001B[0m\u001B[0m\n\u001B[0m\u001B[1;32m    121\u001B[0m         \u001B[0;32mif\u001B[0m \u001B[0mlen\u001B[0m\u001B[0;34m(\u001B[0m\u001B[0ms\u001B[0m\u001B[0;34m)\u001B[0m \u001B[0;34m!=\u001B[0m \u001B[0mnbytes\u001B[0m\u001B[0;34m:\u001B[0m\u001B[0;34m\u001B[0m\u001B[0;34m\u001B[0m\u001B[0m\n\u001B[1;32m    122\u001B[0m \u001B[0;34m\u001B[0m\u001B[0m\n",
      "\u001B[0;31mKeyboardInterrupt\u001B[0m: "
     ]
    }
   ],
   "source": [
    "anomaly_data = {\n",
    "    '3': {\n",
    "        'Blur': [(19, 59), (79, 138)],\n",
    "        'Motion': [(0, 19), (40, 60), (80, 106), (121, 141)]\n",
    "    },\n",
    "    '4': {\n",
    "        'Overlay': [(17, 28), (55, 64), (174, 185)],\n",
    "        'Overexposure': [(28, 30), (64, 70)],\n",
    "        'Blur': [(83, 153)]\n",
    "    },\n",
    "    '5': {\n",
    "        'Overlay': [(662, 675), (679, 690)],\n",
    "        'Motion': [(3, 4), (324, 325), (454, 455), (507, 508), (508, 560), (547, 662), (714, 718)],\n",
    "        'Blur': [(161, 221)]\n",
    "    }\n",
    "  }\n",
    "\n",
    "\n",
    "file_info = calculate_file_info(files)\n",
    "print(file_info)\n",
    "\n",
    "extracted_features = []\n",
    "for video_file in files:\n",
    "    clip = VideoFileClip(video_file)\n",
    "    frames = clip.iter_frames()\n",
    "    features = process_frames_with_anomaly(frames, anomaly_data, file_info[video_file]['file_size'], file_info[video_file]['duration'])\n",
    "    extracted_features.extend(features)\n",
    "\n",
    "write_features_to_csv(extracted_features, 'features.csv')"
   ]
  },
  {
   "cell_type": "code",
   "execution_count": null,
   "id": "389f7f3f-2e41-423a-8e82-f11ac919e0b2",
   "metadata": {
    "id": "389f7f3f-2e41-423a-8e82-f11ac919e0b2"
   },
   "outputs": [],
   "source": []
  }
 ],
 "metadata": {
  "kernelspec": {
   "display_name": "Python 3",
   "name": "python3"
  },
  "language_info": {
   "codemirror_mode": {
    "name": "ipython",
    "version": 3
   },
   "file_extension": ".py",
   "mimetype": "text/x-python",
   "name": "python",
   "nbconvert_exporter": "python",
   "pygments_lexer": "ipython3",
   "version": "3.11.5"
  },
  "colab": {
   "provenance": [],
   "gpuType": "T4"
  }
 },
 "nbformat": 4,
 "nbformat_minor": 5
}
