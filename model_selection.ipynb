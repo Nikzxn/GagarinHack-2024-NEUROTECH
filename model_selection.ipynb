{
 "cells": [
  {
   "cell_type": "code",
   "execution_count": 1,
   "id": "efd07f3a-c807-49d2-bdf0-eeba601daefa",
   "metadata": {},
   "outputs": [
    {
     "name": "stdout",
     "output_type": "stream",
     "text": [
      "WARNING:tensorflow:From C:\\ml\\my_env\\Lib\\site-packages\\keras\\src\\losses.py:2976: The name tf.losses.sparse_softmax_cross_entropy is deprecated. Please use tf.compat.v1.losses.sparse_softmax_cross_entropy instead.\n",
      "\n"
     ]
    }
   ],
   "source": [
    "from tensorflow import keras"
   ]
  },
  {
   "cell_type": "code",
   "execution_count": 4,
   "id": "8856fac3-f26a-4df8-a805-f7b3015539be",
   "metadata": {},
   "outputs": [
    {
     "data": {
      "text/plain": [
       "['csv/anomaly\\\\0.csv',\n",
       " 'csv/anomaly\\\\2.csv',\n",
       " 'csv/anomaly\\\\3.csv',\n",
       " 'csv/anomaly\\\\4.csv',\n",
       " 'csv/anomaly\\\\5.csv']"
      ]
     },
     "execution_count": 4,
     "metadata": {},
     "output_type": "execute_result"
    }
   ],
   "source": [
    "import glob\n",
    "train_path=\"csv/anomaly/*.csv\"\n",
    "files=glob.glob(train_path)\n",
    "files"
   ]
  },
  {
   "cell_type": "code",
   "execution_count": 5,
   "id": "0f40d45f-4875-402a-9f9d-3b6b81704a0e",
   "metadata": {},
   "outputs": [],
   "source": [
    "import pandas as pd\n",
    "import numpy as np\n",
    "dfs=[ pd.read_csv(name) for name in files]"
   ]
  },
  {
   "cell_type": "code",
   "execution_count": 6,
   "id": "fa65c158-befc-4882-9880-9aa0c2c8a3da",
   "metadata": {},
   "outputs": [
    {
     "data": {
      "text/plain": [
       "Index(['frame', 'time', 'blurriness', 'lighting_change', 'block', 'movement',\n",
       "       'normal', 'has_blur', 'has_move', 'has_overexposure', 'has_block'],\n",
       "      dtype='object')"
      ]
     },
     "execution_count": 6,
     "metadata": {},
     "output_type": "execute_result"
    }
   ],
   "source": [
    "dfs[3].columns"
   ]
  },
  {
   "cell_type": "code",
   "execution_count": 72,
   "id": "0d57c4fc-f6b9-4137-ba19-a8994798ac70",
   "metadata": {
    "scrolled": true
   },
   "outputs": [
    {
     "name": "stdout",
     "output_type": "stream",
     "text": [
      "frame               0\n",
      "time                0\n",
      "blurriness          0\n",
      "lighting_change     0\n",
      "block               0\n",
      "movement            0\n",
      "normal              0\n",
      "has_blur            0\n",
      "has_move            0\n",
      "has_overexposure    0\n",
      "has_block           0\n",
      "dtype: int64\n",
      "frame               0\n",
      "time                0\n",
      "blurriness          0\n",
      "lighting_change     0\n",
      "block               0\n",
      "movement            0\n",
      "normal              0\n",
      "has_blur            0\n",
      "has_move            0\n",
      "has_overexposure    0\n",
      "has_block           0\n",
      "dtype: int64\n",
      "frame               0\n",
      "time                0\n",
      "blurriness          0\n",
      "lighting_change     0\n",
      "block               0\n",
      "movement            0\n",
      "normal              0\n",
      "has_blur            0\n",
      "has_move            0\n",
      "has_overexposure    0\n",
      "has_block           0\n",
      "dtype: int64\n",
      "frame               0\n",
      "time                0\n",
      "blurriness          0\n",
      "lighting_change     0\n",
      "block               0\n",
      "movement            0\n",
      "normal              0\n",
      "has_blur            0\n",
      "has_move            0\n",
      "has_overexposure    0\n",
      "has_block           0\n",
      "dtype: int64\n",
      "frame               0\n",
      "time                0\n",
      "blurriness          0\n",
      "lighting_change     0\n",
      "block               0\n",
      "movement            0\n",
      "normal              0\n",
      "has_blur            0\n",
      "has_move            0\n",
      "has_overexposure    0\n",
      "has_block           0\n",
      "dtype: int64\n"
     ]
    }
   ],
   "source": [
    "Xs_train,ys_train=[],[]\n",
    "X_val,y_val=None,None\n",
    "labels=['normal', 'has_blur', 'has_move', 'has_overexposure', 'has_block']\n",
    "for i,df in enumerate(dfs):\n",
    "    print(df.isna().sum())\n",
    "    if i==4-1:\n",
    "        X_val,y_val=df.drop(labels,axis=1),df[labels]\n",
    "    else:\n",
    "        Xs_train.append(df.drop(labels,axis=1))\n",
    "        ys_train.append(df[labels])\n",
    "    "
   ]
  },
  {
   "cell_type": "code",
   "execution_count": 19,
   "id": "6039d70c-1a7f-46b5-9d69-d934d520ab85",
   "metadata": {},
   "outputs": [],
   "source": [
    "from sklearn.preprocessing import StandardScaler\n",
    "scaler=StandardScaler()"
   ]
  },
  {
   "cell_type": "code",
   "execution_count": 73,
   "id": "469e3fd1-4e5b-49c3-9074-d355008d8429",
   "metadata": {},
   "outputs": [],
   "source": [
    "#Маштабирование\n",
    "Xs_train_scaled=[]\n",
    "Xs_train_scaled.append(scaler.fit_transform(Xs_train[0]))\n",
    "Xs_train_scaled+=[scaler.transform(X) for X in Xs_train[1:]]\n",
    "\n",
    "ys_train_np=[y.values for y in ys_train]\n",
    "\n",
    "X_val_scaled,y_val_np=scaler.transform(X_val),y_val.values"
   ]
  },
  {
   "cell_type": "code",
   "execution_count": 107,
   "id": "3b3ac943-d442-413d-8ff2-23d0d170f5a9",
   "metadata": {},
   "outputs": [],
   "source": [
    "def reshape_to_time_pockets(X,y,timesteps):\n",
    "    print(X.shape,y.shape)\n",
    "    n_packs=X.shape[0]//timesteps*timesteps\n",
    "    X_take=X[:n_packs]\n",
    "    y_take=y[:n_packs]\n",
    "    print(X_take.shape,y_take.shape)\n",
    "    return X_take.reshape(n_packs//timesteps,timesteps,X.shape[1]),y_take.reshape(n_packs//timesteps,timesteps,y.shape[1])"
   ]
  },
  {
   "cell_type": "code",
   "execution_count": 197,
   "id": "4ea453a7-7a8b-403a-9f29-29e1050df015",
   "metadata": {},
   "outputs": [
    {
     "name": "stdout",
     "output_type": "stream",
     "text": [
      "(5062, 6) (5062, 5)\n",
      "(5062, 6) (5062, 5)\n",
      "(18822, 6) (18822, 5)\n",
      "(18822, 6) (18822, 5)\n",
      "(29838, 6) (29838, 5)\n",
      "(29838, 6) (29838, 5)\n",
      "(3518, 6) (3518, 5)\n",
      "(3518, 6) (3518, 5)\n",
      "(18088, 6) (18088, 5)\n",
      "(18088, 6) (18088, 5)\n"
     ]
    }
   ],
   "source": [
    "timesteps=1\n",
    "\n",
    "X_val_timesteps,y_val_timesteps=reshape_to_time_pockets(X_val_scaled,y_val_np,timesteps)\n",
    "Xs_train_timesteps,ys_train_timesteps=[],[]\n",
    "for X_ts,y_ts in zip(Xs_train_scaled,ys_train_np):\n",
    "    X,y=reshape_to_time_pockets(X_ts,y_ts,timesteps)\n",
    "    Xs_train_timesteps.append(X)\n",
    "    ys_train_timesteps.append(y)\n",
    "    "
   ]
  },
  {
   "cell_type": "code",
   "execution_count": 207,
   "id": "5fabba87-a37f-47aa-8065-b4e98ec1a143",
   "metadata": {},
   "outputs": [
    {
     "name": "stdout",
     "output_type": "stream",
     "text": [
      "Model: \"sequential_51\"\n",
      "_________________________________________________________________\n",
      " Layer (type)                Output Shape              Param #   \n",
      "=================================================================\n",
      " dense_77 (Dense)            (None, 1, 6)              42        \n",
      "                                                                 \n",
      " dense_78 (Dense)            (None, 1, 32)             224       \n",
      "                                                                 \n",
      " dropout_8 (Dropout)         (None, 1, 32)             0         \n",
      "                                                                 \n",
      " dense_79 (Dense)            (None, 1, 16)             528       \n",
      "                                                                 \n",
      " dropout_9 (Dropout)         (None, 1, 16)             0         \n",
      "                                                                 \n",
      " dense_80 (Dense)            (None, 1, 5)              85        \n",
      "                                                                 \n",
      "=================================================================\n",
      "Total params: 879 (3.43 KB)\n",
      "Trainable params: 879 (3.43 KB)\n",
      "Non-trainable params: 0 (0.00 Byte)\n",
      "_________________________________________________________________\n"
     ]
    }
   ],
   "source": [
    "#Норм 0 фокус 1 засвет 2 движение 3\n",
    "\n",
    "model=keras.Sequential([\n",
    "    keras.layers.LSTM(128,input_shape=(timesteps,6),activation=\"tanh\",return_sequences=True),\n",
    "    keras.layers.SimpleRNN(64,input_shape=(timesteps,6),activation=\"tanh\",return_sequences=True),\n",
    "    keras.layers.Dense(6,input_shape=(timesteps,6),activation=\"relu\"),\n",
    "    keras.layers.Dense(32,activation=\"relu\"),\n",
    "    keras.layers.Dropout(rate=0.7),\n",
    "    keras.layers.Dense(16,activation=\"relu\"),\n",
    "    keras.layers.Dropout(rate=0.7),\n",
    "    keras.layers.Dense(5,activation=\"sigmoid\")\n",
    "])\n",
    "model.compile(loss=\"categorical_crossentropy\",optimizer=\"sgd\",metrics=[\"accuracy\"])\n",
    "model.summary()"
   ]
  },
  {
   "cell_type": "code",
   "execution_count": 208,
   "id": "5a2024e3-2eb3-42b2-a60a-a6603fe32b59",
   "metadata": {},
   "outputs": [
    {
     "data": {
      "text/plain": [
       "((5062, 6), (5062, 5))"
      ]
     },
     "execution_count": 208,
     "metadata": {},
     "output_type": "execute_result"
    }
   ],
   "source": [
    "X_val_scaled.shape,y_val_np.shape"
   ]
  },
  {
   "cell_type": "code",
   "execution_count": 209,
   "id": "cbaaffd6-075d-46f0-a069-54b8383938b3",
   "metadata": {},
   "outputs": [
    {
     "name": "stdout",
     "output_type": "stream",
     "text": [
      "(18822, 1, 6) (18822, 1, 5)\n",
      "Epoch 1/30\n",
      "189/189 [==============================] - 1s 3ms/step - loss: 0.8614 - accuracy: 0.8607 - val_loss: 3.4913 - val_accuracy: 0.4609\n",
      "Epoch 2/30\n",
      "189/189 [==============================] - 0s 2ms/step - loss: 0.4354 - accuracy: 0.9552 - val_loss: 4.5087 - val_accuracy: 0.4609\n",
      "Epoch 3/30\n",
      "189/189 [==============================] - 0s 2ms/step - loss: 0.3368 - accuracy: 0.9575 - val_loss: 5.0027 - val_accuracy: 0.4609\n",
      "Epoch 4/30\n",
      "189/189 [==============================] - 0s 2ms/step - loss: 0.2947 - accuracy: 0.9574 - val_loss: 5.2532 - val_accuracy: 0.4609\n",
      "Epoch 5/30\n",
      "189/189 [==============================] - 0s 2ms/step - loss: 0.2636 - accuracy: 0.9575 - val_loss: 5.5220 - val_accuracy: 0.4609\n",
      "Epoch 6/30\n",
      "189/189 [==============================] - 0s 2ms/step - loss: 0.2477 - accuracy: 0.9575 - val_loss: 5.7072 - val_accuracy: 0.4609\n",
      "Epoch 7/30\n",
      "189/189 [==============================] - 0s 2ms/step - loss: 0.2331 - accuracy: 0.9575 - val_loss: 5.9168 - val_accuracy: 0.4609\n",
      "Epoch 8/30\n",
      "189/189 [==============================] - 0s 2ms/step - loss: 0.2240 - accuracy: 0.9575 - val_loss: 6.1449 - val_accuracy: 0.4609\n",
      "Epoch 9/30\n",
      "189/189 [==============================] - 0s 2ms/step - loss: 0.2182 - accuracy: 0.9575 - val_loss: 6.3322 - val_accuracy: 0.4609\n",
      "Epoch 10/30\n",
      "189/189 [==============================] - 0s 2ms/step - loss: 0.2122 - accuracy: 0.9575 - val_loss: 6.5212 - val_accuracy: 0.4609\n",
      "Epoch 11/30\n",
      "189/189 [==============================] - 0s 2ms/step - loss: 0.2066 - accuracy: 0.9575 - val_loss: 6.7070 - val_accuracy: 0.4609\n",
      "Epoch 12/30\n",
      "189/189 [==============================] - 0s 2ms/step - loss: 0.2028 - accuracy: 0.9575 - val_loss: 6.9214 - val_accuracy: 0.4609\n",
      "Epoch 13/30\n",
      "189/189 [==============================] - 0s 2ms/step - loss: 0.2015 - accuracy: 0.9575 - val_loss: 7.0646 - val_accuracy: 0.4609\n",
      "Epoch 14/30\n",
      "189/189 [==============================] - 0s 2ms/step - loss: 0.1998 - accuracy: 0.9575 - val_loss: 7.2256 - val_accuracy: 0.4609\n",
      "Epoch 15/30\n",
      "189/189 [==============================] - 0s 2ms/step - loss: 0.1972 - accuracy: 0.9575 - val_loss: 7.3816 - val_accuracy: 0.4609\n",
      "Epoch 16/30\n",
      "189/189 [==============================] - 0s 2ms/step - loss: 0.1958 - accuracy: 0.9575 - val_loss: 7.5207 - val_accuracy: 0.4609\n",
      "Epoch 17/30\n",
      "189/189 [==============================] - 0s 2ms/step - loss: 0.1931 - accuracy: 0.9575 - val_loss: 7.6727 - val_accuracy: 0.4609\n",
      "Epoch 18/30\n",
      "189/189 [==============================] - 0s 2ms/step - loss: 0.1934 - accuracy: 0.9575 - val_loss: 7.7990 - val_accuracy: 0.4609\n",
      "Epoch 19/30\n",
      "189/189 [==============================] - 0s 2ms/step - loss: 0.1932 - accuracy: 0.9575 - val_loss: 7.9300 - val_accuracy: 0.4609\n",
      "Epoch 20/30\n",
      "189/189 [==============================] - 0s 2ms/step - loss: 0.1918 - accuracy: 0.9575 - val_loss: 8.0308 - val_accuracy: 0.4609\n",
      "Epoch 21/30\n",
      "189/189 [==============================] - 0s 2ms/step - loss: 0.1890 - accuracy: 0.9575 - val_loss: 8.2175 - val_accuracy: 0.4609\n",
      "Epoch 22/30\n",
      "189/189 [==============================] - 0s 2ms/step - loss: 0.1895 - accuracy: 0.9575 - val_loss: 8.3542 - val_accuracy: 0.4609\n",
      "Epoch 23/30\n",
      "189/189 [==============================] - 0s 2ms/step - loss: 0.1875 - accuracy: 0.9575 - val_loss: 8.5022 - val_accuracy: 0.4609\n",
      "Epoch 24/30\n",
      "189/189 [==============================] - 0s 2ms/step - loss: 0.1876 - accuracy: 0.9575 - val_loss: 8.6372 - val_accuracy: 0.4609\n",
      "Epoch 25/30\n",
      "189/189 [==============================] - 0s 2ms/step - loss: 0.1865 - accuracy: 0.9575 - val_loss: 8.7735 - val_accuracy: 0.4609\n",
      "Epoch 26/30\n",
      "189/189 [==============================] - 0s 2ms/step - loss: 0.1860 - accuracy: 0.9575 - val_loss: 8.8943 - val_accuracy: 0.4609\n",
      "Epoch 27/30\n",
      "189/189 [==============================] - 0s 2ms/step - loss: 0.1854 - accuracy: 0.9575 - val_loss: 9.0253 - val_accuracy: 0.4609\n",
      "Epoch 28/30\n",
      "189/189 [==============================] - 0s 2ms/step - loss: 0.1841 - accuracy: 0.9575 - val_loss: 9.1537 - val_accuracy: 0.4609\n",
      "Epoch 29/30\n",
      "189/189 [==============================] - 0s 2ms/step - loss: 0.1848 - accuracy: 0.9575 - val_loss: 9.2511 - val_accuracy: 0.4609\n",
      "Epoch 30/30\n",
      "189/189 [==============================] - 0s 2ms/step - loss: 0.1833 - accuracy: 0.9575 - val_loss: 9.3961 - val_accuracy: 0.4609\n",
      "(29838, 1, 6) (29838, 1, 5)\n",
      "Epoch 1/30\n",
      "299/299 [==============================] - 1s 2ms/step - loss: 1.0227 - accuracy: 0.7824 - val_loss: 4.8903 - val_accuracy: 0.4609\n",
      "Epoch 2/30\n",
      "299/299 [==============================] - 1s 2ms/step - loss: 0.7440 - accuracy: 0.7824 - val_loss: 4.4415 - val_accuracy: 0.4609\n",
      "Epoch 3/30\n",
      "299/299 [==============================] - 1s 2ms/step - loss: 0.6797 - accuracy: 0.7824 - val_loss: 4.4961 - val_accuracy: 0.4609\n",
      "Epoch 4/30\n",
      "299/299 [==============================] - 1s 2ms/step - loss: 0.6567 - accuracy: 0.7823 - val_loss: 4.6730 - val_accuracy: 0.4609\n",
      "Epoch 5/30\n",
      "299/299 [==============================] - 1s 2ms/step - loss: 0.6451 - accuracy: 0.7824 - val_loss: 4.8376 - val_accuracy: 0.4609\n",
      "Epoch 6/30\n",
      "299/299 [==============================] - 0s 2ms/step - loss: 0.6380 - accuracy: 0.7823 - val_loss: 4.9660 - val_accuracy: 0.4609\n",
      "Epoch 7/30\n",
      "299/299 [==============================] - 1s 2ms/step - loss: 0.6322 - accuracy: 0.7822 - val_loss: 5.0867 - val_accuracy: 0.4609\n",
      "Epoch 8/30\n",
      "299/299 [==============================] - 1s 2ms/step - loss: 0.6306 - accuracy: 0.7822 - val_loss: 5.2003 - val_accuracy: 0.4609\n",
      "Epoch 9/30\n",
      "299/299 [==============================] - 1s 2ms/step - loss: 0.6276 - accuracy: 0.7818 - val_loss: 5.3222 - val_accuracy: 0.4609\n",
      "Epoch 10/30\n",
      "299/299 [==============================] - 1s 2ms/step - loss: 0.6239 - accuracy: 0.7819 - val_loss: 5.4325 - val_accuracy: 0.4609\n",
      "Epoch 11/30\n",
      "299/299 [==============================] - 1s 2ms/step - loss: 0.6206 - accuracy: 0.7812 - val_loss: 5.5532 - val_accuracy: 0.4609\n",
      "Epoch 12/30\n",
      "299/299 [==============================] - 1s 2ms/step - loss: 0.6179 - accuracy: 0.7809 - val_loss: 5.6852 - val_accuracy: 0.4609\n",
      "Epoch 13/30\n",
      "299/299 [==============================] - 1s 2ms/step - loss: 0.6149 - accuracy: 0.7808 - val_loss: 5.8266 - val_accuracy: 0.4609\n",
      "Epoch 14/30\n",
      "299/299 [==============================] - 1s 2ms/step - loss: 0.6102 - accuracy: 0.7818 - val_loss: 6.0073 - val_accuracy: 0.4609\n",
      "Epoch 15/30\n",
      "299/299 [==============================] - 1s 2ms/step - loss: 0.6063 - accuracy: 0.7830 - val_loss: 6.1943 - val_accuracy: 0.4609\n",
      "Epoch 16/30\n",
      "299/299 [==============================] - 1s 2ms/step - loss: 0.6035 - accuracy: 0.7845 - val_loss: 6.4547 - val_accuracy: 0.4609\n",
      "Epoch 17/30\n",
      "299/299 [==============================] - 1s 2ms/step - loss: 0.5980 - accuracy: 0.7878 - val_loss: 6.8188 - val_accuracy: 0.4609\n",
      "Epoch 18/30\n",
      "299/299 [==============================] - 1s 2ms/step - loss: 0.5905 - accuracy: 0.7911 - val_loss: 7.1894 - val_accuracy: 0.4609\n",
      "Epoch 19/30\n",
      "299/299 [==============================] - 1s 2ms/step - loss: 0.5844 - accuracy: 0.7976 - val_loss: 7.6690 - val_accuracy: 0.4609\n",
      "Epoch 20/30\n",
      "299/299 [==============================] - 1s 2ms/step - loss: 0.5853 - accuracy: 0.8034 - val_loss: 8.2174 - val_accuracy: 0.4609\n",
      "Epoch 21/30\n",
      "299/299 [==============================] - 1s 2ms/step - loss: 0.5952 - accuracy: 0.8078 - val_loss: 9.0060 - val_accuracy: 0.4609\n",
      "Epoch 22/30\n",
      "299/299 [==============================] - 1s 2ms/step - loss: 0.6890 - accuracy: 0.8094 - val_loss: 10.1641 - val_accuracy: 0.4609\n",
      "Epoch 23/30\n",
      "299/299 [==============================] - 1s 2ms/step - loss: 0.7129 - accuracy: 0.8088 - val_loss: 10.9700 - val_accuracy: 0.4609\n",
      "Epoch 24/30\n",
      "299/299 [==============================] - 1s 2ms/step - loss: 0.8544 - accuracy: 0.8148 - val_loss: 11.5662 - val_accuracy: 0.4609\n",
      "Epoch 25/30\n",
      "299/299 [==============================] - 1s 2ms/step - loss: 1.0009 - accuracy: 0.8101 - val_loss: 12.7741 - val_accuracy: 0.4609\n",
      "Epoch 26/30\n",
      "299/299 [==============================] - 1s 2ms/step - loss: 1.1489 - accuracy: 0.8157 - val_loss: 15.4448 - val_accuracy: 0.4609\n",
      "Epoch 27/30\n",
      "299/299 [==============================] - 1s 2ms/step - loss: 1.6250 - accuracy: 0.8135 - val_loss: 16.3134 - val_accuracy: 0.4609\n",
      "Epoch 28/30\n",
      "299/299 [==============================] - 1s 2ms/step - loss: 1.4628 - accuracy: 0.8155 - val_loss: 18.1647 - val_accuracy: 0.4609\n",
      "Epoch 29/30\n",
      "299/299 [==============================] - 1s 2ms/step - loss: 3.3191 - accuracy: 0.8151 - val_loss: 16.7921 - val_accuracy: 0.4609\n",
      "Epoch 30/30\n",
      "299/299 [==============================] - 1s 2ms/step - loss: 0.7875 - accuracy: 0.7831 - val_loss: 18.0453 - val_accuracy: 0.4609\n",
      "(3518, 1, 6) (3518, 1, 5)\n",
      "Epoch 1/30\n",
      "36/36 [==============================] - 0s 5ms/step - loss: 4.8545 - accuracy: 0.3073 - val_loss: 1577.4065 - val_accuracy: 0.0000e+00\n",
      "Epoch 2/30\n",
      "36/36 [==============================] - 0s 4ms/step - loss: 242207.5625 - accuracy: 0.3806 - val_loss: 21.2446 - val_accuracy: 0.4609\n",
      "Epoch 3/30\n",
      "36/36 [==============================] - 0s 4ms/step - loss: 2.7108 - accuracy: 0.1347 - val_loss: 21.1851 - val_accuracy: 0.4609\n",
      "Epoch 4/30\n",
      "36/36 [==============================] - 0s 4ms/step - loss: 2.4896 - accuracy: 0.1347 - val_loss: 21.1446 - val_accuracy: 0.4609\n",
      "Epoch 5/30\n",
      "36/36 [==============================] - 0s 4ms/step - loss: 2.3086 - accuracy: 0.3764 - val_loss: 21.1183 - val_accuracy: 0.6460\n",
      "Epoch 6/30\n",
      "36/36 [==============================] - 0s 4ms/step - loss: 2.1581 - accuracy: 0.7041 - val_loss: 21.1028 - val_accuracy: 0.6466\n",
      "Epoch 7/30\n",
      "36/36 [==============================] - 0s 4ms/step - loss: 2.0314 - accuracy: 0.7041 - val_loss: 21.0952 - val_accuracy: 0.6478\n",
      "Epoch 8/30\n",
      "36/36 [==============================] - 0s 4ms/step - loss: 1.9234 - accuracy: 0.7041 - val_loss: 21.0937 - val_accuracy: 0.6495\n",
      "Epoch 9/30\n",
      "36/36 [==============================] - 0s 4ms/step - loss: 1.8310 - accuracy: 0.7041 - val_loss: 21.0968 - val_accuracy: 0.6511\n",
      "Epoch 10/30\n",
      "36/36 [==============================] - 0s 4ms/step - loss: 1.7518 - accuracy: 0.7041 - val_loss: 21.1037 - val_accuracy: 0.6513\n",
      "Epoch 11/30\n",
      "36/36 [==============================] - 0s 4ms/step - loss: 1.6842 - accuracy: 0.7041 - val_loss: 21.1134 - val_accuracy: 0.6511\n",
      "Epoch 12/30\n",
      "36/36 [==============================] - 0s 3ms/step - loss: 1.6267 - accuracy: 0.7041 - val_loss: 21.1254 - val_accuracy: 0.6515\n",
      "Epoch 13/30\n",
      "36/36 [==============================] - 0s 4ms/step - loss: 1.5781 - accuracy: 0.7041 - val_loss: 21.1391 - val_accuracy: 0.6519\n",
      "Epoch 14/30\n",
      "36/36 [==============================] - 0s 4ms/step - loss: 1.5374 - accuracy: 0.7041 - val_loss: 21.1541 - val_accuracy: 0.6527\n",
      "Epoch 15/30\n",
      "36/36 [==============================] - 0s 4ms/step - loss: 1.5036 - accuracy: 0.7041 - val_loss: 21.1701 - val_accuracy: 0.6529\n",
      "Epoch 16/30\n",
      "36/36 [==============================] - 0s 4ms/step - loss: 1.4757 - accuracy: 0.7041 - val_loss: 21.1866 - val_accuracy: 0.6531\n",
      "Epoch 17/30\n",
      "36/36 [==============================] - 0s 4ms/step - loss: 1.4529 - accuracy: 0.7041 - val_loss: 21.2035 - val_accuracy: 0.6537\n",
      "Epoch 18/30\n",
      "36/36 [==============================] - 0s 4ms/step - loss: 1.4344 - accuracy: 0.7041 - val_loss: 21.2206 - val_accuracy: 0.6543\n",
      "Epoch 19/30\n",
      "36/36 [==============================] - 0s 4ms/step - loss: 1.4194 - accuracy: 0.7041 - val_loss: 21.2377 - val_accuracy: 0.6545\n",
      "Epoch 20/30\n",
      "36/36 [==============================] - 0s 4ms/step - loss: 1.4074 - accuracy: 0.7041 - val_loss: 21.2546 - val_accuracy: 0.6545\n",
      "Epoch 21/30\n",
      "36/36 [==============================] - 0s 4ms/step - loss: 1.3978 - accuracy: 0.7041 - val_loss: 21.2713 - val_accuracy: 0.6547\n",
      "Epoch 22/30\n",
      "36/36 [==============================] - 0s 4ms/step - loss: 1.3902 - accuracy: 0.7041 - val_loss: 21.2878 - val_accuracy: 0.6547\n",
      "Epoch 23/30\n",
      "36/36 [==============================] - 0s 4ms/step - loss: 1.3843 - accuracy: 0.7041 - val_loss: 21.3040 - val_accuracy: 0.6547\n",
      "Epoch 24/30\n",
      "36/36 [==============================] - 0s 4ms/step - loss: 1.3797 - accuracy: 0.7041 - val_loss: 21.3199 - val_accuracy: 0.6545\n",
      "Epoch 25/30\n",
      "36/36 [==============================] - 0s 4ms/step - loss: 1.3762 - accuracy: 0.7041 - val_loss: 21.3355 - val_accuracy: 0.6547\n",
      "Epoch 26/30\n",
      "36/36 [==============================] - 0s 4ms/step - loss: 1.3737 - accuracy: 0.7041 - val_loss: 21.3508 - val_accuracy: 0.6547\n",
      "Epoch 27/30\n",
      "36/36 [==============================] - 0s 3ms/step - loss: 1.3719 - accuracy: 0.7041 - val_loss: 21.3658 - val_accuracy: 0.6547\n",
      "Epoch 28/30\n",
      "36/36 [==============================] - 0s 4ms/step - loss: 1.3707 - accuracy: 0.7041 - val_loss: 21.3805 - val_accuracy: 0.6547\n",
      "Epoch 29/30\n",
      "36/36 [==============================] - 0s 4ms/step - loss: 1.3700 - accuracy: 0.7041 - val_loss: 21.3949 - val_accuracy: 0.6549\n",
      "Epoch 30/30\n",
      "36/36 [==============================] - 0s 4ms/step - loss: 1.3697 - accuracy: 0.7041 - val_loss: 21.4092 - val_accuracy: 0.6549\n",
      "(18088, 1, 6) (18088, 1, 5)\n",
      "Epoch 1/30\n",
      "181/181 [==============================] - 0s 2ms/step - loss: 2.3331 - accuracy: 0.2133 - val_loss: 7.7408 - val_accuracy: 3.9510e-04\n",
      "Epoch 2/30\n",
      "181/181 [==============================] - 0s 2ms/step - loss: 1.6137 - accuracy: 0.3361 - val_loss: 1.8914 - val_accuracy: 0.4609\n",
      "Epoch 3/30\n",
      "181/181 [==============================] - 0s 2ms/step - loss: 1.0688 - accuracy: 0.6596 - val_loss: 1.8933 - val_accuracy: 0.4609\n",
      "Epoch 4/30\n",
      "181/181 [==============================] - 0s 2ms/step - loss: 1.0037 - accuracy: 0.6596 - val_loss: 1.9183 - val_accuracy: 0.4609\n",
      "Epoch 5/30\n",
      "181/181 [==============================] - 0s 2ms/step - loss: 0.9838 - accuracy: 0.6596 - val_loss: 1.9359 - val_accuracy: 0.4609\n",
      "Epoch 6/30\n",
      "181/181 [==============================] - 0s 2ms/step - loss: 0.9748 - accuracy: 0.6596 - val_loss: 1.9475 - val_accuracy: 0.4609\n",
      "Epoch 7/30\n",
      "181/181 [==============================] - 0s 2ms/step - loss: 0.9683 - accuracy: 0.6596 - val_loss: 1.9547 - val_accuracy: 0.4609\n",
      "Epoch 8/30\n",
      "181/181 [==============================] - 0s 2ms/step - loss: 0.9646 - accuracy: 0.6596 - val_loss: 1.9581 - val_accuracy: 0.4609\n",
      "Epoch 9/30\n",
      "181/181 [==============================] - 0s 2ms/step - loss: 0.9625 - accuracy: 0.6596 - val_loss: 1.9591 - val_accuracy: 0.4609\n",
      "Epoch 10/30\n",
      "181/181 [==============================] - 0s 2ms/step - loss: 0.9607 - accuracy: 0.6596 - val_loss: 1.9579 - val_accuracy: 0.4609\n",
      "Epoch 11/30\n",
      "181/181 [==============================] - 0s 2ms/step - loss: 0.9586 - accuracy: 0.6596 - val_loss: 1.9551 - val_accuracy: 0.4609\n",
      "Epoch 12/30\n",
      "181/181 [==============================] - 0s 2ms/step - loss: 0.9568 - accuracy: 0.6596 - val_loss: 1.9523 - val_accuracy: 0.4609\n",
      "Epoch 13/30\n",
      "181/181 [==============================] - 0s 2ms/step - loss: 0.9555 - accuracy: 0.6596 - val_loss: 1.9484 - val_accuracy: 0.4609\n",
      "Epoch 14/30\n",
      "181/181 [==============================] - 0s 2ms/step - loss: 0.9537 - accuracy: 0.6596 - val_loss: 1.9445 - val_accuracy: 0.4609\n",
      "Epoch 15/30\n",
      "181/181 [==============================] - 0s 2ms/step - loss: 0.9516 - accuracy: 0.6596 - val_loss: 1.9406 - val_accuracy: 0.4609\n",
      "Epoch 16/30\n",
      "181/181 [==============================] - 0s 2ms/step - loss: 0.9512 - accuracy: 0.6596 - val_loss: 1.9354 - val_accuracy: 0.4609\n",
      "Epoch 17/30\n",
      "181/181 [==============================] - 0s 2ms/step - loss: 0.9498 - accuracy: 0.6596 - val_loss: 1.9304 - val_accuracy: 0.4609\n",
      "Epoch 18/30\n",
      "181/181 [==============================] - 0s 2ms/step - loss: 0.9484 - accuracy: 0.6596 - val_loss: 1.9255 - val_accuracy: 0.4609\n",
      "Epoch 19/30\n",
      "181/181 [==============================] - 0s 2ms/step - loss: 0.9474 - accuracy: 0.6596 - val_loss: 1.9204 - val_accuracy: 0.4609\n",
      "Epoch 20/30\n",
      "181/181 [==============================] - 0s 2ms/step - loss: 0.9470 - accuracy: 0.6596 - val_loss: 1.9147 - val_accuracy: 0.4609\n",
      "Epoch 21/30\n",
      "181/181 [==============================] - 0s 2ms/step - loss: 0.9457 - accuracy: 0.6596 - val_loss: 1.9100 - val_accuracy: 0.4609\n",
      "Epoch 22/30\n",
      "181/181 [==============================] - 0s 2ms/step - loss: 0.9446 - accuracy: 0.6596 - val_loss: 1.9051 - val_accuracy: 0.4609\n",
      "Epoch 23/30\n",
      "181/181 [==============================] - 0s 2ms/step - loss: 0.9437 - accuracy: 0.6596 - val_loss: 1.9005 - val_accuracy: 0.4609\n",
      "Epoch 24/30\n",
      "181/181 [==============================] - 0s 2ms/step - loss: 0.9427 - accuracy: 0.6596 - val_loss: 1.8962 - val_accuracy: 0.4609\n",
      "Epoch 25/30\n",
      "181/181 [==============================] - 0s 2ms/step - loss: 0.9426 - accuracy: 0.6596 - val_loss: 1.8912 - val_accuracy: 0.4609\n",
      "Epoch 26/30\n",
      "181/181 [==============================] - 0s 2ms/step - loss: 0.9419 - accuracy: 0.6596 - val_loss: 1.8863 - val_accuracy: 0.4609\n",
      "Epoch 27/30\n",
      "181/181 [==============================] - 0s 2ms/step - loss: 0.9411 - accuracy: 0.6596 - val_loss: 1.8818 - val_accuracy: 0.4609\n",
      "Epoch 28/30\n",
      "181/181 [==============================] - 0s 2ms/step - loss: 0.9410 - accuracy: 0.6596 - val_loss: 1.8767 - val_accuracy: 0.4609\n",
      "Epoch 29/30\n",
      "181/181 [==============================] - 0s 2ms/step - loss: 0.9400 - accuracy: 0.6596 - val_loss: 1.8735 - val_accuracy: 0.4609\n",
      "Epoch 30/30\n",
      "181/181 [==============================] - 0s 2ms/step - loss: 0.9394 - accuracy: 0.6596 - val_loss: 1.8699 - val_accuracy: 0.4609\n"
     ]
    }
   ],
   "source": [
    "for X_train,y_train in zip(Xs_train_timesteps,ys_train_timesteps):\n",
    "    print(X_train.shape,y_train.shape)\n",
    "    model.fit(X_train,y_train\n",
    "              ,shuffle=False,\n",
    "              validation_data=(X_val_timesteps,y_val_timesteps),batch_size=100,epochs=30)"
   ]
  },
  {
   "cell_type": "code",
   "execution_count": 211,
   "id": "ab9bc046-b1fd-4cd9-9f4c-94ef48e39f2b",
   "metadata": {},
   "outputs": [
    {
     "name": "stdout",
     "output_type": "stream",
     "text": [
      "159/159 [==============================] - 0s 980us/step - loss: 1.8699 - accuracy: 0.4609\n"
     ]
    },
    {
     "data": {
      "text/plain": [
       "[1.869904637336731, 0.46088501811027527]"
      ]
     },
     "execution_count": 211,
     "metadata": {},
     "output_type": "execute_result"
    }
   ],
   "source": [
    "model.evaluate(X_val_timesteps,y_val_timesteps)"
   ]
  },
  {
   "cell_type": "code",
   "execution_count": null,
   "id": "eb8a44e3-9153-43bc-9bac-3fcb67e0d920",
   "metadata": {},
   "outputs": [],
   "source": []
  }
 ],
 "metadata": {
  "kernelspec": {
   "display_name": "Python 3 (ipykernel)",
   "language": "python",
   "name": "python3"
  },
  "language_info": {
   "codemirror_mode": {
    "name": "ipython",
    "version": 3
   },
   "file_extension": ".py",
   "mimetype": "text/x-python",
   "name": "python",
   "nbconvert_exporter": "python",
   "pygments_lexer": "ipython3",
   "version": "3.11.5"
  }
 },
 "nbformat": 4,
 "nbformat_minor": 5
}
