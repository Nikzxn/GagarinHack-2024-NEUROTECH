{
 "cells": [
  {
   "cell_type": "code",
   "execution_count": 1,
   "id": "efd07f3a-c807-49d2-bdf0-eeba601daefa",
   "metadata": {},
   "outputs": [
    {
     "name": "stdout",
     "output_type": "stream",
     "text": [
      "WARNING:tensorflow:From C:\\ml\\my_env\\Lib\\site-packages\\keras\\src\\losses.py:2976: The name tf.losses.sparse_softmax_cross_entropy is deprecated. Please use tf.compat.v1.losses.sparse_softmax_cross_entropy instead.\n",
      "\n"
     ]
    }
   ],
   "source": [
    "from tensorflow import keras"
   ]
  },
  {
   "cell_type": "code",
   "execution_count": 2,
   "id": "5fabba87-a37f-47aa-8065-b4e98ec1a143",
   "metadata": {},
   "outputs": [
    {
     "name": "stdout",
     "output_type": "stream",
     "text": [
      "WARNING:tensorflow:From C:\\ml\\my_env\\Lib\\site-packages\\keras\\src\\layers\\rnn\\simple_rnn.py:130: The name tf.executing_eagerly_outside_functions is deprecated. Please use tf.compat.v1.executing_eagerly_outside_functions instead.\n",
      "\n",
      "WARNING:tensorflow:From C:\\ml\\my_env\\Lib\\site-packages\\keras\\src\\optimizers\\__init__.py:309: The name tf.train.Optimizer is deprecated. Please use tf.compat.v1.train.Optimizer instead.\n",
      "\n"
     ]
    }
   ],
   "source": [
    "#Норм 0 фокус 1 засвет 2 движение 3\n",
    "model=keras.Sequential([\n",
    "    keras.layers.SimpleRNN(5,input_shape=[None,5],activation=\"tanh\",return_sequences=True),\n",
    "    keras.layers.SimpleRNN(100,input_shape=[None,5],activation=\"tanh\",return_sequences=True),\n",
    "    keras.layers.Dense(50,activation=\"relu\"),\n",
    "    keras.layers.Dense(4,activation=\"softmax\")\n",
    "])\n",
    "model.compile(loss=\"spare_categorical_crossentropy\",optimizer=\"adam\",metrics=[\"accuracy\"])\n"
   ]
  },
  {
   "cell_type": "code",
   "execution_count": 3,
   "id": "892e1bb2-18df-4d5b-8326-3dad4a12d4b1",
   "metadata": {},
   "outputs": [
    {
     "name": "stdout",
     "output_type": "stream",
     "text": [
      "Model: \"sequential\"\n",
      "_________________________________________________________________\n",
      " Layer (type)                Output Shape              Param #   \n",
      "=================================================================\n",
      " simple_rnn (SimpleRNN)      (None, None, 5)           55        \n",
      "                                                                 \n",
      " simple_rnn_1 (SimpleRNN)    (None, None, 100)         10600     \n",
      "                                                                 \n",
      " dense (Dense)               (None, None, 50)          5050      \n",
      "                                                                 \n",
      " dense_1 (Dense)             (None, None, 4)           204       \n",
      "                                                                 \n",
      "=================================================================\n",
      "Total params: 15909 (62.14 KB)\n",
      "Trainable params: 15909 (62.14 KB)\n",
      "Non-trainable params: 0 (0.00 Byte)\n",
      "_________________________________________________________________\n"
     ]
    }
   ],
   "source": [
    "model.summary()"
   ]
  },
  {
   "cell_type": "code",
   "execution_count": null,
   "id": "8856fac3-f26a-4df8-a805-f7b3015539be",
   "metadata": {},
   "outputs": [],
   "source": []
  }
 ],
 "metadata": {
  "kernelspec": {
   "display_name": "Python 3 (ipykernel)",
   "language": "python",
   "name": "python3"
  },
  "language_info": {
   "codemirror_mode": {
    "name": "ipython",
    "version": 3
   },
   "file_extension": ".py",
   "mimetype": "text/x-python",
   "name": "python",
   "nbconvert_exporter": "python",
   "pygments_lexer": "ipython3",
   "version": "3.11.5"
  }
 },
 "nbformat": 4,
 "nbformat_minor": 5
}
